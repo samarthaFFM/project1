{
  "nbformat": 4,
  "nbformat_minor": 0,
  "metadata": {
    "colab": {
      "name": "RNA-seq workshop @ ASHG19",
      "provenance": [],
      "collapsed_sections": [],
      "include_colab_link": true
    },
    "language_info": {
      "codemirror_mode": "r",
      "file_extension": ".r",
      "mimetype": "text/x-r-source",
      "name": "R",
      "pygments_lexer": "r",
      "version": "3.3.1"
    },
    "kernelspec": {
      "display_name": "R",
      "language": "R",
      "name": "ir"
    }
  },
  "cells": [
    {
      "cell_type": "markdown",
      "metadata": {
        "id": "view-in-github",
        "colab_type": "text"
      },
      "source": [
        "<a href=\"https://colab.research.google.com/github/samarthaFFM/project1/blob/master/RNA_seq_workshop_ASHG19_PRISMES_FAM001.ipynb\" target=\"_parent\"><img src=\"https://colab.research.google.com/assets/colab-badge.svg\" alt=\"Open In Colab\"/></a>"
      ]
    },
    {
      "cell_type": "markdown",
      "metadata": {
        "id": "KH0l_-OMBdkq",
        "colab_type": "text"
      },
      "source": [
        "<h1>RNA-seq workshop @ ASHG 2019</h1>\n",
        "\n",
        "A hands-on rare disease diagnostic workshop on RNA-seq data @ ASHG19\n",
        "\n",
        "The accompanying presentation can be found here: [tinyurl.com/RNA-ASHG-presentation](https://tinyurl.com/RNA-ASHG-presentation).\n",
        "\n",
        "And if any troubles arise please refer to the FAQ [here](https://tinyurl.com/RNA-ASHG-FAQ).\n",
        "\n",
        "---\n",
        "\n",
        "# Setup the notebook\n",
        "\n",
        "To get started we have to setup this IR notebook @ Colab. To do so please run the following code snippet.\n",
        "This will download all necessary software packages for this tutorial. Also, it will download the example datasets used throughout this tutorial."
      ]
    },
    {
      "cell_type": "code",
      "metadata": {
        "colab_type": "code",
        "id": "6xyjPrj6KwOv",
        "colab": {
          "base_uri": "https://localhost:8080/",
          "height": 170
        },
        "outputId": "75c2c6e8-5c10-4af4-d6c6-d95a1879d71b"
      },
      "source": [
        "download.file(destfile=\"r-env-setup-script.R\", \n",
        "    url=\"https://raw.githubusercontent.com/c-mertes/RNAseq-ASHG19/master/r-env-setup-script.R\")\n",
        "source(\"r-env-setup-script.R\")\n",
        "print(\"Setup done\")"
      ],
      "execution_count": null,
      "outputs": [
        {
          "output_type": "stream",
          "text": [
            "Update and install needed Ubuntu packages\n",
            "\n",
            "Download R package cache\n",
            "\n",
            "Unzipping R package cache\n",
            "\n",
            "Retrieve data for tutorials\n",
            "\n"
          ],
          "name": "stderr"
        },
        {
          "output_type": "stream",
          "text": [
            "[1] \"Setup done\"\n"
          ],
          "name": "stdout"
        }
      ]
    },
    {
      "cell_type": "markdown",
      "metadata": {
        "id": "Biavoxr4lQjR",
        "colab_type": "text"
      },
      "source": [
        "To finalize the setup reset the runtime by clicking:\n",
        "\n",
        "```\n",
        "Runtime > Restart runtime > Yes.\n",
        "```\n",
        "\n",
        "Now you are ready for the workshop. Let's get started!\n"
      ]
    },
    {
      "cell_type": "markdown",
      "metadata": {
        "colab_type": "text",
        "id": "a5sGX539KwO0"
      },
      "source": [
        "# Expression Outlier Detection in RNA-seq data\n",
        "\n",
        "A short introduction to expression outlier detection can be found [here](https://docs.google.com/presentation/d/1a7KZ6FXwVmGqF-FMAnz0QTk07WgzRWAbFhSNrUBspIQ/edit#slide=id.g630401e960_5_0).\n",
        "\n",
        "\n",
        "\n"
      ]
    },
    {
      "cell_type": "markdown",
      "metadata": {
        "colab_type": "text",
        "id": "ti4FIhc3KwO2"
      },
      "source": [
        "## Data import\n",
        "---\n",
        "\n",
        "First we have to load the [*OUTRIDER*](http://bioconductor.org/packages/release/bioc/html/OUTRIDER.html) package that we will use to run the full expression outlier analysis. To map ENSEMBL gene names and HGNC symbols we use [*annotables*](https://github.com/stephenturner/annotables). For efficient data handling and visualization we further load [*data.table*](https://cran.r-project.org/web/packages/data.table/index.html), [*ggplot2*](https://cran.r-project.org/web/packages/ggplot2/index.html), and [*ggpubr*](https://cran.r-project.org/web/packages/ggpubr/index.html)."
      ]
    },
    {
      "cell_type": "code",
      "metadata": {
        "colab_type": "code",
        "id": "6LBEs8WkKwO2",
        "colab": {}
      },
      "source": [
        "library(OUTRIDER)\n",
        "library(annotables)\n",
        "library(data.table)\n",
        "library(ggplot2)\n",
        "library(ggpubr)"
      ],
      "execution_count": null,
      "outputs": []
    },
    {
      "cell_type": "markdown",
      "metadata": {
        "colab_type": "text",
        "id": "xY4NaDSwKwO5"
      },
      "source": [
        "For the gene expression outlier detection analysis, we need the raw read counts and a sample annotation. Let's load them into the session.\n",
        "\n",
        "Have a look at the annotations we use and how many genes were counted."
      ]
    },
    {
      "cell_type": "code",
      "metadata": {
        "colab_type": "code",
        "id": "r8Nq2wj4KwO6",
        "colab": {
          "base_uri": "https://localhost:8080/",
          "height": 417
        },
        "outputId": "1decb9bc-7743-4e47-e8f7-d60548434f36"
      },
      "source": [
        "# sample annotation and raw read counts\n",
        "anno <- fread(\"./annotation.tsv\")[, 1:6]\n",
        "cts  <- as.matrix(read.table(\"./outrider/raw_counts.tsv.gz\"))\n",
        "\n",
        "# look into the data\n",
        "head(anno)\n",
        "print(\"Dimensions of the annotation:\")\n",
        "dim(anno)\n",
        "\n",
        "cts[1:5, 1:10]\n",
        "print(\"Dimensions of the count table:\")\n",
        "dim(cts)"
      ],
      "execution_count": null,
      "outputs": [
        {
          "output_type": "display_data",
          "data": {
            "text/plain": [
              "  RNA_ID               SEX    ORIGIN  LAB      INDIVIDUAL phase1TG\n",
              "1 HG00096.1.M_111124_6 male   British UNIGE    HG00096    1       \n",
              "2 HG00103.4.M_120208_3 male   British ICMB     HG00103    1       \n",
              "3 HG00106.4.M_120208_5 female British ICMB     HG00106    1       \n",
              "4 HG00111.2.M_111215_4 female British CNAG_CRG HG00111    1       \n",
              "5 HG00116.2.M_120131_1 male   British CNAG_CRG HG00116    1       \n",
              "6 HG00126.1.M_111124_8 male   British UNIGE    HG00126    1       "
            ],
            "text/latex": "A data.table: 6 × 6\n\\begin{tabular}{llllll}\n RNA\\_ID & SEX & ORIGIN & LAB & INDIVIDUAL & phase1TG\\\\\n <chr> & <chr> & <chr> & <chr> & <chr> & <int>\\\\\n\\hline\n\t HG00096.1.M\\_111124\\_6 & male   & British & UNIGE    & HG00096 & 1\\\\\n\t HG00103.4.M\\_120208\\_3 & male   & British & ICMB     & HG00103 & 1\\\\\n\t HG00106.4.M\\_120208\\_5 & female & British & ICMB     & HG00106 & 1\\\\\n\t HG00111.2.M\\_111215\\_4 & female & British & CNAG\\_CRG & HG00111 & 1\\\\\n\t HG00116.2.M\\_120131\\_1 & male   & British & CNAG\\_CRG & HG00116 & 1\\\\\n\t HG00126.1.M\\_111124\\_8 & male   & British & UNIGE    & HG00126 & 1\\\\\n\\end{tabular}\n",
            "text/markdown": "\nA data.table: 6 × 6\n\n| RNA_ID &lt;chr&gt; | SEX &lt;chr&gt; | ORIGIN &lt;chr&gt; | LAB &lt;chr&gt; | INDIVIDUAL &lt;chr&gt; | phase1TG &lt;int&gt; |\n|---|---|---|---|---|---|\n| HG00096.1.M_111124_6 | male   | British | UNIGE    | HG00096 | 1 |\n| HG00103.4.M_120208_3 | male   | British | ICMB     | HG00103 | 1 |\n| HG00106.4.M_120208_5 | female | British | ICMB     | HG00106 | 1 |\n| HG00111.2.M_111215_4 | female | British | CNAG_CRG | HG00111 | 1 |\n| HG00116.2.M_120131_1 | male   | British | CNAG_CRG | HG00116 | 1 |\n| HG00126.1.M_111124_8 | male   | British | UNIGE    | HG00126 | 1 |\n\n",
            "text/html": [
              "<table>\n",
              "<caption>A data.table: 6 × 6</caption>\n",
              "<thead>\n",
              "\t<tr><th scope=col>RNA_ID</th><th scope=col>SEX</th><th scope=col>ORIGIN</th><th scope=col>LAB</th><th scope=col>INDIVIDUAL</th><th scope=col>phase1TG</th></tr>\n",
              "\t<tr><th scope=col>&lt;chr&gt;</th><th scope=col>&lt;chr&gt;</th><th scope=col>&lt;chr&gt;</th><th scope=col>&lt;chr&gt;</th><th scope=col>&lt;chr&gt;</th><th scope=col>&lt;int&gt;</th></tr>\n",
              "</thead>\n",
              "<tbody>\n",
              "\t<tr><td>HG00096.1.M_111124_6</td><td>male  </td><td>British</td><td>UNIGE   </td><td>HG00096</td><td>1</td></tr>\n",
              "\t<tr><td>HG00103.4.M_120208_3</td><td>male  </td><td>British</td><td>ICMB    </td><td>HG00103</td><td>1</td></tr>\n",
              "\t<tr><td>HG00106.4.M_120208_5</td><td>female</td><td>British</td><td>ICMB    </td><td>HG00106</td><td>1</td></tr>\n",
              "\t<tr><td>HG00111.2.M_111215_4</td><td>female</td><td>British</td><td>CNAG_CRG</td><td>HG00111</td><td>1</td></tr>\n",
              "\t<tr><td>HG00116.2.M_120131_1</td><td>male  </td><td>British</td><td>CNAG_CRG</td><td>HG00116</td><td>1</td></tr>\n",
              "\t<tr><td>HG00126.1.M_111124_8</td><td>male  </td><td>British</td><td>UNIGE   </td><td>HG00126</td><td>1</td></tr>\n",
              "</tbody>\n",
              "</table>\n"
            ]
          },
          "metadata": {
            "tags": []
          }
        },
        {
          "output_type": "stream",
          "text": [
            "[1] \"Dimensions of the annotation:\"\n"
          ],
          "name": "stdout"
        },
        {
          "output_type": "display_data",
          "data": {
            "text/plain": [
              "[1] 100   6"
            ],
            "text/latex": "\\begin{enumerate*}\n\\item 100\n\\item 6\n\\end{enumerate*}\n",
            "text/markdown": "1. 100\n2. 6\n\n\n",
            "text/html": [
              "<style>\n",
              ".list-inline {list-style: none; margin:0; padding: 0}\n",
              ".list-inline>li {display: inline-block}\n",
              ".list-inline>li:not(:last-child)::after {content: \"\\00b7\"; padding: 0 .5ex}\n",
              "</style>\n",
              "<ol class=list-inline><li>100</li><li>6</li></ol>\n"
            ]
          },
          "metadata": {
            "tags": []
          }
        },
        {
          "output_type": "display_data",
          "data": {
            "text/plain": [
              "                     HG00096 HG00103 HG00106 HG00111 HG00116 HG00126 HG00132\n",
              "ENSG00000000003.14_2   1        3       1      15      1       5        0   \n",
              "ENSG00000000005.5_2    0        0       0       0      0       0        0   \n",
              "ENSG00000000419.12_2 853     1131    1148    1341    863     948     1363   \n",
              "ENSG00000000457.13_3 413      438     510     482    385     583      547   \n",
              "ENSG00000000460.16_5 338      262     470     547    472     503      725   \n",
              "                     HG00149 HG00150 HG00176\n",
              "ENSG00000000003.14_2   3        5       0   \n",
              "ENSG00000000005.5_2    0        0       0   \n",
              "ENSG00000000419.12_2 671     1452    1070   \n",
              "ENSG00000000457.13_3 442      504     337   \n",
              "ENSG00000000460.16_5 514      596     320   "
            ],
            "text/latex": "A matrix: 5 × 10 of type int\n\\begin{tabular}{r|llllllllll}\n  & HG00096 & HG00103 & HG00106 & HG00111 & HG00116 & HG00126 & HG00132 & HG00149 & HG00150 & HG00176\\\\\n\\hline\n\tENSG00000000003.14\\_2 &   1 &    3 &    1 &   15 &   1 &   5 &    0 &   3 &    5 &    0\\\\\n\tENSG00000000005.5\\_2 &   0 &    0 &    0 &    0 &   0 &   0 &    0 &   0 &    0 &    0\\\\\n\tENSG00000000419.12\\_2 & 853 & 1131 & 1148 & 1341 & 863 & 948 & 1363 & 671 & 1452 & 1070\\\\\n\tENSG00000000457.13\\_3 & 413 &  438 &  510 &  482 & 385 & 583 &  547 & 442 &  504 &  337\\\\\n\tENSG00000000460.16\\_5 & 338 &  262 &  470 &  547 & 472 & 503 &  725 & 514 &  596 &  320\\\\\n\\end{tabular}\n",
            "text/markdown": "\nA matrix: 5 × 10 of type int\n\n| <!--/--> | HG00096 | HG00103 | HG00106 | HG00111 | HG00116 | HG00126 | HG00132 | HG00149 | HG00150 | HG00176 |\n|---|---|---|---|---|---|---|---|---|---|---|\n| ENSG00000000003.14_2 |   1 |    3 |    1 |   15 |   1 |   5 |    0 |   3 |    5 |    0 |\n| ENSG00000000005.5_2 |   0 |    0 |    0 |    0 |   0 |   0 |    0 |   0 |    0 |    0 |\n| ENSG00000000419.12_2 | 853 | 1131 | 1148 | 1341 | 863 | 948 | 1363 | 671 | 1452 | 1070 |\n| ENSG00000000457.13_3 | 413 |  438 |  510 |  482 | 385 | 583 |  547 | 442 |  504 |  337 |\n| ENSG00000000460.16_5 | 338 |  262 |  470 |  547 | 472 | 503 |  725 | 514 |  596 |  320 |\n\n",
            "text/html": [
              "<table>\n",
              "<caption>A matrix: 5 × 10 of type int</caption>\n",
              "<thead>\n",
              "\t<tr><th></th><th scope=col>HG00096</th><th scope=col>HG00103</th><th scope=col>HG00106</th><th scope=col>HG00111</th><th scope=col>HG00116</th><th scope=col>HG00126</th><th scope=col>HG00132</th><th scope=col>HG00149</th><th scope=col>HG00150</th><th scope=col>HG00176</th></tr>\n",
              "</thead>\n",
              "<tbody>\n",
              "\t<tr><th scope=row>ENSG00000000003.14_2</th><td>  1</td><td>   3</td><td>   1</td><td>  15</td><td>  1</td><td>  5</td><td>   0</td><td>  3</td><td>   5</td><td>   0</td></tr>\n",
              "\t<tr><th scope=row>ENSG00000000005.5_2</th><td>  0</td><td>   0</td><td>   0</td><td>   0</td><td>  0</td><td>  0</td><td>   0</td><td>  0</td><td>   0</td><td>   0</td></tr>\n",
              "\t<tr><th scope=row>ENSG00000000419.12_2</th><td>853</td><td>1131</td><td>1148</td><td>1341</td><td>863</td><td>948</td><td>1363</td><td>671</td><td>1452</td><td>1070</td></tr>\n",
              "\t<tr><th scope=row>ENSG00000000457.13_3</th><td>413</td><td> 438</td><td> 510</td><td> 482</td><td>385</td><td>583</td><td> 547</td><td>442</td><td> 504</td><td> 337</td></tr>\n",
              "\t<tr><th scope=row>ENSG00000000460.16_5</th><td>338</td><td> 262</td><td> 470</td><td> 547</td><td>472</td><td>503</td><td> 725</td><td>514</td><td> 596</td><td> 320</td></tr>\n",
              "</tbody>\n",
              "</table>\n"
            ]
          },
          "metadata": {
            "tags": []
          }
        },
        {
          "output_type": "stream",
          "text": [
            "[1] \"Dimensions of the count table:\"\n"
          ],
          "name": "stdout"
        },
        {
          "output_type": "display_data",
          "data": {
            "text/plain": [
              "[1] 60829   100"
            ],
            "text/latex": "\\begin{enumerate*}\n\\item 60829\n\\item 100\n\\end{enumerate*}\n",
            "text/markdown": "1. 60829\n2. 100\n\n\n",
            "text/html": [
              "<style>\n",
              ".list-inline {list-style: none; margin:0; padding: 0}\n",
              ".list-inline>li {display: inline-block}\n",
              ".list-inline>li:not(:last-child)::after {content: \"\\00b7\"; padding: 0 .5ex}\n",
              "</style>\n",
              "<ol class=list-inline><li>60829</li><li>100</li></ol>\n"
            ]
          },
          "metadata": {
            "tags": []
          }
        }
      ]
    },
    {
      "cell_type": "markdown",
      "metadata": {
        "colab_type": "text",
        "id": "1XN-8T2FKwO8"
      },
      "source": [
        "We can see that we have ~60,000 genes and 100 samples in our experiment. For counting, we used all the genes annotated in the [GENCODE v29 annotation](https://www.gencodegenes.org/human/release_29lift37.html).\n",
        "\n",
        "Create an *OUTRIDER* object with the loaded annotation and raw count matrix by running `OutriderDataSet`."
      ]
    },
    {
      "cell_type": "code",
      "metadata": {
        "colab_type": "code",
        "id": "BRh8Bf7LKwO-",
        "colab": {
          "base_uri": "https://localhost:8080/",
          "height": 187
        },
        "outputId": "26d41dac-2778-4929-b7bf-1bbd2bd01c91"
      },
      "source": [
        "anno[,sampleID:=INDIVIDUAL]\n",
        "ods <- OutriderDataSet(countData=cts, colData=anno)\n",
        "ods"
      ],
      "execution_count": null,
      "outputs": [
        {
          "output_type": "display_data",
          "data": {
            "text/plain": [
              "class: OutriderDataSet\n",
              "class: RangedSummarizedExperiment \n",
              "dim: 60829 100 \n",
              "metadata(1): version\n",
              "assays(1): counts\n",
              "rownames(60829): ENSG00000000003.14_2 ENSG00000000005.5_2 ...\n",
              "  ENSG00000285993.1_1 ENSG00000285994.1_1\n",
              "rowData names(0):\n",
              "colnames(100): HG00096 HG00103 ... NA20805 NA20811\n",
              "colData names(7): RNA_ID SEX ... phase1TG sampleID"
            ]
          },
          "metadata": {
            "tags": []
          }
        }
      ]
    },
    {
      "cell_type": "markdown",
      "metadata": {
        "colab_type": "text",
        "id": "gEjYoJ60KwO_"
      },
      "source": [
        "## Quality control and preprocessing of raw count data\n",
        "\n",
        "In this tutorial only a few quality control metrics are explored. In a real experiment setup, this step should be done more extensively ([see slides for hints](https://docs.google.com/presentation/d/1a7KZ6FXwVmGqF-FMAnz0QTk07WgzRWAbFhSNrUBspIQ/edit?pli=1#slide=id.g64b01c344e_4_51)). "
      ]
    },
    {
      "cell_type": "markdown",
      "metadata": {
        "colab_type": "text",
        "id": "UqgvmY3-KwPA"
      },
      "source": [
        "### Size factor\n",
        "\n",
        "One important metric is the *sizeFactor*. The *sizeFactor* represents the sequencing depth of each sample with respect to the others and is centered around 1. The *sizeFactor* can be estimated with `estimateSizeFactors` based on the [*DESeq2*](http://bioconductor.org/packages/release/bioc/html/DESeq2.html) function. In gene expression analysis one of the first normalization steps is done using the *sizeFactor*."
      ]
    },
    {
      "cell_type": "code",
      "metadata": {
        "colab_type": "code",
        "id": "t62CBQPnKwPB",
        "colab": {
          "base_uri": "https://localhost:8080/",
          "height": 257
        },
        "outputId": "86cef6f2-de15-468c-8831-51f4540be358"
      },
      "source": [
        "# estimate sizeFactors \n",
        "ods <- estimateSizeFactors(ods)\n",
        "\n",
        "# plot the sizeFactor across the dataset\n",
        "ggplot(data=NULL, aes(y=sort(sizeFactors(ods)), x=1:ncol(ods))) + \n",
        "    geom_point() + \n",
        "    labs(x='Sample rank', y='Size factors', title=\"Size factor distribution\") + \n",
        "    theme_bw()"
      ],
      "execution_count": null,
      "outputs": [
        {
          "output_type": "display_data",
          "data": {
            "image/png": "[encoded data removed]",
            "text/plain": [
              "plot without title"
            ]
          },
          "metadata": {
            "tags": [],
            "image/png": {
              "width": 420,
              "height": 240
            },
            "text/plain": {
              "width": 420,
              "height": 240
            }
          }
        }
      ]
    },
    {
      "cell_type": "markdown",
      "metadata": {
        "colab_type": "text",
        "id": "eE7sWTKtKwPC"
      },
      "source": [
        "As expected, most data points are around 1. A low *sizeFactor* could be an indication for a failed experiment or other issues during the preparation (eg. low RNA input). Those samples should be dealt with caution. Also high *sizeFactors* should be investigated. \n",
        "\n",
        "Let's have a look at the sample with the lowest *sizeFactor*. "
      ]
    },
    {
      "cell_type": "code",
      "metadata": {
        "colab_type": "code",
        "id": "y7JJIQbmKwPD",
        "colab": {
          "base_uri": "https://localhost:8080/",
          "height": 34
        },
        "outputId": "44726c8e-380d-4f7c-9b38-d99882d96ca1"
      },
      "source": [
        "sort(sizeFactors(ods))[1:5]"
      ],
      "execution_count": null,
      "outputs": [
        {
          "output_type": "display_data",
          "data": {
            "text/plain": [
              "  NA20778   NA20805   NA06984   NA20540   HG00278 \n",
              "0.3393214 0.6866933 0.7302284 0.7336435 0.7350451 "
            ],
            "text/latex": "\\begin{description*}\n\\item[NA20778] 0.339321424622729\n\\item[NA20805] 0.686693256261798\n\\item[NA06984] 0.730228426523243\n\\item[NA20540] 0.73364351140107\n\\item[HG00278] 0.735045079149006\n\\end{description*}\n",
            "text/markdown": "NA20778\n:   0.339321424622729NA20805\n:   0.686693256261798NA06984\n:   0.730228426523243NA20540\n:   0.73364351140107HG00278\n:   0.735045079149006\n\n",
            "text/html": [
              "<style>\n",
              ".dl-inline {width: auto; margin:0; padding: 0}\n",
              ".dl-inline>dt, .dl-inline>dd {float: none; width: auto; display: inline-block}\n",
              ".dl-inline>dt::after {content: \":\\0020\"; padding-right: .5ex}\n",
              ".dl-inline>dt:not(:first-of-type) {padding-left: .5ex}\n",
              "</style><dl class=dl-inline><dt>NA20778</dt><dd>0.339321424622729</dd><dt>NA20805</dt><dd>0.686693256261798</dd><dt>NA06984</dt><dd>0.730228426523243</dd><dt>NA20540</dt><dd>0.73364351140107</dd><dt>HG00278</dt><dd>0.735045079149006</dd></dl>\n"
            ]
          },
          "metadata": {
            "tags": []
          }
        }
      ]
    },
    {
      "cell_type": "markdown",
      "metadata": {
        "colab_type": "text",
        "id": "FttdKAC3KwPF"
      },
      "source": [
        "### Filter non-expressed genes\n",
        "\n",
        "Not all genes are expressed in a given tissue/sample. It depends on the tissues and sequencing depth on how many expressed genes are expected. \n",
        "\n",
        "To make the modeling and outlier detection more robust, a good filtering of non-expressed genes is crucial. The cutoffs are dependent on the project and should be defined beforehand. The FPKM value (fragments per kilobase of million mapped reads) is a good measurement for this.\n",
        "\n",
        "Here, we keep genes where at least 5% of the samples have an FPKM value greater than 1.\n",
        "\n",
        "To compute the FPKM value, we need the gene length from the annotation file. "
      ]
    },
    {
      "cell_type": "code",
      "metadata": {
        "colab_type": "code",
        "id": "z7WWRJt1KwPH",
        "colab": {
          "base_uri": "https://localhost:8080/",
          "height": 51
        },
        "outputId": "943b87c9-f9d6-4d1c-e02a-60d5dd88c6c2"
      },
      "source": [
        "# load gene annotation to compute FPKM values\n",
        "txdb <- loadDb(\"annotations/gencode.v29lift37.annotation.txdb\")\n",
        "ods <- filterExpression(ods, gtfFile=txdb, filterGenes=FALSE)"
      ],
      "execution_count": null,
      "outputs": [
        {
          "output_type": "stream",
          "text": [
            "45212 genes did not pass the filter. This is 74.3% of the genes.\n",
            "\n"
          ],
          "name": "stderr"
        }
      ]
    },
    {
      "cell_type": "markdown",
      "metadata": {
        "colab_type": "text",
        "id": "6HXhPC_lKwPJ"
      },
      "source": [
        "Plot the number of genes filtered out and their expression distribution across all sample/gene pairs."
      ]
    },
    {
      "cell_type": "code",
      "metadata": {
        "colab_type": "code",
        "id": "KTizW_D1KwPJ",
        "colab": {
          "base_uri": "https://localhost:8080/",
          "height": 291
        },
        "outputId": "73e6c9d3-04d6-40ce-e976-f17a23aed1a3"
      },
      "source": [
        "# FPKM distribution across all sample/gene pairs\n",
        "plotFPKM(ods) + theme_bw() + theme(legend.position = 'bottom')"
      ],
      "execution_count": null,
      "outputs": [
        {
          "output_type": "stream",
          "text": [
            "3504263 sample-gene combinations are zero. This is 57.6% of the data\n",
            "\n"
          ],
          "name": "stderr"
        },
        {
          "output_type": "display_data",
          "data": {
            "image/png": "[encoded data removed]",
            "text/plain": [
              "plot without title"
            ]
          },
          "metadata": {
            "tags": [],
            "image/png": {
              "width": 420,
              "height": 240
            },
            "text/plain": {
              "width": 420,
              "height": 240
            }
          }
        }
      ]
    },
    {
      "cell_type": "markdown",
      "metadata": {
        "colab_type": "text",
        "id": "TuFEA1Z0KwPL"
      },
      "source": [
        "Let's subset now the object for expressed genes only. Have a look at the output on how many genes/samples (below as `dim`) we ended up for the final analysis."
      ]
    },
    {
      "cell_type": "code",
      "metadata": {
        "colab_type": "code",
        "id": "3Lbx2iCoKwPL",
        "colab": {
          "base_uri": "https://localhost:8080/",
          "height": 204
        },
        "outputId": "8414e3a4-0fb6-487f-dfe7-9e89bc5b2cb6"
      },
      "source": [
        "# filter object based on the expression status of the genes\n",
        "ods <- ods[mcols(ods)[,\"passedFilter\"]]\n",
        "ods"
      ],
      "execution_count": null,
      "outputs": [
        {
          "output_type": "display_data",
          "data": {
            "text/plain": [
              "class: OutriderDataSet\n",
              "class: RangedSummarizedExperiment \n",
              "dim: 15617 100 \n",
              "metadata(1): version\n",
              "assays(1): counts\n",
              "rownames(15617): ENSG00000000419.12_2 ENSG00000000457.13_3 ...\n",
              "  ENSG00000285976.1_1 ENSG00000285979.1_1\n",
              "rowData names(3): loggeomeans passedFilter basepairs\n",
              "colnames(100): HG00096 HG00103 ... NA20805 NA20811\n",
              "colData names(13): sampleID RNA_ID ... passedFilterGenes\n",
              "  expressedGenesRank"
            ]
          },
          "metadata": {
            "tags": []
          }
        }
      ]
    },
    {
      "cell_type": "markdown",
      "metadata": {
        "colab_type": "text",
        "id": "TywHtbXeKwPM"
      },
      "source": [
        "### Sample co-variation\n",
        "Usually in RNA-seq data one can see sample co-variation and hence should control for that. In most of the cases one knows the cause of the structure (eg. sex, origin, batch) but sometimes it comes from unkown confounders. For more details [see slides](https://docs.google.com/presentation/d/1a7KZ6FXwVmGqF-FMAnz0QTk07WgzRWAbFhSNrUBspIQ/edit#slide=id.g614aa1ac41_0_33)."
      ]
    },
    {
      "cell_type": "code",
      "metadata": {
        "colab_type": "code",
        "id": "oRfzDpm9KwPN",
        "colab": {
          "base_uri": "https://localhost:8080/",
          "height": 317
        },
        "outputId": "e46f8959-4153-4924-b420-cefcac2d8c41"
      },
      "source": [
        "# Make heatmap figure bigger\n",
        "options(repr.plot.width=6, repr.plot.height=5)\n",
        "\n",
        "# use normalize=FALSE since the data is not yet corrected\n",
        "plotCountCorHeatmap(ods, colGroups=c(\"SEX\", \"ORIGIN\"), rowGroups=\"LAB\",\n",
        "        normalize=FALSE)"
      ],
      "execution_count": null,
      "outputs": [
        {
          "output_type": "display_data",
          "data": {
            "image/png": "[encoded data removed]",
            "text/plain": [
              "plot without title"
            ]
          },
          "metadata": {
            "tags": [],
            "image/png": {
              "width": 360,
              "height": 300
            },
            "text/plain": {
              "width": 360,
              "height": 300
            }
          }
        }
      ]
    },
    {
      "cell_type": "markdown",
      "metadata": {
        "colab_type": "text",
        "id": "hCnEHwmgKwPP"
      },
      "source": [
        "## Detection of expression outlier events\n",
        "\n",
        "We have loaded the data, did some quality control, and preprocessed (filtered) the data. Now we can start with the **normalization** and **outlier detection**.\n",
        "\n",
        "\n",
        "<img src=\"https://github.com/gagneurlab/OUTRIDER/raw/master/vignettes/autoencoder_sketch.png\" alt=\"Using a denoising autoencoder to correct for sample co-variations.\" width=\"400\"/>"
      ]
    },
    {
      "cell_type": "markdown",
      "metadata": {
        "colab_type": "text",
        "id": "es5xWQBpKwPP"
      },
      "source": [
        "### Fitting the model\n",
        "\n",
        "We will now use *OUTRIDER* to model the sample co-variation, also called latent space, based on the given gene expression data. Here we use a predefined latent space with a dimension $q=15$. Using the correct dimension is crucial to have the best performance. Finding the right dimension can be done with `findEncodingDim()`."
      ]
    },
    {
      "cell_type": "code",
      "metadata": {
        "colab_type": "code",
        "id": "7_YDq0fEKwPQ",
        "colab": {
          "base_uri": "https://localhost:8080/",
          "height": 935
        },
        "outputId": "9f10596b-693a-4ca5-ae33-9515d82e99ac"
      },
      "source": [
        "ods <- OUTRIDER(ods, q=15, verbose=TRUE, \n",
        "        iterations=2, # only used here 2 iterations to speed up the tutorial\n",
        "        BPPARAM=MulticoreParam(4, progressbar=TRUE))  # Takes around 2min"
      ],
      "execution_count": null,
      "outputs": [
        {
          "output_type": "stream",
          "text": [
            "Wed Jun 24 16:44:17 2020: SizeFactor estimation ...\n",
            "\n",
            "Wed Jun 24 16:44:18 2020: Controlling for confounders ...\n",
            "\n",
            "Wed Jun 24 16:44:18 2020: Using the autoencoder implementation for controlling.\n",
            "\n"
          ],
          "name": "stderr"
        },
        {
          "output_type": "stream",
          "text": [
            "[1] \"Wed Jun 24 16:44:23 2020: Initial PCA loss: 5.81400644768784\"\n",
            "  |======================================================================| 100%\n",
            "\n",
            "\n",
            "CONVERGENCE: REL_REDUCTION_OF_F <= FACTR*EPSMCH \n",
            "                                          15617 \n",
            "[1] \"Wed Jun 24 16:44:44 2020: Iteration: init D loss: 5.79646828714987\"\n",
            "  |======================================================================| 100%\n",
            "\n",
            "     Min.   1st Qu.    Median      Mean   3rd Qu.      Max. \n",
            "   0.0617   26.9323   77.9328  118.9740  156.5255  999.9999 \n",
            "[1] \"Wed Jun 24 16:44:54 2020: Iteration: init Theta loss: 5.31569050462055\"\n",
            "[1] \"Wed Jun 24 16:45:11 2020: Iteration: 1 E loss: 5.28225151892558\"\n",
            "  |======================================================================| 100%\n",
            "\n",
            "\n",
            "CONVERGENCE: REL_REDUCTION_OF_F <= FACTR*EPSMCH \n",
            "                                          15617 \n",
            "[1] \"Wed Jun 24 16:45:25 2020: Iteration: 1 D loss: 5.27338827364138\"\n",
            "  |======================================================================| 100%\n",
            "\n",
            "     Min.   1st Qu.    Median      Mean   3rd Qu.      Max. \n",
            "   0.0638   29.6797   92.9164  151.3085  198.7400  999.9999 \n",
            "[1] \"Wed Jun 24 16:45:34 2020: Iteration: 1 theta loss: 5.267356346213\"\n",
            "[1] \"Time for one autoencoder loop: 39.8099422454834\"\n",
            "[1] \"Wed Jun 24 16:45:46 2020: Iteration: 2 E loss: 5.26150144261882\"\n",
            "  |======================================================================| 100%\n",
            "\n",
            "\n",
            "CONVERGENCE: REL_REDUCTION_OF_F <= FACTR*EPSMCH \n",
            "                                          15617 \n",
            "[1] \"Wed Jun 24 16:45:59 2020: Iteration: 2 D loss: 5.25893232841236\"\n",
            "  |======================================================================| 100%\n",
            "\n",
            "     Min.   1st Qu.    Median      Mean   3rd Qu.      Max. \n",
            "   0.0645   30.1942   96.4883  159.2310  208.8178  999.9999 \n",
            "[1] \"Wed Jun 24 16:46:08 2020: Iteration: 2 theta loss: 5.25813766583711\"\n",
            "[1] \"Time for one autoencoder loop: 34.0181310176849\"\n",
            "Time difference of 1.242218 mins\n",
            "[1] \"Wed Jun 24 16:46:08 2020: 2 Final nb-AE loss: 5.25813766583711\"\n"
          ],
          "name": "stdout"
        },
        {
          "output_type": "stream",
          "text": [
            "Wed Jun 24 16:46:09 2020: Used the autoencoder implementation for controlling.\n",
            "\n",
            "Wed Jun 24 16:46:09 2020: P-value calculation ...\n",
            "\n"
          ],
          "name": "stderr"
        },
        {
          "output_type": "stream",
          "text": [
            "  |======================================================================| 100%\n",
            "\n"
          ],
          "name": "stdout"
        },
        {
          "output_type": "stream",
          "text": [
            "Wed Jun 24 16:46:15 2020: Zscore calculation ...\n",
            "\n"
          ],
          "name": "stderr"
        }
      ]
    },
    {
      "cell_type": "markdown",
      "metadata": {
        "colab_type": "text",
        "id": "oF1Xqn11KwPR"
      },
      "source": [
        "Let's see how well the denoising autoencoder fitted the latent space of our data. Ideally, we should not see any clusters anymore and most of the plot should be rather white than red or blue except for the diagonal."
      ]
    },
    {
      "cell_type": "code",
      "metadata": {
        "colab_type": "code",
        "id": "ALvmL2F_KwPR",
        "colab": {
          "base_uri": "https://localhost:8080/",
          "height": 317
        },
        "outputId": "350f7513-b0b7-44f8-ad7f-b28f62637c0d"
      },
      "source": [
        "plotCountCorHeatmap(ods, colGroups=c(\"SEX\", \"ORIGIN\"), rowGroups=\"LAB\",\n",
        "        normalize=TRUE)"
      ],
      "execution_count": null,
      "outputs": [
        {
          "output_type": "display_data",
          "data": {
            "image/png": "[encoded data removed]",
            "text/plain": [
              "plot without title"
            ]
          },
          "metadata": {
            "tags": [],
            "image/png": {
              "width": 360,
              "height": 300
            },
            "text/plain": {
              "width": 360,
              "height": 300
            }
          }
        }
      ]
    },
    {
      "cell_type": "markdown",
      "metadata": {
        "colab_type": "text",
        "id": "L-oTuaI6KwPT"
      },
      "source": [
        "### Detection of expression outliers\n",
        "\n",
        "After fitting the model and correcting for sample co-variations, we can now obtain our expression outliers. \n",
        "Here, we define an outlier as an event that significantly deviates from the expected Negative-Binomial distribution after controlling for confounders. For details [see slides](https://docs.google.com/presentation/d/1a7KZ6FXwVmGqF-FMAnz0QTk07WgzRWAbFhSNrUBspIQ/edit#slide=id.g64b01c344e_4_158).\n",
        "\n",
        "<img src=\"https://github.com/c-mertes/RNAseq-ASHG19/raw/master/src/nb-p-value.PNG\" alt=\"no image\" width=\"250\"/>\n",
        "\n",
        "The two sided p value is defined as:\n",
        "\n",
        "$ P(k_{ij}) = 2 \\cdot \\min\\left( \\frac{1}{2}, \\sum_{k=0}^{k_{ij}} NB(k_{ij}|\\mu_{ij}), \\theta_j), 1-\\sum_{k=0}^{k_{ij}} NB(k_{ij}|\\mu_{ij},\\theta_j) \\right)$,\n",
        "\n",
        "with a genome-wide significance threshold of $FDR < 0.05$.\n",
        "\n",
        "Let's check how many expression outliers per sample were found.\n"
      ]
    },
    {
      "cell_type": "code",
      "metadata": {
        "colab_type": "code",
        "id": "V8pqKlhMKwPU",
        "colab": {
          "base_uri": "https://localhost:8080/",
          "height": 325
        },
        "outputId": "e8aeee94-18c7-4a95-a76f-8031c70719d2"
      },
      "source": [
        "# make the plot again default size\n",
        "options(repr.plot.width=4, repr.plot.height=4)\n",
        "\n",
        "plotAberrantPerSample(ods)"
      ],
      "execution_count": null,
      "outputs": [
        {
          "output_type": "stream",
          "text": [
            "Warning message:\n",
            "“Transformation introduced infinite values in continuous y-axis”\n",
            "Warning message:\n",
            "“Removed 32 rows containing missing values (geom_bar).”\n"
          ],
          "name": "stderr"
        },
        {
          "output_type": "display_data",
          "data": {
            "image/png": "[encoded data removed]",
            "text/plain": [
              "plot without title"
            ]
          },
          "metadata": {
            "tags": [],
            "image/png": {
              "width": 240,
              "height": 240
            },
            "text/plain": {
              "width": 240,
              "height": 240
            }
          }
        }
      ]
    },
    {
      "cell_type": "markdown",
      "metadata": {
        "colab_type": "text",
        "id": "MUglX5SFKwPW"
      },
      "source": [
        "### Z score approach\n",
        "\n",
        "There are many different ways to define outliers. One common approach is to compute a Z score and then define outliers as $|z| > 3$ or $|z| > 2$. In our [OUTRIDER publication](https://doi.org/10.1016/j.ajhg.2018.10.025), we recommend to use a statistical assesment for defining outliers over the Z score approach.\n",
        "\n",
        "Despite our recommendation, one can use OUTRIDER to retrieve Z score derived outliers by setting `padjCutoff=1` and `zScoreCutoff=2` or another value of choice."
      ]
    },
    {
      "cell_type": "code",
      "metadata": {
        "colab_type": "code",
        "id": "bNuues7FKwPW",
        "colab": {
          "base_uri": "https://localhost:8080/",
          "height": 257
        },
        "outputId": "236cc49d-70cb-43d3-b0e7-889e22da7df4"
      },
      "source": [
        "plotAberrantPerSample(ods, padjCutoff=1, zScoreCutoff=2, yadjust=c(1.3,1.4))"
      ],
      "execution_count": null,
      "outputs": [
        {
          "output_type": "display_data",
          "data": {
            "image/png": "[encoded data removed]",
            "text/plain": [
              "plot without title"
            ]
          },
          "metadata": {
            "tags": [],
            "image/png": {
              "width": 240,
              "height": 240
            },
            "text/plain": {
              "width": 240,
              "height": 240
            }
          }
        }
      ]
    },
    {
      "cell_type": "markdown",
      "metadata": {
        "colab_type": "text",
        "id": "cglZQenFKwPY"
      },
      "source": [
        "In order to make the results table more intuitive, we now change the ENSEMBL gene IDs into HGNC symbols. For this we use the *annotables* package."
      ]
    },
    {
      "cell_type": "code",
      "metadata": {
        "colab_type": "code",
        "id": "y5T7Mo8lKwPZ",
        "colab": {}
      },
      "source": [
        "# remove versioning of gene IDs and merge with GRCh37 from annotables\n",
        "geneIDs <- gsub(\"\\\\.[0-9]*(_[0-9]*)?.*$\", \"\", rownames(ods))\n",
        "map <- merge(data.table(ensgene=geneIDs), grch37, sort=FALSE,\n",
        "        all.x=TRUE)[!duplicated(ensgene),]\n",
        "\n",
        "# set new gene names only if hgnc symbol is present\n",
        "if(!\"ENSG\" %in% colnames(mcols(ods))){\n",
        "    mcols(ods)$ENSG <- geneIDs\n",
        "    rownames(ods) <- map[,ifelse(\n",
        "            is.na(symbol) | symbol == \"\" | duplicated(symbol), geneIDs, symbol)]\n",
        "}"
      ],
      "execution_count": null,
      "outputs": []
    },
    {
      "cell_type": "markdown",
      "metadata": {
        "colab_type": "text",
        "id": "-dovsc8QKwPa"
      },
      "source": [
        "Now we can retrieve our expression outliers using the *results* function."
      ]
    },
    {
      "cell_type": "code",
      "metadata": {
        "colab_type": "code",
        "id": "7JPjkSoTKwPb",
        "colab": {
          "base_uri": "https://localhost:8080/",
          "height": 221
        },
        "outputId": "a2f60d7d-ff72-4796-b273-9ced7d443261"
      },
      "source": [
        "res <- results(ods)\n",
        "head(res)\n",
        "dim(res)"
      ],
      "execution_count": null,
      "outputs": [
        {
          "output_type": "display_data",
          "data": {
            "text/plain": [
              "  geneID  sampleID pValue       padjust      zScore l2fc  rawcounts normcounts\n",
              "1 ZNF549  NA12341  2.794264e-20 4.465636e-15 -9.36  -4.90   4         5.46    \n",
              "2 CAT     NA18873  1.277582e-17 2.041760e-12 -9.18  -5.49  24        26.68    \n",
              "3 FAM127A NA06984  2.171443e-16 3.470280e-11 -8.73  -2.80  65        61.87    \n",
              "4 TXN2    HG00103  9.124427e-16 1.458215e-10 -8.38  -1.48 852       974.13    \n",
              "5 PARP4   NA18916  4.215504e-14 6.736984e-09 -8.16  -2.21 833       572.89    \n",
              "6 PKP4    NA12717  1.351949e-13 2.160610e-08 -8.55  -4.80   6        24.30    \n",
              "  meanCorrected theta aberrant AberrantBySample AberrantByGene padj_rank\n",
              "1  202.81       32.67 TRUE     11               1              1        \n",
              "2 1242.71       14.33 TRUE      4               1              1        \n",
              "3  436.61       37.30 TRUE     33               1              1        \n",
              "4 2712.67       89.84 TRUE     10               1              1        \n",
              "5 2648.97       39.61 TRUE      7               1              1        \n",
              "6  774.88       15.92 TRUE     23               1              1        "
            ],
            "text/latex": "A data.table: 6 × 14\n\\begin{tabular}{llllllllllllll}\n geneID & sampleID & pValue & padjust & zScore & l2fc & rawcounts & normcounts & meanCorrected & theta & aberrant & AberrantBySample & AberrantByGene & padj\\_rank\\\\\n <chr> & <chr> & <dbl> & <dbl> & <dbl> & <dbl> & <int> & <dbl> & <dbl> & <dbl> & <lgl> & <dbl> & <dbl> & <dbl>\\\\\n\\hline\n\t ZNF549  & NA12341 & 2.794264e-20 & 4.465636e-15 & -9.36 & -4.90 &   4 &   5.46 &  202.81 & 32.67 & TRUE & 11 & 1 & 1\\\\\n\t CAT     & NA18873 & 1.277582e-17 & 2.041760e-12 & -9.18 & -5.49 &  24 &  26.68 & 1242.71 & 14.33 & TRUE &  4 & 1 & 1\\\\\n\t FAM127A & NA06984 & 2.171443e-16 & 3.470280e-11 & -8.73 & -2.80 &  65 &  61.87 &  436.61 & 37.30 & TRUE & 33 & 1 & 1\\\\\n\t TXN2    & HG00103 & 9.124427e-16 & 1.458215e-10 & -8.38 & -1.48 & 852 & 974.13 & 2712.67 & 89.84 & TRUE & 10 & 1 & 1\\\\\n\t PARP4   & NA18916 & 4.215504e-14 & 6.736984e-09 & -8.16 & -2.21 & 833 & 572.89 & 2648.97 & 39.61 & TRUE &  7 & 1 & 1\\\\\n\t PKP4    & NA12717 & 1.351949e-13 & 2.160610e-08 & -8.55 & -4.80 &   6 &  24.30 &  774.88 & 15.92 & TRUE & 23 & 1 & 1\\\\\n\\end{tabular}\n",
            "text/markdown": "\nA data.table: 6 × 14\n\n| geneID &lt;chr&gt; | sampleID &lt;chr&gt; | pValue &lt;dbl&gt; | padjust &lt;dbl&gt; | zScore &lt;dbl&gt; | l2fc &lt;dbl&gt; | rawcounts &lt;int&gt; | normcounts &lt;dbl&gt; | meanCorrected &lt;dbl&gt; | theta &lt;dbl&gt; | aberrant &lt;lgl&gt; | AberrantBySample &lt;dbl&gt; | AberrantByGene &lt;dbl&gt; | padj_rank &lt;dbl&gt; |\n|---|---|---|---|---|---|---|---|---|---|---|---|---|---|\n| ZNF549  | NA12341 | 2.794264e-20 | 4.465636e-15 | -9.36 | -4.90 |   4 |   5.46 |  202.81 | 32.67 | TRUE | 11 | 1 | 1 |\n| CAT     | NA18873 | 1.277582e-17 | 2.041760e-12 | -9.18 | -5.49 |  24 |  26.68 | 1242.71 | 14.33 | TRUE |  4 | 1 | 1 |\n| FAM127A | NA06984 | 2.171443e-16 | 3.470280e-11 | -8.73 | -2.80 |  65 |  61.87 |  436.61 | 37.30 | TRUE | 33 | 1 | 1 |\n| TXN2    | HG00103 | 9.124427e-16 | 1.458215e-10 | -8.38 | -1.48 | 852 | 974.13 | 2712.67 | 89.84 | TRUE | 10 | 1 | 1 |\n| PARP4   | NA18916 | 4.215504e-14 | 6.736984e-09 | -8.16 | -2.21 | 833 | 572.89 | 2648.97 | 39.61 | TRUE |  7 | 1 | 1 |\n| PKP4    | NA12717 | 1.351949e-13 | 2.160610e-08 | -8.55 | -4.80 |   6 |  24.30 |  774.88 | 15.92 | TRUE | 23 | 1 | 1 |\n\n",
            "text/html": [
              "<table>\n",
              "<caption>A data.table: 6 × 14</caption>\n",
              "<thead>\n",
              "\t<tr><th scope=col>geneID</th><th scope=col>sampleID</th><th scope=col>pValue</th><th scope=col>padjust</th><th scope=col>zScore</th><th scope=col>l2fc</th><th scope=col>rawcounts</th><th scope=col>normcounts</th><th scope=col>meanCorrected</th><th scope=col>theta</th><th scope=col>aberrant</th><th scope=col>AberrantBySample</th><th scope=col>AberrantByGene</th><th scope=col>padj_rank</th></tr>\n",
              "\t<tr><th scope=col>&lt;chr&gt;</th><th scope=col>&lt;chr&gt;</th><th scope=col>&lt;dbl&gt;</th><th scope=col>&lt;dbl&gt;</th><th scope=col>&lt;dbl&gt;</th><th scope=col>&lt;dbl&gt;</th><th scope=col>&lt;int&gt;</th><th scope=col>&lt;dbl&gt;</th><th scope=col>&lt;dbl&gt;</th><th scope=col>&lt;dbl&gt;</th><th scope=col>&lt;lgl&gt;</th><th scope=col>&lt;dbl&gt;</th><th scope=col>&lt;dbl&gt;</th><th scope=col>&lt;dbl&gt;</th></tr>\n",
              "</thead>\n",
              "<tbody>\n",
              "\t<tr><td>ZNF549 </td><td>NA12341</td><td>2.794264e-20</td><td>4.465636e-15</td><td>-9.36</td><td>-4.90</td><td>  4</td><td>  5.46</td><td> 202.81</td><td>32.67</td><td>TRUE</td><td>11</td><td>1</td><td>1</td></tr>\n",
              "\t<tr><td>CAT    </td><td>NA18873</td><td>1.277582e-17</td><td>2.041760e-12</td><td>-9.18</td><td>-5.49</td><td> 24</td><td> 26.68</td><td>1242.71</td><td>14.33</td><td>TRUE</td><td> 4</td><td>1</td><td>1</td></tr>\n",
              "\t<tr><td>FAM127A</td><td>NA06984</td><td>2.171443e-16</td><td>3.470280e-11</td><td>-8.73</td><td>-2.80</td><td> 65</td><td> 61.87</td><td> 436.61</td><td>37.30</td><td>TRUE</td><td>33</td><td>1</td><td>1</td></tr>\n",
              "\t<tr><td>TXN2   </td><td>HG00103</td><td>9.124427e-16</td><td>1.458215e-10</td><td>-8.38</td><td>-1.48</td><td>852</td><td>974.13</td><td>2712.67</td><td>89.84</td><td>TRUE</td><td>10</td><td>1</td><td>1</td></tr>\n",
              "\t<tr><td>PARP4  </td><td>NA18916</td><td>4.215504e-14</td><td>6.736984e-09</td><td>-8.16</td><td>-2.21</td><td>833</td><td>572.89</td><td>2648.97</td><td>39.61</td><td>TRUE</td><td> 7</td><td>1</td><td>1</td></tr>\n",
              "\t<tr><td>PKP4   </td><td>NA12717</td><td>1.351949e-13</td><td>2.160610e-08</td><td>-8.55</td><td>-4.80</td><td>  6</td><td> 24.30</td><td> 774.88</td><td>15.92</td><td>TRUE</td><td>23</td><td>1</td><td>1</td></tr>\n",
              "</tbody>\n",
              "</table>\n"
            ]
          },
          "metadata": {
            "tags": []
          }
        },
        {
          "output_type": "display_data",
          "data": {
            "text/plain": [
              "[1] 262  14"
            ],
            "text/latex": "\\begin{enumerate*}\n\\item 262\n\\item 14\n\\end{enumerate*}\n",
            "text/markdown": "1. 262\n2. 14\n\n\n",
            "text/html": [
              "<style>\n",
              ".list-inline {list-style: none; margin:0; padding: 0}\n",
              ".list-inline>li {display: inline-block}\n",
              ".list-inline>li:not(:last-child)::after {content: \"\\00b7\"; padding: 0 .5ex}\n",
              "</style>\n",
              "<ol class=list-inline><li>262</li><li>14</li></ol>\n"
            ]
          },
          "metadata": {
            "tags": []
          }
        }
      ]
    },
    {
      "cell_type": "markdown",
      "metadata": {
        "colab_type": "text",
        "id": "OC4nwIMeKwPd"
      },
      "source": [
        "## Finding candidates in a patient\n",
        "\n",
        "We know that patient **NA18873** has a rare mitochondrial disease with a complex I deficiency. This means that we are looking for mitochondrial or complex I related genes.\n",
        "\n",
        "Let's have a look at the patient's volcano plot. This shows the effect of the event on the x axis (Z score) and the significance on the y axis (nominal p value)."
      ]
    },
    {
      "cell_type": "code",
      "metadata": {
        "colab_type": "code",
        "id": "dOTqDb24KwPe",
        "colab": {
          "base_uri": "https://localhost:8080/",
          "height": 257
        },
        "outputId": "cfc46d25-860b-4d7a-feb5-131f4553f91d"
      },
      "source": [
        "# volcano plot of sample NA18873\n",
        "plotVolcano(ods, \"NA18873\", base=TRUE)"
      ],
      "execution_count": null,
      "outputs": [
        {
          "output_type": "display_data",
          "data": {
            "image/png": "[encoded data removed]",
            "text/plain": [
              "plot without title"
            ]
          },
          "metadata": {
            "tags": [],
            "image/png": {
              "width": 240,
              "height": 240
            },
            "text/plain": {
              "width": 240,
              "height": 240
            }
          }
        }
      ]
    },
    {
      "cell_type": "markdown",
      "metadata": {
        "id": "o1isWBKGnuLl",
        "colab_type": "text"
      },
      "source": [
        "And further have a closer look at the outliers of this case in detail."
      ]
    },
    {
      "cell_type": "code",
      "metadata": {
        "id": "7HrXhdHzn-i8",
        "colab_type": "code",
        "colab": {
          "base_uri": "https://localhost:8080/",
          "height": 162
        },
        "outputId": "15f442b9-280a-4a0b-fe32-c96f3e3f215d"
      },
      "source": [
        "# subset results for this patient\n",
        "res[sampleID == \"NA18873\"]"
      ],
      "execution_count": null,
      "outputs": [
        {
          "output_type": "display_data",
          "data": {
            "text/plain": [
              "  geneID        sampleID pValue       padjust      zScore l2fc  rawcounts\n",
              "1 CAT           NA18873  1.277582e-17 2.041760e-12 -9.18  -5.49   24     \n",
              "2 TIMMDC1       NA18873  8.101708e-12 6.473849e-07 -7.23  -1.06  341     \n",
              "3 RP11-325F22.2 NA18873  3.393334e-07 1.807679e-02 -6.44  -4.97    0     \n",
              "4 DCTD          NA18873  8.581937e-07 3.428793e-02 -5.13  -0.46 1283     \n",
              "  normcounts meanCorrected theta  aberrant AberrantBySample AberrantByGene\n",
              "1   26.68    1242.71        14.33 TRUE     4                1             \n",
              "2  486.98    1010.41       139.09 TRUE     4                1             \n",
              "3    0.00      42.16        12.87 TRUE     4                1             \n",
              "4 1525.38    2092.73       319.41 TRUE     4                1             \n",
              "  padj_rank\n",
              "1 1        \n",
              "2 2        \n",
              "3 3        \n",
              "4 4        "
            ],
            "text/latex": "A data.table: 4 × 14\n\\begin{tabular}{llllllllllllll}\n geneID & sampleID & pValue & padjust & zScore & l2fc & rawcounts & normcounts & meanCorrected & theta & aberrant & AberrantBySample & AberrantByGene & padj\\_rank\\\\\n <chr> & <chr> & <dbl> & <dbl> & <dbl> & <dbl> & <int> & <dbl> & <dbl> & <dbl> & <lgl> & <dbl> & <dbl> & <dbl>\\\\\n\\hline\n\t CAT           & NA18873 & 1.277582e-17 & 2.041760e-12 & -9.18 & -5.49 &   24 &   26.68 & 1242.71 &  14.33 & TRUE & 4 & 1 & 1\\\\\n\t TIMMDC1       & NA18873 & 8.101708e-12 & 6.473849e-07 & -7.23 & -1.06 &  341 &  486.98 & 1010.41 & 139.09 & TRUE & 4 & 1 & 2\\\\\n\t RP11-325F22.2 & NA18873 & 3.393334e-07 & 1.807679e-02 & -6.44 & -4.97 &    0 &    0.00 &   42.16 &  12.87 & TRUE & 4 & 1 & 3\\\\\n\t DCTD          & NA18873 & 8.581937e-07 & 3.428793e-02 & -5.13 & -0.46 & 1283 & 1525.38 & 2092.73 & 319.41 & TRUE & 4 & 1 & 4\\\\\n\\end{tabular}\n",
            "text/markdown": "\nA data.table: 4 × 14\n\n| geneID &lt;chr&gt; | sampleID &lt;chr&gt; | pValue &lt;dbl&gt; | padjust &lt;dbl&gt; | zScore &lt;dbl&gt; | l2fc &lt;dbl&gt; | rawcounts &lt;int&gt; | normcounts &lt;dbl&gt; | meanCorrected &lt;dbl&gt; | theta &lt;dbl&gt; | aberrant &lt;lgl&gt; | AberrantBySample &lt;dbl&gt; | AberrantByGene &lt;dbl&gt; | padj_rank &lt;dbl&gt; |\n|---|---|---|---|---|---|---|---|---|---|---|---|---|---|\n| CAT           | NA18873 | 1.277582e-17 | 2.041760e-12 | -9.18 | -5.49 |   24 |   26.68 | 1242.71 |  14.33 | TRUE | 4 | 1 | 1 |\n| TIMMDC1       | NA18873 | 8.101708e-12 | 6.473849e-07 | -7.23 | -1.06 |  341 |  486.98 | 1010.41 | 139.09 | TRUE | 4 | 1 | 2 |\n| RP11-325F22.2 | NA18873 | 3.393334e-07 | 1.807679e-02 | -6.44 | -4.97 |    0 |    0.00 |   42.16 |  12.87 | TRUE | 4 | 1 | 3 |\n| DCTD          | NA18873 | 8.581937e-07 | 3.428793e-02 | -5.13 | -0.46 | 1283 | 1525.38 | 2092.73 | 319.41 | TRUE | 4 | 1 | 4 |\n\n",
            "text/html": [
              "<table>\n",
              "<caption>A data.table: 4 × 14</caption>\n",
              "<thead>\n",
              "\t<tr><th scope=col>geneID</th><th scope=col>sampleID</th><th scope=col>pValue</th><th scope=col>padjust</th><th scope=col>zScore</th><th scope=col>l2fc</th><th scope=col>rawcounts</th><th scope=col>normcounts</th><th scope=col>meanCorrected</th><th scope=col>theta</th><th scope=col>aberrant</th><th scope=col>AberrantBySample</th><th scope=col>AberrantByGene</th><th scope=col>padj_rank</th></tr>\n",
              "\t<tr><th scope=col>&lt;chr&gt;</th><th scope=col>&lt;chr&gt;</th><th scope=col>&lt;dbl&gt;</th><th scope=col>&lt;dbl&gt;</th><th scope=col>&lt;dbl&gt;</th><th scope=col>&lt;dbl&gt;</th><th scope=col>&lt;int&gt;</th><th scope=col>&lt;dbl&gt;</th><th scope=col>&lt;dbl&gt;</th><th scope=col>&lt;dbl&gt;</th><th scope=col>&lt;lgl&gt;</th><th scope=col>&lt;dbl&gt;</th><th scope=col>&lt;dbl&gt;</th><th scope=col>&lt;dbl&gt;</th></tr>\n",
              "</thead>\n",
              "<tbody>\n",
              "\t<tr><td>CAT          </td><td>NA18873</td><td>1.277582e-17</td><td>2.041760e-12</td><td>-9.18</td><td>-5.49</td><td>  24</td><td>  26.68</td><td>1242.71</td><td> 14.33</td><td>TRUE</td><td>4</td><td>1</td><td>1</td></tr>\n",
              "\t<tr><td>TIMMDC1      </td><td>NA18873</td><td>8.101708e-12</td><td>6.473849e-07</td><td>-7.23</td><td>-1.06</td><td> 341</td><td> 486.98</td><td>1010.41</td><td>139.09</td><td>TRUE</td><td>4</td><td>1</td><td>2</td></tr>\n",
              "\t<tr><td>RP11-325F22.2</td><td>NA18873</td><td>3.393334e-07</td><td>1.807679e-02</td><td>-6.44</td><td>-4.97</td><td>   0</td><td>   0.00</td><td>  42.16</td><td> 12.87</td><td>TRUE</td><td>4</td><td>1</td><td>3</td></tr>\n",
              "\t<tr><td>DCTD         </td><td>NA18873</td><td>8.581937e-07</td><td>3.428793e-02</td><td>-5.13</td><td>-0.46</td><td>1283</td><td>1525.38</td><td>2092.73</td><td>319.41</td><td>TRUE</td><td>4</td><td>1</td><td>4</td></tr>\n",
              "</tbody>\n",
              "</table>\n"
            ]
          },
          "metadata": {
            "tags": []
          }
        }
      ]
    },
    {
      "cell_type": "markdown",
      "metadata": {
        "colab_type": "text",
        "id": "3Y45vwcGKwPh"
      },
      "source": [
        "We see 4 outliers in this case. But only one fits the phenotype (check [GeneCards](https://www.genecards.org) as a reference).\n",
        "\n",
        "* [CAT](https://www.genecards.org/cgi-bin/carddisp.pl?gene=CAT) \n",
        "* [TIMMDC1](https://www.genecards.org/cgi-bin/carddisp.pl?gene=TIMMDC1) \n",
        "* [RP11-325F22.2](https://www.genecards.org/cgi-bin/carddisp.pl?gene=ENSG00000237513) \n",
        "* [DCTD](https://www.genecards.org/cgi-bin/carddisp.pl?gene=DCTD)\n",
        "\n",
        "\n",
        "*TIMMDC1* is a known mitochondrial located gene and also part of the complex I. Hence, the best candidate so far. Let's have a closer look on the gene level."
      ]
    },
    {
      "cell_type": "code",
      "metadata": {
        "colab_type": "code",
        "id": "uGL7rKVAKwPi",
        "colab": {
          "base_uri": "https://localhost:8080/",
          "height": 257
        },
        "outputId": "c3c27dfa-add3-427b-f446-cb0d7909d537"
      },
      "source": [
        "# make the plot again default size\n",
        "options(repr.plot.width=7, repr.plot.height=4)\n",
        "\n",
        "ggarrange(ncol=2,\n",
        "    plotExpressionRank(ods, \"TIMMDC1\", norm=FALSE, basePlot=TRUE),\n",
        "    plotExpressionRank(ods, \"TIMMDC1\", norm=TRUE,  basePlot=TRUE))"
      ],
      "execution_count": null,
      "outputs": [
        {
          "output_type": "display_data",
          "data": {
            "image/png": "[encoded data removed]",
            "text/plain": [
              "plot without title"
            ]
          },
          "metadata": {
            "tags": [],
            "image/png": {
              "width": 420,
              "height": 240
            },
            "text/plain": {
              "width": 420,
              "height": 240
            }
          }
        }
      ]
    },
    {
      "cell_type": "markdown",
      "metadata": {
        "colab_type": "text",
        "id": "74SHNIFnKwPj"
      },
      "source": [
        "Wondering why the lowest point in the raw uncorrected counts is not significant? It corresponds to the sample with the lowest *sizeFactor*. The autoencoder uses the *sizeFactor* to correct for different library depths across the dataset and hence the point is gone in the normalized plot. \n",
        "\n",
        "To make sure the fit was good, we can look at the quantile-quantile plot. "
      ]
    },
    {
      "cell_type": "code",
      "metadata": {
        "colab_type": "code",
        "id": "vZhcJvruKwPj",
        "colab": {
          "base_uri": "https://localhost:8080/",
          "height": 257
        },
        "outputId": "6f9ff3a1-e795-4cb6-d1dc-16ad0a13171b"
      },
      "source": [
        "# set again the default size for the plot\n",
        "options(repr.plot.width=4, repr.plot.height=4)\n",
        "\n",
        "plotQQ(ods, \"TIMMDC1\")"
      ],
      "execution_count": null,
      "outputs": [
        {
          "output_type": "display_data",
          "data": {
            "image/png": "[encoded data removed]",
            "text/plain": [
              "Plot with title “Q-Q plot for gene: TIMMDC1”"
            ]
          },
          "metadata": {
            "tags": [],
            "image/png": {
              "width": 240,
              "height": 240
            },
            "text/plain": {
              "width": 240,
              "height": 240
            }
          }
        }
      ]
    },
    {
      "cell_type": "markdown",
      "metadata": {
        "id": "JIER7SLuN8dI",
        "colab_type": "text"
      },
      "source": [
        "Interested users can also plot the observed vs the expected gene expression levels to investigate the test statistics with the `plotExpectedVsObservedCounts` function."
      ]
    },
    {
      "cell_type": "markdown",
      "metadata": {
        "colab_type": "text",
        "id": "QRGZWHF9KwPl"
      },
      "source": [
        "## What to do if you see many outliers in a case?\n",
        "\n",
        "Let's have a look at a second case: **NA11918**.\n",
        "\n",
        "* How many outliers do you see in this case?\n",
        "* Are they all disease-related?\n",
        "* How could you prioritize further to get a handful of candidates only?\n",
        "* Could a Z score cutoff be helpful?"
      ]
    },
    {
      "cell_type": "code",
      "metadata": {
        "colab_type": "code",
        "id": "i8nWbpagKwPm",
        "colab": {
          "base_uri": "https://localhost:8080/",
          "height": 257
        },
        "outputId": "5163cd40-781b-4e8f-d82b-7c817da70ff0"
      },
      "source": [
        "# make the plot wider\n",
        "options(repr.plot.width=7, repr.plot.height=4)\n",
        "\n",
        "# Volcano plot with significance based on p value and on Z score threshold\n",
        "ggarrange(ncol=2,\n",
        "    plotVolcano(ods, \"NA11918\", main=\"FDR (<0.05) based volcano plot\", \n",
        "            base=TRUE, padjCutoff=0.05, zScoreCutoff=0),\n",
        "    plotVolcano(ods, \"NA11918\", main=\"Z score (>3) based volcano plot\",\n",
        "            base=TRUE, padjCutoff=1, zScoreCutoff=3))"
      ],
      "execution_count": null,
      "outputs": [
        {
          "output_type": "display_data",
          "data": {
            "image/png": "[encoded data removed]",
            "text/plain": [
              "plot without title"
            ]
          },
          "metadata": {
            "tags": [],
            "image/png": {
              "width": 420,
              "height": 240
            },
            "text/plain": {
              "width": 420,
              "height": 240
            }
          }
        }
      ]
    },
    {
      "cell_type": "code",
      "metadata": {
        "colab_type": "code",
        "id": "f_bRV__mKwPn",
        "colab": {
          "base_uri": "https://localhost:8080/",
          "height": 540
        },
        "outputId": "0011bc8e-f3fc-4595-e2b1-b2466c0d2afd"
      },
      "source": [
        "# subset results for this patient\n",
        "res[sampleID == \"NA11918\"]"
      ],
      "execution_count": null,
      "outputs": [
        {
          "output_type": "display_data",
          "data": {
            "text/plain": [
              "   geneID        sampleID pValue       padjust      zScore l2fc  rawcounts\n",
              "1  BRWD3         NA11918  9.912019e-12 1.584084e-06 -7.30  -1.55  276     \n",
              "2  PCED1B        NA11918  8.187413e-11 6.542334e-06 -8.10  -6.76    1     \n",
              "3  KLHL3         NA11918  8.106887e-10 4.318658e-05 -7.65  -3.55    7     \n",
              "4  GOPC          NA11918  2.697668e-09 8.622527e-05 -6.37  -0.82  511     \n",
              "5  PRKD3         NA11918  2.236631e-09 8.622527e-05 -7.36  -4.34   31     \n",
              "6  DNMT3A        NA11918  9.679296e-09 2.578152e-04 -6.27  -1.25  276     \n",
              "7  EEF1A1P4      NA11918  1.338870e-08 3.056724e-04  5.22   0.90 3279     \n",
              "8  GOLGA8A       NA11918  6.331866e-08 1.264905e-03 -6.57  -3.44  124     \n",
              "9  CHD3          NA11918  1.731402e-07 3.074479e-03 -5.68  -1.11 1020     \n",
              "10 ARMCX2        NA11918  2.767336e-07 4.422602e-03 -6.09  -5.67    6     \n",
              "11 TRIM6         NA11918  3.389566e-07 4.924560e-03 -6.86  -4.98    3     \n",
              "12 SEL1L3        NA11918  4.754167e-07 6.072543e-03 -6.77  -6.50    7     \n",
              "13 SNX12         NA11918  5.319645e-07 6.072543e-03 -5.44  -0.80  342     \n",
              "14 PLD6          NA11918  5.232034e-07 6.072543e-03 -5.82  -3.79   10     \n",
              "15 IPCEF1        NA11918  6.767654e-07 6.759804e-03 -6.11  -3.57   63     \n",
              "16 NFATC2        NA11918  6.478113e-07 6.759804e-03 -6.64  -5.32   13     \n",
              "17 RP11-381K20.2 NA11918  7.395325e-07 6.952234e-03 -6.75  -3.55    2     \n",
              "18 KLHDC7B       NA11918  1.144761e-06 1.016385e-02 -6.85  -4.47    1     \n",
              "19 MNX1          NA11918  2.088033e-06 1.668489e-02 -5.63  -3.42   15     \n",
              "20 EIF5A2        NA11918  1.988882e-06 1.668489e-02 -6.23  -4.22    3     \n",
              "21 MCOLN1        NA11918  2.462093e-06 1.873705e-02 -6.35  -1.61   16     \n",
              "22 TAF8          NA11918  2.887021e-06 2.097217e-02 -4.92  -0.58  449     \n",
              "   normcounts meanCorrected theta  aberrant AberrantBySample AberrantByGene\n",
              "1   268.88     791.68        62.89 TRUE     22               1             \n",
              "2     1.16     253.15         7.76 TRUE     22               1             \n",
              "3    23.63     298.54        19.21 TRUE     22               1             \n",
              "4   651.26    1143.54       162.43 TRUE     22               1             \n",
              "5    46.08     990.91         9.54 TRUE     22               1             \n",
              "6   608.10    1439.17        66.27 TRUE     22               1             \n",
              "7  3923.37    2122.09        67.63 TRUE     22               1             \n",
              "8   200.67    2184.00        10.54 TRUE     22               1             \n",
              "9  1746.91    3755.65        61.94 TRUE     22               1             \n",
              "10    9.18     549.43         5.18 TRUE     22               1             \n",
              "11    4.18     170.31         6.80 TRUE     22               1             \n",
              "12   19.17    2050.83         4.07 TRUE     22               1             \n",
              "13  576.74    1003.45       124.44 TRUE     22               1             \n",
              "14   15.61     237.17         9.13 TRUE     22               2             \n",
              "15  118.10    1440.34         8.60 TRUE     22               1             \n",
              "16   17.71     771.92         5.11 TRUE     22               1             \n",
              "17    2.82      48.05        18.36 TRUE     22               1             \n",
              "18    2.24      92.10         9.82 TRUE     22               1             \n",
              "19   12.58     141.22         9.20 TRUE     22               1             \n",
              "20    2.46      61.19         8.06 TRUE     22               1             \n",
              "21   34.48     110.54        92.43 TRUE     22               1             \n",
              "22  494.52     738.79       217.28 TRUE     22               1             \n",
              "   padj_rank\n",
              "1   1.0     \n",
              "2   2.0     \n",
              "3   3.0     \n",
              "4   4.5     \n",
              "5   4.5     \n",
              "6   6.0     \n",
              "7   7.0     \n",
              "8   8.0     \n",
              "9   9.0     \n",
              "10 10.0     \n",
              "11 11.0     \n",
              "12 13.0     \n",
              "13 13.0     \n",
              "14 13.0     \n",
              "15 15.5     \n",
              "16 15.5     \n",
              "17 17.0     \n",
              "18 18.0     \n",
              "19 19.5     \n",
              "20 19.5     \n",
              "21 21.0     \n",
              "22 22.0     "
            ],
            "text/latex": "A data.table: 22 × 14\n\\begin{tabular}{llllllllllllll}\n geneID & sampleID & pValue & padjust & zScore & l2fc & rawcounts & normcounts & meanCorrected & theta & aberrant & AberrantBySample & AberrantByGene & padj\\_rank\\\\\n <chr> & <chr> & <dbl> & <dbl> & <dbl> & <dbl> & <int> & <dbl> & <dbl> & <dbl> & <lgl> & <dbl> & <dbl> & <dbl>\\\\\n\\hline\n\t BRWD3         & NA11918 & 9.912019e-12 & 1.584084e-06 & -7.30 & -1.55 &  276 &  268.88 &  791.68 &  62.89 & TRUE & 22 & 1 &  1.0\\\\\n\t PCED1B        & NA11918 & 8.187413e-11 & 6.542334e-06 & -8.10 & -6.76 &    1 &    1.16 &  253.15 &   7.76 & TRUE & 22 & 1 &  2.0\\\\\n\t KLHL3         & NA11918 & 8.106887e-10 & 4.318658e-05 & -7.65 & -3.55 &    7 &   23.63 &  298.54 &  19.21 & TRUE & 22 & 1 &  3.0\\\\\n\t GOPC          & NA11918 & 2.697668e-09 & 8.622527e-05 & -6.37 & -0.82 &  511 &  651.26 & 1143.54 & 162.43 & TRUE & 22 & 1 &  4.5\\\\\n\t PRKD3         & NA11918 & 2.236631e-09 & 8.622527e-05 & -7.36 & -4.34 &   31 &   46.08 &  990.91 &   9.54 & TRUE & 22 & 1 &  4.5\\\\\n\t DNMT3A        & NA11918 & 9.679296e-09 & 2.578152e-04 & -6.27 & -1.25 &  276 &  608.10 & 1439.17 &  66.27 & TRUE & 22 & 1 &  6.0\\\\\n\t EEF1A1P4      & NA11918 & 1.338870e-08 & 3.056724e-04 &  5.22 &  0.90 & 3279 & 3923.37 & 2122.09 &  67.63 & TRUE & 22 & 1 &  7.0\\\\\n\t GOLGA8A       & NA11918 & 6.331866e-08 & 1.264905e-03 & -6.57 & -3.44 &  124 &  200.67 & 2184.00 &  10.54 & TRUE & 22 & 1 &  8.0\\\\\n\t CHD3          & NA11918 & 1.731402e-07 & 3.074479e-03 & -5.68 & -1.11 & 1020 & 1746.91 & 3755.65 &  61.94 & TRUE & 22 & 1 &  9.0\\\\\n\t ARMCX2        & NA11918 & 2.767336e-07 & 4.422602e-03 & -6.09 & -5.67 &    6 &    9.18 &  549.43 &   5.18 & TRUE & 22 & 1 & 10.0\\\\\n\t TRIM6         & NA11918 & 3.389566e-07 & 4.924560e-03 & -6.86 & -4.98 &    3 &    4.18 &  170.31 &   6.80 & TRUE & 22 & 1 & 11.0\\\\\n\t SEL1L3        & NA11918 & 4.754167e-07 & 6.072543e-03 & -6.77 & -6.50 &    7 &   19.17 & 2050.83 &   4.07 & TRUE & 22 & 1 & 13.0\\\\\n\t SNX12         & NA11918 & 5.319645e-07 & 6.072543e-03 & -5.44 & -0.80 &  342 &  576.74 & 1003.45 & 124.44 & TRUE & 22 & 1 & 13.0\\\\\n\t PLD6          & NA11918 & 5.232034e-07 & 6.072543e-03 & -5.82 & -3.79 &   10 &   15.61 &  237.17 &   9.13 & TRUE & 22 & 2 & 13.0\\\\\n\t IPCEF1        & NA11918 & 6.767654e-07 & 6.759804e-03 & -6.11 & -3.57 &   63 &  118.10 & 1440.34 &   8.60 & TRUE & 22 & 1 & 15.5\\\\\n\t NFATC2        & NA11918 & 6.478113e-07 & 6.759804e-03 & -6.64 & -5.32 &   13 &   17.71 &  771.92 &   5.11 & TRUE & 22 & 1 & 15.5\\\\\n\t RP11-381K20.2 & NA11918 & 7.395325e-07 & 6.952234e-03 & -6.75 & -3.55 &    2 &    2.82 &   48.05 &  18.36 & TRUE & 22 & 1 & 17.0\\\\\n\t KLHDC7B       & NA11918 & 1.144761e-06 & 1.016385e-02 & -6.85 & -4.47 &    1 &    2.24 &   92.10 &   9.82 & TRUE & 22 & 1 & 18.0\\\\\n\t MNX1          & NA11918 & 2.088033e-06 & 1.668489e-02 & -5.63 & -3.42 &   15 &   12.58 &  141.22 &   9.20 & TRUE & 22 & 1 & 19.5\\\\\n\t EIF5A2        & NA11918 & 1.988882e-06 & 1.668489e-02 & -6.23 & -4.22 &    3 &    2.46 &   61.19 &   8.06 & TRUE & 22 & 1 & 19.5\\\\\n\t MCOLN1        & NA11918 & 2.462093e-06 & 1.873705e-02 & -6.35 & -1.61 &   16 &   34.48 &  110.54 &  92.43 & TRUE & 22 & 1 & 21.0\\\\\n\t TAF8          & NA11918 & 2.887021e-06 & 2.097217e-02 & -4.92 & -0.58 &  449 &  494.52 &  738.79 & 217.28 & TRUE & 22 & 1 & 22.0\\\\\n\\end{tabular}\n",
            "text/markdown": "\nA data.table: 22 × 14\n\n| geneID &lt;chr&gt; | sampleID &lt;chr&gt; | pValue &lt;dbl&gt; | padjust &lt;dbl&gt; | zScore &lt;dbl&gt; | l2fc &lt;dbl&gt; | rawcounts &lt;int&gt; | normcounts &lt;dbl&gt; | meanCorrected &lt;dbl&gt; | theta &lt;dbl&gt; | aberrant &lt;lgl&gt; | AberrantBySample &lt;dbl&gt; | AberrantByGene &lt;dbl&gt; | padj_rank &lt;dbl&gt; |\n|---|---|---|---|---|---|---|---|---|---|---|---|---|---|\n| BRWD3         | NA11918 | 9.912019e-12 | 1.584084e-06 | -7.30 | -1.55 |  276 |  268.88 |  791.68 |  62.89 | TRUE | 22 | 1 |  1.0 |\n| PCED1B        | NA11918 | 8.187413e-11 | 6.542334e-06 | -8.10 | -6.76 |    1 |    1.16 |  253.15 |   7.76 | TRUE | 22 | 1 |  2.0 |\n| KLHL3         | NA11918 | 8.106887e-10 | 4.318658e-05 | -7.65 | -3.55 |    7 |   23.63 |  298.54 |  19.21 | TRUE | 22 | 1 |  3.0 |\n| GOPC          | NA11918 | 2.697668e-09 | 8.622527e-05 | -6.37 | -0.82 |  511 |  651.26 | 1143.54 | 162.43 | TRUE | 22 | 1 |  4.5 |\n| PRKD3         | NA11918 | 2.236631e-09 | 8.622527e-05 | -7.36 | -4.34 |   31 |   46.08 |  990.91 |   9.54 | TRUE | 22 | 1 |  4.5 |\n| DNMT3A        | NA11918 | 9.679296e-09 | 2.578152e-04 | -6.27 | -1.25 |  276 |  608.10 | 1439.17 |  66.27 | TRUE | 22 | 1 |  6.0 |\n| EEF1A1P4      | NA11918 | 1.338870e-08 | 3.056724e-04 |  5.22 |  0.90 | 3279 | 3923.37 | 2122.09 |  67.63 | TRUE | 22 | 1 |  7.0 |\n| GOLGA8A       | NA11918 | 6.331866e-08 | 1.264905e-03 | -6.57 | -3.44 |  124 |  200.67 | 2184.00 |  10.54 | TRUE | 22 | 1 |  8.0 |\n| CHD3          | NA11918 | 1.731402e-07 | 3.074479e-03 | -5.68 | -1.11 | 1020 | 1746.91 | 3755.65 |  61.94 | TRUE | 22 | 1 |  9.0 |\n| ARMCX2        | NA11918 | 2.767336e-07 | 4.422602e-03 | -6.09 | -5.67 |    6 |    9.18 |  549.43 |   5.18 | TRUE | 22 | 1 | 10.0 |\n| TRIM6         | NA11918 | 3.389566e-07 | 4.924560e-03 | -6.86 | -4.98 |    3 |    4.18 |  170.31 |   6.80 | TRUE | 22 | 1 | 11.0 |\n| SEL1L3        | NA11918 | 4.754167e-07 | 6.072543e-03 | -6.77 | -6.50 |    7 |   19.17 | 2050.83 |   4.07 | TRUE | 22 | 1 | 13.0 |\n| SNX12         | NA11918 | 5.319645e-07 | 6.072543e-03 | -5.44 | -0.80 |  342 |  576.74 | 1003.45 | 124.44 | TRUE | 22 | 1 | 13.0 |\n| PLD6          | NA11918 | 5.232034e-07 | 6.072543e-03 | -5.82 | -3.79 |   10 |   15.61 |  237.17 |   9.13 | TRUE | 22 | 2 | 13.0 |\n| IPCEF1        | NA11918 | 6.767654e-07 | 6.759804e-03 | -6.11 | -3.57 |   63 |  118.10 | 1440.34 |   8.60 | TRUE | 22 | 1 | 15.5 |\n| NFATC2        | NA11918 | 6.478113e-07 | 6.759804e-03 | -6.64 | -5.32 |   13 |   17.71 |  771.92 |   5.11 | TRUE | 22 | 1 | 15.5 |\n| RP11-381K20.2 | NA11918 | 7.395325e-07 | 6.952234e-03 | -6.75 | -3.55 |    2 |    2.82 |   48.05 |  18.36 | TRUE | 22 | 1 | 17.0 |\n| KLHDC7B       | NA11918 | 1.144761e-06 | 1.016385e-02 | -6.85 | -4.47 |    1 |    2.24 |   92.10 |   9.82 | TRUE | 22 | 1 | 18.0 |\n| MNX1          | NA11918 | 2.088033e-06 | 1.668489e-02 | -5.63 | -3.42 |   15 |   12.58 |  141.22 |   9.20 | TRUE | 22 | 1 | 19.5 |\n| EIF5A2        | NA11918 | 1.988882e-06 | 1.668489e-02 | -6.23 | -4.22 |    3 |    2.46 |   61.19 |   8.06 | TRUE | 22 | 1 | 19.5 |\n| MCOLN1        | NA11918 | 2.462093e-06 | 1.873705e-02 | -6.35 | -1.61 |   16 |   34.48 |  110.54 |  92.43 | TRUE | 22 | 1 | 21.0 |\n| TAF8          | NA11918 | 2.887021e-06 | 2.097217e-02 | -4.92 | -0.58 |  449 |  494.52 |  738.79 | 217.28 | TRUE | 22 | 1 | 22.0 |\n\n",
            "text/html": [
              "<table>\n",
              "<caption>A data.table: 22 × 14</caption>\n",
              "<thead>\n",
              "\t<tr><th scope=col>geneID</th><th scope=col>sampleID</th><th scope=col>pValue</th><th scope=col>padjust</th><th scope=col>zScore</th><th scope=col>l2fc</th><th scope=col>rawcounts</th><th scope=col>normcounts</th><th scope=col>meanCorrected</th><th scope=col>theta</th><th scope=col>aberrant</th><th scope=col>AberrantBySample</th><th scope=col>AberrantByGene</th><th scope=col>padj_rank</th></tr>\n",
              "\t<tr><th scope=col>&lt;chr&gt;</th><th scope=col>&lt;chr&gt;</th><th scope=col>&lt;dbl&gt;</th><th scope=col>&lt;dbl&gt;</th><th scope=col>&lt;dbl&gt;</th><th scope=col>&lt;dbl&gt;</th><th scope=col>&lt;int&gt;</th><th scope=col>&lt;dbl&gt;</th><th scope=col>&lt;dbl&gt;</th><th scope=col>&lt;dbl&gt;</th><th scope=col>&lt;lgl&gt;</th><th scope=col>&lt;dbl&gt;</th><th scope=col>&lt;dbl&gt;</th><th scope=col>&lt;dbl&gt;</th></tr>\n",
              "</thead>\n",
              "<tbody>\n",
              "\t<tr><td>BRWD3        </td><td>NA11918</td><td>9.912019e-12</td><td>1.584084e-06</td><td>-7.30</td><td>-1.55</td><td> 276</td><td> 268.88</td><td> 791.68</td><td> 62.89</td><td>TRUE</td><td>22</td><td>1</td><td> 1.0</td></tr>\n",
              "\t<tr><td>PCED1B       </td><td>NA11918</td><td>8.187413e-11</td><td>6.542334e-06</td><td>-8.10</td><td>-6.76</td><td>   1</td><td>   1.16</td><td> 253.15</td><td>  7.76</td><td>TRUE</td><td>22</td><td>1</td><td> 2.0</td></tr>\n",
              "\t<tr><td>KLHL3        </td><td>NA11918</td><td>8.106887e-10</td><td>4.318658e-05</td><td>-7.65</td><td>-3.55</td><td>   7</td><td>  23.63</td><td> 298.54</td><td> 19.21</td><td>TRUE</td><td>22</td><td>1</td><td> 3.0</td></tr>\n",
              "\t<tr><td>GOPC         </td><td>NA11918</td><td>2.697668e-09</td><td>8.622527e-05</td><td>-6.37</td><td>-0.82</td><td> 511</td><td> 651.26</td><td>1143.54</td><td>162.43</td><td>TRUE</td><td>22</td><td>1</td><td> 4.5</td></tr>\n",
              "\t<tr><td>PRKD3        </td><td>NA11918</td><td>2.236631e-09</td><td>8.622527e-05</td><td>-7.36</td><td>-4.34</td><td>  31</td><td>  46.08</td><td> 990.91</td><td>  9.54</td><td>TRUE</td><td>22</td><td>1</td><td> 4.5</td></tr>\n",
              "\t<tr><td>DNMT3A       </td><td>NA11918</td><td>9.679296e-09</td><td>2.578152e-04</td><td>-6.27</td><td>-1.25</td><td> 276</td><td> 608.10</td><td>1439.17</td><td> 66.27</td><td>TRUE</td><td>22</td><td>1</td><td> 6.0</td></tr>\n",
              "\t<tr><td>EEF1A1P4     </td><td>NA11918</td><td>1.338870e-08</td><td>3.056724e-04</td><td> 5.22</td><td> 0.90</td><td>3279</td><td>3923.37</td><td>2122.09</td><td> 67.63</td><td>TRUE</td><td>22</td><td>1</td><td> 7.0</td></tr>\n",
              "\t<tr><td>GOLGA8A      </td><td>NA11918</td><td>6.331866e-08</td><td>1.264905e-03</td><td>-6.57</td><td>-3.44</td><td> 124</td><td> 200.67</td><td>2184.00</td><td> 10.54</td><td>TRUE</td><td>22</td><td>1</td><td> 8.0</td></tr>\n",
              "\t<tr><td>CHD3         </td><td>NA11918</td><td>1.731402e-07</td><td>3.074479e-03</td><td>-5.68</td><td>-1.11</td><td>1020</td><td>1746.91</td><td>3755.65</td><td> 61.94</td><td>TRUE</td><td>22</td><td>1</td><td> 9.0</td></tr>\n",
              "\t<tr><td>ARMCX2       </td><td>NA11918</td><td>2.767336e-07</td><td>4.422602e-03</td><td>-6.09</td><td>-5.67</td><td>   6</td><td>   9.18</td><td> 549.43</td><td>  5.18</td><td>TRUE</td><td>22</td><td>1</td><td>10.0</td></tr>\n",
              "\t<tr><td>TRIM6        </td><td>NA11918</td><td>3.389566e-07</td><td>4.924560e-03</td><td>-6.86</td><td>-4.98</td><td>   3</td><td>   4.18</td><td> 170.31</td><td>  6.80</td><td>TRUE</td><td>22</td><td>1</td><td>11.0</td></tr>\n",
              "\t<tr><td>SEL1L3       </td><td>NA11918</td><td>4.754167e-07</td><td>6.072543e-03</td><td>-6.77</td><td>-6.50</td><td>   7</td><td>  19.17</td><td>2050.83</td><td>  4.07</td><td>TRUE</td><td>22</td><td>1</td><td>13.0</td></tr>\n",
              "\t<tr><td>SNX12        </td><td>NA11918</td><td>5.319645e-07</td><td>6.072543e-03</td><td>-5.44</td><td>-0.80</td><td> 342</td><td> 576.74</td><td>1003.45</td><td>124.44</td><td>TRUE</td><td>22</td><td>1</td><td>13.0</td></tr>\n",
              "\t<tr><td>PLD6         </td><td>NA11918</td><td>5.232034e-07</td><td>6.072543e-03</td><td>-5.82</td><td>-3.79</td><td>  10</td><td>  15.61</td><td> 237.17</td><td>  9.13</td><td>TRUE</td><td>22</td><td>2</td><td>13.0</td></tr>\n",
              "\t<tr><td>IPCEF1       </td><td>NA11918</td><td>6.767654e-07</td><td>6.759804e-03</td><td>-6.11</td><td>-3.57</td><td>  63</td><td> 118.10</td><td>1440.34</td><td>  8.60</td><td>TRUE</td><td>22</td><td>1</td><td>15.5</td></tr>\n",
              "\t<tr><td>NFATC2       </td><td>NA11918</td><td>6.478113e-07</td><td>6.759804e-03</td><td>-6.64</td><td>-5.32</td><td>  13</td><td>  17.71</td><td> 771.92</td><td>  5.11</td><td>TRUE</td><td>22</td><td>1</td><td>15.5</td></tr>\n",
              "\t<tr><td>RP11-381K20.2</td><td>NA11918</td><td>7.395325e-07</td><td>6.952234e-03</td><td>-6.75</td><td>-3.55</td><td>   2</td><td>   2.82</td><td>  48.05</td><td> 18.36</td><td>TRUE</td><td>22</td><td>1</td><td>17.0</td></tr>\n",
              "\t<tr><td>KLHDC7B      </td><td>NA11918</td><td>1.144761e-06</td><td>1.016385e-02</td><td>-6.85</td><td>-4.47</td><td>   1</td><td>   2.24</td><td>  92.10</td><td>  9.82</td><td>TRUE</td><td>22</td><td>1</td><td>18.0</td></tr>\n",
              "\t<tr><td>MNX1         </td><td>NA11918</td><td>2.088033e-06</td><td>1.668489e-02</td><td>-5.63</td><td>-3.42</td><td>  15</td><td>  12.58</td><td> 141.22</td><td>  9.20</td><td>TRUE</td><td>22</td><td>1</td><td>19.5</td></tr>\n",
              "\t<tr><td>EIF5A2       </td><td>NA11918</td><td>1.988882e-06</td><td>1.668489e-02</td><td>-6.23</td><td>-4.22</td><td>   3</td><td>   2.46</td><td>  61.19</td><td>  8.06</td><td>TRUE</td><td>22</td><td>1</td><td>19.5</td></tr>\n",
              "\t<tr><td>MCOLN1       </td><td>NA11918</td><td>2.462093e-06</td><td>1.873705e-02</td><td>-6.35</td><td>-1.61</td><td>  16</td><td>  34.48</td><td> 110.54</td><td> 92.43</td><td>TRUE</td><td>22</td><td>1</td><td>21.0</td></tr>\n",
              "\t<tr><td>TAF8         </td><td>NA11918</td><td>2.887021e-06</td><td>2.097217e-02</td><td>-4.92</td><td>-0.58</td><td> 449</td><td> 494.52</td><td> 738.79</td><td>217.28</td><td>TRUE</td><td>22</td><td>1</td><td>22.0</td></tr>\n",
              "</tbody>\n",
              "</table>\n"
            ]
          },
          "metadata": {
            "tags": []
          }
        }
      ]
    },
    {
      "cell_type": "markdown",
      "metadata": {
        "colab_type": "text",
        "id": "-7YUqEfwKwPo"
      },
      "source": [
        "And if you want to have the Z score based results table you can extract it as following:"
      ]
    },
    {
      "cell_type": "code",
      "metadata": {
        "colab_type": "code",
        "id": "jXFLcukHKwPo",
        "colab": {
          "base_uri": "https://localhost:8080/",
          "height": 1000
        },
        "outputId": "9d02eafe-19ea-4d02-e78c-8776942f223b"
      },
      "source": [
        "resZscore <- results(ods, padjCutoff=1, zScoreCutoff=3)\n",
        "resZscore[sampleID == \"NA11918\"]"
      ],
      "execution_count": null,
      "outputs": [
        {
          "output_type": "display_data",
          "data": {
            "text/plain": [
              "    geneID          sampleID pValue       padjust      zScore l2fc  rawcounts\n",
              "1   BRWD3           NA11918  9.912019e-12 1.584084e-06 -7.30  -1.55  276     \n",
              "2   PCED1B          NA11918  8.187413e-11 6.542334e-06 -8.10  -6.76    1     \n",
              "3   KLHL3           NA11918  8.106887e-10 4.318658e-05 -7.65  -3.55    7     \n",
              "4   GOPC            NA11918  2.697668e-09 8.622527e-05 -6.37  -0.82  511     \n",
              "5   PRKD3           NA11918  2.236631e-09 8.622527e-05 -7.36  -4.34   31     \n",
              "6   DNMT3A          NA11918  9.679296e-09 2.578152e-04 -6.27  -1.25  276     \n",
              "7   EEF1A1P4        NA11918  1.338870e-08 3.056724e-04  5.22   0.90 3279     \n",
              "8   GOLGA8A         NA11918  6.331866e-08 1.264905e-03 -6.57  -3.44  124     \n",
              "9   CHD3            NA11918  1.731402e-07 3.074479e-03 -5.68  -1.11 1020     \n",
              "10  ARMCX2          NA11918  2.767336e-07 4.422602e-03 -6.09  -5.67    6     \n",
              "11  TRIM6           NA11918  3.389566e-07 4.924560e-03 -6.86  -4.98    3     \n",
              "12  SEL1L3          NA11918  4.754167e-07 6.072543e-03 -6.77  -6.50    7     \n",
              "13  SNX12           NA11918  5.319645e-07 6.072543e-03 -5.44  -0.80  342     \n",
              "14  PLD6            NA11918  5.232034e-07 6.072543e-03 -5.82  -3.79   10     \n",
              "15  IPCEF1          NA11918  6.767654e-07 6.759804e-03 -6.11  -3.57   63     \n",
              "16  NFATC2          NA11918  6.478113e-07 6.759804e-03 -6.64  -5.32   13     \n",
              "17  RP11-381K20.2   NA11918  7.395325e-07 6.952234e-03 -6.75  -3.55    2     \n",
              "18  KLHDC7B         NA11918  1.144761e-06 1.016385e-02 -6.85  -4.47    1     \n",
              "19  MNX1            NA11918  2.088033e-06 1.668489e-02 -5.63  -3.42   15     \n",
              "20  EIF5A2          NA11918  1.988882e-06 1.668489e-02 -6.23  -4.22    3     \n",
              "21  MCOLN1          NA11918  2.462093e-06 1.873705e-02 -6.35  -1.61   16     \n",
              "22  TAF8            NA11918  2.887021e-06 2.097217e-02 -4.92  -0.58  449     \n",
              "23  PCED1B-AS1      NA11918  8.995196e-06 6.250270e-02 -5.31  -2.65   21     \n",
              "24  SPECC1          NA11918  1.110657e-05 7.099961e-02 -4.98  -1.45  159     \n",
              "25  BIN1            NA11918  1.103847e-05 7.099961e-02 -5.26  -2.94   69     \n",
              "26  GNA15           NA11918  1.823548e-05 1.120882e-01 -5.11  -2.54  171     \n",
              "27  MYADM           NA11918  2.027219e-05 1.199922e-01 -5.58  -5.62   14     \n",
              "28  TSPAN12         NA11918  2.254913e-05 1.287027e-01 -5.03  -3.31   78     \n",
              "29  ITPKB           NA11918  2.348100e-05 1.294001e-01 -4.87  -1.67  139     \n",
              "30  OGFOD3          NA11918  3.289274e-05 1.712748e-01 -4.42  -0.72  220     \n",
              "⋮   ⋮               ⋮        ⋮            ⋮            ⋮      ⋮     ⋮        \n",
              "242 HNRNPA1P57      NA11918  0.0151530881 1             3.08   1.28   8      \n",
              "243 RP11-443B7.2    NA11918  0.0272053841 1            -3.51  -2.83   0      \n",
              "244 OXCT2P1         NA11918  0.0032517141 1            -3.49  -2.15   8      \n",
              "245 RPS4XP18        NA11918  0.0072780227 1            -3.44  -2.35   2      \n",
              "246 ABCF2P1         NA11918  0.0138093621 1            -3.24  -0.67  27      \n",
              "247 RPS24P16        NA11918  0.0018734853 1            -3.52  -2.43   1      \n",
              "248 EIF4EBP3        NA11918  0.0187414234 1            -3.37  -1.80   3      \n",
              "249 NUDT16P1        NA11918  0.0020681420 1            -3.48  -4.85   3      \n",
              "250 ATP5LP3         NA11918  0.0127399933 1            -3.62  -0.81  18      \n",
              "251 CHMP4A          NA11918  0.0117828848 1            -3.03  -0.49  72      \n",
              "252 RP11-890B15.3   NA11918  0.0074086745 1            -3.02  -0.69  53      \n",
              "253 LBX2-AS1        NA11918  0.0012906688 1            -4.06  -1.90  10      \n",
              "254 RP11-713N11.4   NA11918  0.0907636050 1            -3.17  -2.18   0      \n",
              "255 PIGHP1          NA11918  0.0024540062 1            -3.88  -1.13  14      \n",
              "256 RP5-1085F17.3   NA11918  0.0099203510 1            -3.10  -1.21  20      \n",
              "257 RP11-20I23.6    NA11918  0.0253690357 1            -3.56  -2.50   0      \n",
              "258 YBX3P1          NA11918  0.0004563837 1            -3.66  -0.72 220      \n",
              "259 ALOX12P2        NA11918  0.0063650504 1            -3.17  -4.64   0      \n",
              "260 TXNIP           NA11918  0.0090897026 1            -3.06  -1.99  41      \n",
              "261 RP11-1020A11.1  NA11918  0.1184556533 1            -3.17  -1.94   0      \n",
              "262 RP11-65L3.4     NA11918  0.0762756208 1            -3.21  -2.28   0      \n",
              "263 RP11-326G21.1   NA11918  0.0098737013 1            -3.97  -2.74   0      \n",
              "264 ENSG00000273604 NA11918  0.0006819413 1            -3.77  -1.21 229      \n",
              "265 ENSG00000275302 NA11918  0.0074485168 1            -3.05  -2.05 614      \n",
              "266 ENSG00000275342 NA11918  0.0046064786 1            -3.15  -1.37 106      \n",
              "267 ENSG00000275764 NA11918  0.0024685692 1            -3.41  -0.98  44      \n",
              "268 ENSG00000277566 NA11918  0.1098112096 1            -3.49  -1.97   0      \n",
              "269 ENSG00000278133 NA11918  0.0043378344 1            -3.55  -0.93  24      \n",
              "270 ENSG00000278978 NA11918  0.0462992590 1            -3.26  -3.45   0      \n",
              "271 ENSG00000284713 NA11918  0.0004354621 1            -4.19  -2.16  65      \n",
              "    normcounts meanCorrected theta   aberrant AberrantBySample AberrantByGene\n",
              "1    277.29     815.55        62.89  TRUE     271              1             \n",
              "2      1.13     243.48         7.76  TRUE     271              2             \n",
              "3     24.11     318.92        19.21  TRUE     271              1             \n",
              "4    661.75    1167.13       162.43  TRUE     271              1             \n",
              "5     47.85    1002.16         9.54  TRUE     271              1             \n",
              "6    625.14    1491.90        66.27  TRUE     271              1             \n",
              "7   3973.77    2127.49        67.63  TRUE     271              1             \n",
              "8    205.94    2254.99        10.54  TRUE     271              1             \n",
              "9   1780.03    3844.86        61.94  TRUE     271              1             \n",
              "10     9.40     559.08         5.18  TRUE     271              3             \n",
              "11     4.24     176.77         6.80  TRUE     271              1             \n",
              "12    19.86    2046.11         4.07  TRUE     271              2             \n",
              "13   581.31    1012.12       124.44  TRUE     271              1             \n",
              "14    15.80     238.88         9.13  TRUE     271              2             \n",
              "15   122.62    1474.54         8.60  TRUE     271              1             \n",
              "16    17.51     751.41         5.11  TRUE     271              1             \n",
              "17     2.79      47.64        18.36  TRUE     271              1             \n",
              "18     2.32     100.42         9.82  TRUE     271              1             \n",
              "19    13.63     154.14         9.20  TRUE     271              2             \n",
              "20     2.50      61.51         8.06  TRUE     271              2             \n",
              "21    34.98     111.12        92.43  TRUE     271              1             \n",
              "22   492.29     733.83       217.28  TRUE     271              1             \n",
              "23    33.12     215.69        12.23  TRUE     271              2             \n",
              "24   275.46     754.97        29.50  TRUE     271              1             \n",
              "25   114.17     886.47         9.07  TRUE     271              1             \n",
              "26   189.54    1104.49        10.61  TRUE     271              2             \n",
              "27    12.10     634.03         3.51  TRUE     271              2             \n",
              "28    41.03     412.52         7.01  TRUE     271              3             \n",
              "29   295.86     945.17        21.12  TRUE     271              1             \n",
              "30   271.91     447.22       115.19  TRUE     271              1             \n",
              "⋮   ⋮          ⋮             ⋮       ⋮        ⋮                ⋮             \n",
              "242  36.48       12.28         79.68 TRUE     271              1             \n",
              "243   0.00       10.64          6.44 TRUE     271              2             \n",
              "244   7.92       38.72          8.96 TRUE     271              2             \n",
              "245   1.99       14.12         10.06 TRUE     271              1             \n",
              "246  46.25       74.41        396.48 TRUE     271              1             \n",
              "247   0.66        6.42         84.21 TRUE     271              2             \n",
              "248   4.51       19.42         14.65 TRUE     271              1             \n",
              "249   3.29      125.13          2.45 TRUE     271              4             \n",
              "250  41.07       73.67        293.92 TRUE     271              1             \n",
              "251 108.68      153.00        219.02 TRUE     271              2             \n",
              "252  68.90      111.64         80.82 TRUE     271              1             \n",
              "253  14.08       56.62         14.60 TRUE     271              1             \n",
              "254   0.00        7.63         12.21 TRUE     271              1             \n",
              "255  17.60       39.94        101.91 TRUE     271              1             \n",
              "256  31.10       73.53         20.71 TRUE     271              2             \n",
              "257   0.00        4.83         32.95 TRUE     271              1             \n",
              "258 226.12      373.88         72.66 TRUE     271              2             \n",
              "259   0.00       62.25          2.40 TRUE     271              6             \n",
              "260 318.62     1290.58          6.35 TRUE     271              2             \n",
              "261   0.00        6.56       1000.00 TRUE     271              2             \n",
              "262   0.00        8.64         10.33 TRUE     271              2             \n",
              "263   0.00        7.60         39.00 TRUE     271              2             \n",
              "264 250.77      580.10         23.70 TRUE     271              1             \n",
              "265 492.04     2043.30          6.03 TRUE     271              2             \n",
              "266 281.72      734.08         13.57 TRUE     271              2             \n",
              "267  61.58      122.61         40.68 TRUE     271              2             \n",
              "268   0.00        5.40       1000.00 TRUE     271              1             \n",
              "269  28.92       56.35         72.23 TRUE     271              1             \n",
              "270   0.00        5.53          2.21 TRUE     271              1             \n",
              "271  51.37      232.89          9.64 TRUE     271              1             \n",
              "    padj_rank\n",
              "1    1.0     \n",
              "2    2.0     \n",
              "3    3.0     \n",
              "4    4.5     \n",
              "5    4.5     \n",
              "6    6.0     \n",
              "7    7.0     \n",
              "8    8.0     \n",
              "9    9.0     \n",
              "10  10.0     \n",
              "11  11.0     \n",
              "12  13.0     \n",
              "13  13.0     \n",
              "14  13.0     \n",
              "15  15.5     \n",
              "16  15.5     \n",
              "17  17.0     \n",
              "18  18.0     \n",
              "19  19.5     \n",
              "20  19.5     \n",
              "21  21.0     \n",
              "22  22.0     \n",
              "23  23.0     \n",
              "24  24.5     \n",
              "25  24.5     \n",
              "26  26.0     \n",
              "27  27.0     \n",
              "28  28.0     \n",
              "29  29.0     \n",
              "30  30.5     \n",
              "⋮   ⋮        \n",
              "242 3627     \n",
              "243 3627     \n",
              "244 3627     \n",
              "245 3627     \n",
              "246 3627     \n",
              "247 3627     \n",
              "248 3627     \n",
              "249 3627     \n",
              "250 3627     \n",
              "251 3627     \n",
              "252 3627     \n",
              "253 3627     \n",
              "254 3627     \n",
              "255 3627     \n",
              "256 3627     \n",
              "257 3627     \n",
              "258 3627     \n",
              "259 3627     \n",
              "260 3627     \n",
              "261 3627     \n",
              "262 3627     \n",
              "263 3627     \n",
              "264 3627     \n",
              "265 3627     \n",
              "266 3627     \n",
              "267 3627     \n",
              "268 3627     \n",
              "269 3627     \n",
              "270 3627     \n",
              "271 3627     "
            ],
            "text/latex": "A data.table: 271 × 14\n\\begin{tabular}{llllllllllllll}\n geneID & sampleID & pValue & padjust & zScore & l2fc & rawcounts & normcounts & meanCorrected & theta & aberrant & AberrantBySample & AberrantByGene & padj\\_rank\\\\\n <chr> & <chr> & <dbl> & <dbl> & <dbl> & <dbl> & <int> & <dbl> & <dbl> & <dbl> & <lgl> & <dbl> & <dbl> & <dbl>\\\\\n\\hline\n\t BRWD3         & NA11918 & 9.912019e-12 & 1.584084e-06 & -7.30 & -1.55 &  276 &  277.29 &  815.55 &  62.89 & TRUE & 271 & 1 &  1.0\\\\\n\t PCED1B        & NA11918 & 8.187413e-11 & 6.542334e-06 & -8.10 & -6.76 &    1 &    1.13 &  243.48 &   7.76 & TRUE & 271 & 2 &  2.0\\\\\n\t KLHL3         & NA11918 & 8.106887e-10 & 4.318658e-05 & -7.65 & -3.55 &    7 &   24.11 &  318.92 &  19.21 & TRUE & 271 & 1 &  3.0\\\\\n\t GOPC          & NA11918 & 2.697668e-09 & 8.622527e-05 & -6.37 & -0.82 &  511 &  661.75 & 1167.13 & 162.43 & TRUE & 271 & 1 &  4.5\\\\\n\t PRKD3         & NA11918 & 2.236631e-09 & 8.622527e-05 & -7.36 & -4.34 &   31 &   47.85 & 1002.16 &   9.54 & TRUE & 271 & 1 &  4.5\\\\\n\t DNMT3A        & NA11918 & 9.679296e-09 & 2.578152e-04 & -6.27 & -1.25 &  276 &  625.14 & 1491.90 &  66.27 & TRUE & 271 & 1 &  6.0\\\\\n\t EEF1A1P4      & NA11918 & 1.338870e-08 & 3.056724e-04 &  5.22 &  0.90 & 3279 & 3973.77 & 2127.49 &  67.63 & TRUE & 271 & 1 &  7.0\\\\\n\t GOLGA8A       & NA11918 & 6.331866e-08 & 1.264905e-03 & -6.57 & -3.44 &  124 &  205.94 & 2254.99 &  10.54 & TRUE & 271 & 1 &  8.0\\\\\n\t CHD3          & NA11918 & 1.731402e-07 & 3.074479e-03 & -5.68 & -1.11 & 1020 & 1780.03 & 3844.86 &  61.94 & TRUE & 271 & 1 &  9.0\\\\\n\t ARMCX2        & NA11918 & 2.767336e-07 & 4.422602e-03 & -6.09 & -5.67 &    6 &    9.40 &  559.08 &   5.18 & TRUE & 271 & 3 & 10.0\\\\\n\t TRIM6         & NA11918 & 3.389566e-07 & 4.924560e-03 & -6.86 & -4.98 &    3 &    4.24 &  176.77 &   6.80 & TRUE & 271 & 1 & 11.0\\\\\n\t SEL1L3        & NA11918 & 4.754167e-07 & 6.072543e-03 & -6.77 & -6.50 &    7 &   19.86 & 2046.11 &   4.07 & TRUE & 271 & 2 & 13.0\\\\\n\t SNX12         & NA11918 & 5.319645e-07 & 6.072543e-03 & -5.44 & -0.80 &  342 &  581.31 & 1012.12 & 124.44 & TRUE & 271 & 1 & 13.0\\\\\n\t PLD6          & NA11918 & 5.232034e-07 & 6.072543e-03 & -5.82 & -3.79 &   10 &   15.80 &  238.88 &   9.13 & TRUE & 271 & 2 & 13.0\\\\\n\t IPCEF1        & NA11918 & 6.767654e-07 & 6.759804e-03 & -6.11 & -3.57 &   63 &  122.62 & 1474.54 &   8.60 & TRUE & 271 & 1 & 15.5\\\\\n\t NFATC2        & NA11918 & 6.478113e-07 & 6.759804e-03 & -6.64 & -5.32 &   13 &   17.51 &  751.41 &   5.11 & TRUE & 271 & 1 & 15.5\\\\\n\t RP11-381K20.2 & NA11918 & 7.395325e-07 & 6.952234e-03 & -6.75 & -3.55 &    2 &    2.79 &   47.64 &  18.36 & TRUE & 271 & 1 & 17.0\\\\\n\t KLHDC7B       & NA11918 & 1.144761e-06 & 1.016385e-02 & -6.85 & -4.47 &    1 &    2.32 &  100.42 &   9.82 & TRUE & 271 & 1 & 18.0\\\\\n\t MNX1          & NA11918 & 2.088033e-06 & 1.668489e-02 & -5.63 & -3.42 &   15 &   13.63 &  154.14 &   9.20 & TRUE & 271 & 2 & 19.5\\\\\n\t EIF5A2        & NA11918 & 1.988882e-06 & 1.668489e-02 & -6.23 & -4.22 &    3 &    2.50 &   61.51 &   8.06 & TRUE & 271 & 2 & 19.5\\\\\n\t MCOLN1        & NA11918 & 2.462093e-06 & 1.873705e-02 & -6.35 & -1.61 &   16 &   34.98 &  111.12 &  92.43 & TRUE & 271 & 1 & 21.0\\\\\n\t TAF8          & NA11918 & 2.887021e-06 & 2.097217e-02 & -4.92 & -0.58 &  449 &  492.29 &  733.83 & 217.28 & TRUE & 271 & 1 & 22.0\\\\\n\t PCED1B-AS1    & NA11918 & 8.995196e-06 & 6.250270e-02 & -5.31 & -2.65 &   21 &   33.12 &  215.69 &  12.23 & TRUE & 271 & 2 & 23.0\\\\\n\t SPECC1        & NA11918 & 1.110657e-05 & 7.099961e-02 & -4.98 & -1.45 &  159 &  275.46 &  754.97 &  29.50 & TRUE & 271 & 1 & 24.5\\\\\n\t BIN1          & NA11918 & 1.103847e-05 & 7.099961e-02 & -5.26 & -2.94 &   69 &  114.17 &  886.47 &   9.07 & TRUE & 271 & 1 & 24.5\\\\\n\t GNA15         & NA11918 & 1.823548e-05 & 1.120882e-01 & -5.11 & -2.54 &  171 &  189.54 & 1104.49 &  10.61 & TRUE & 271 & 2 & 26.0\\\\\n\t MYADM         & NA11918 & 2.027219e-05 & 1.199922e-01 & -5.58 & -5.62 &   14 &   12.10 &  634.03 &   3.51 & TRUE & 271 & 2 & 27.0\\\\\n\t TSPAN12       & NA11918 & 2.254913e-05 & 1.287027e-01 & -5.03 & -3.31 &   78 &   41.03 &  412.52 &   7.01 & TRUE & 271 & 3 & 28.0\\\\\n\t ITPKB         & NA11918 & 2.348100e-05 & 1.294001e-01 & -4.87 & -1.67 &  139 &  295.86 &  945.17 &  21.12 & TRUE & 271 & 1 & 29.0\\\\\n\t OGFOD3        & NA11918 & 3.289274e-05 & 1.712748e-01 & -4.42 & -0.72 &  220 &  271.91 &  447.22 & 115.19 & TRUE & 271 & 1 & 30.5\\\\\n\t ⋮ & ⋮ & ⋮ & ⋮ & ⋮ & ⋮ & ⋮ & ⋮ & ⋮ & ⋮ & ⋮ & ⋮ & ⋮ & ⋮\\\\\n\t HNRNPA1P57      & NA11918 & 0.0151530881 & 1 &  3.08 &  1.28 &   8 &  36.48 &   12.28 &   79.68 & TRUE & 271 & 1 & 3627\\\\\n\t RP11-443B7.2    & NA11918 & 0.0272053841 & 1 & -3.51 & -2.83 &   0 &   0.00 &   10.64 &    6.44 & TRUE & 271 & 2 & 3627\\\\\n\t OXCT2P1         & NA11918 & 0.0032517141 & 1 & -3.49 & -2.15 &   8 &   7.92 &   38.72 &    8.96 & TRUE & 271 & 2 & 3627\\\\\n\t RPS4XP18        & NA11918 & 0.0072780227 & 1 & -3.44 & -2.35 &   2 &   1.99 &   14.12 &   10.06 & TRUE & 271 & 1 & 3627\\\\\n\t ABCF2P1         & NA11918 & 0.0138093621 & 1 & -3.24 & -0.67 &  27 &  46.25 &   74.41 &  396.48 & TRUE & 271 & 1 & 3627\\\\\n\t RPS24P16        & NA11918 & 0.0018734853 & 1 & -3.52 & -2.43 &   1 &   0.66 &    6.42 &   84.21 & TRUE & 271 & 2 & 3627\\\\\n\t EIF4EBP3        & NA11918 & 0.0187414234 & 1 & -3.37 & -1.80 &   3 &   4.51 &   19.42 &   14.65 & TRUE & 271 & 1 & 3627\\\\\n\t NUDT16P1        & NA11918 & 0.0020681420 & 1 & -3.48 & -4.85 &   3 &   3.29 &  125.13 &    2.45 & TRUE & 271 & 4 & 3627\\\\\n\t ATP5LP3         & NA11918 & 0.0127399933 & 1 & -3.62 & -0.81 &  18 &  41.07 &   73.67 &  293.92 & TRUE & 271 & 1 & 3627\\\\\n\t CHMP4A          & NA11918 & 0.0117828848 & 1 & -3.03 & -0.49 &  72 & 108.68 &  153.00 &  219.02 & TRUE & 271 & 2 & 3627\\\\\n\t RP11-890B15.3   & NA11918 & 0.0074086745 & 1 & -3.02 & -0.69 &  53 &  68.90 &  111.64 &   80.82 & TRUE & 271 & 1 & 3627\\\\\n\t LBX2-AS1        & NA11918 & 0.0012906688 & 1 & -4.06 & -1.90 &  10 &  14.08 &   56.62 &   14.60 & TRUE & 271 & 1 & 3627\\\\\n\t RP11-713N11.4   & NA11918 & 0.0907636050 & 1 & -3.17 & -2.18 &   0 &   0.00 &    7.63 &   12.21 & TRUE & 271 & 1 & 3627\\\\\n\t PIGHP1          & NA11918 & 0.0024540062 & 1 & -3.88 & -1.13 &  14 &  17.60 &   39.94 &  101.91 & TRUE & 271 & 1 & 3627\\\\\n\t RP5-1085F17.3   & NA11918 & 0.0099203510 & 1 & -3.10 & -1.21 &  20 &  31.10 &   73.53 &   20.71 & TRUE & 271 & 2 & 3627\\\\\n\t RP11-20I23.6    & NA11918 & 0.0253690357 & 1 & -3.56 & -2.50 &   0 &   0.00 &    4.83 &   32.95 & TRUE & 271 & 1 & 3627\\\\\n\t YBX3P1          & NA11918 & 0.0004563837 & 1 & -3.66 & -0.72 & 220 & 226.12 &  373.88 &   72.66 & TRUE & 271 & 2 & 3627\\\\\n\t ALOX12P2        & NA11918 & 0.0063650504 & 1 & -3.17 & -4.64 &   0 &   0.00 &   62.25 &    2.40 & TRUE & 271 & 6 & 3627\\\\\n\t TXNIP           & NA11918 & 0.0090897026 & 1 & -3.06 & -1.99 &  41 & 318.62 & 1290.58 &    6.35 & TRUE & 271 & 2 & 3627\\\\\n\t RP11-1020A11.1  & NA11918 & 0.1184556533 & 1 & -3.17 & -1.94 &   0 &   0.00 &    6.56 & 1000.00 & TRUE & 271 & 2 & 3627\\\\\n\t RP11-65L3.4     & NA11918 & 0.0762756208 & 1 & -3.21 & -2.28 &   0 &   0.00 &    8.64 &   10.33 & TRUE & 271 & 2 & 3627\\\\\n\t RP11-326G21.1   & NA11918 & 0.0098737013 & 1 & -3.97 & -2.74 &   0 &   0.00 &    7.60 &   39.00 & TRUE & 271 & 2 & 3627\\\\\n\t ENSG00000273604 & NA11918 & 0.0006819413 & 1 & -3.77 & -1.21 & 229 & 250.77 &  580.10 &   23.70 & TRUE & 271 & 1 & 3627\\\\\n\t ENSG00000275302 & NA11918 & 0.0074485168 & 1 & -3.05 & -2.05 & 614 & 492.04 & 2043.30 &    6.03 & TRUE & 271 & 2 & 3627\\\\\n\t ENSG00000275342 & NA11918 & 0.0046064786 & 1 & -3.15 & -1.37 & 106 & 281.72 &  734.08 &   13.57 & TRUE & 271 & 2 & 3627\\\\\n\t ENSG00000275764 & NA11918 & 0.0024685692 & 1 & -3.41 & -0.98 &  44 &  61.58 &  122.61 &   40.68 & TRUE & 271 & 2 & 3627\\\\\n\t ENSG00000277566 & NA11918 & 0.1098112096 & 1 & -3.49 & -1.97 &   0 &   0.00 &    5.40 & 1000.00 & TRUE & 271 & 1 & 3627\\\\\n\t ENSG00000278133 & NA11918 & 0.0043378344 & 1 & -3.55 & -0.93 &  24 &  28.92 &   56.35 &   72.23 & TRUE & 271 & 1 & 3627\\\\\n\t ENSG00000278978 & NA11918 & 0.0462992590 & 1 & -3.26 & -3.45 &   0 &   0.00 &    5.53 &    2.21 & TRUE & 271 & 1 & 3627\\\\\n\t ENSG00000284713 & NA11918 & 0.0004354621 & 1 & -4.19 & -2.16 &  65 &  51.37 &  232.89 &    9.64 & TRUE & 271 & 1 & 3627\\\\\n\\end{tabular}\n",
            "text/markdown": "\nA data.table: 271 × 14\n\n| geneID &lt;chr&gt; | sampleID &lt;chr&gt; | pValue &lt;dbl&gt; | padjust &lt;dbl&gt; | zScore &lt;dbl&gt; | l2fc &lt;dbl&gt; | rawcounts &lt;int&gt; | normcounts &lt;dbl&gt; | meanCorrected &lt;dbl&gt; | theta &lt;dbl&gt; | aberrant &lt;lgl&gt; | AberrantBySample &lt;dbl&gt; | AberrantByGene &lt;dbl&gt; | padj_rank &lt;dbl&gt; |\n|---|---|---|---|---|---|---|---|---|---|---|---|---|---|\n| BRWD3         | NA11918 | 9.912019e-12 | 1.584084e-06 | -7.30 | -1.55 |  276 |  277.29 |  815.55 |  62.89 | TRUE | 271 | 1 |  1.0 |\n| PCED1B        | NA11918 | 8.187413e-11 | 6.542334e-06 | -8.10 | -6.76 |    1 |    1.13 |  243.48 |   7.76 | TRUE | 271 | 2 |  2.0 |\n| KLHL3         | NA11918 | 8.106887e-10 | 4.318658e-05 | -7.65 | -3.55 |    7 |   24.11 |  318.92 |  19.21 | TRUE | 271 | 1 |  3.0 |\n| GOPC          | NA11918 | 2.697668e-09 | 8.622527e-05 | -6.37 | -0.82 |  511 |  661.75 | 1167.13 | 162.43 | TRUE | 271 | 1 |  4.5 |\n| PRKD3         | NA11918 | 2.236631e-09 | 8.622527e-05 | -7.36 | -4.34 |   31 |   47.85 | 1002.16 |   9.54 | TRUE | 271 | 1 |  4.5 |\n| DNMT3A        | NA11918 | 9.679296e-09 | 2.578152e-04 | -6.27 | -1.25 |  276 |  625.14 | 1491.90 |  66.27 | TRUE | 271 | 1 |  6.0 |\n| EEF1A1P4      | NA11918 | 1.338870e-08 | 3.056724e-04 |  5.22 |  0.90 | 3279 | 3973.77 | 2127.49 |  67.63 | TRUE | 271 | 1 |  7.0 |\n| GOLGA8A       | NA11918 | 6.331866e-08 | 1.264905e-03 | -6.57 | -3.44 |  124 |  205.94 | 2254.99 |  10.54 | TRUE | 271 | 1 |  8.0 |\n| CHD3          | NA11918 | 1.731402e-07 | 3.074479e-03 | -5.68 | -1.11 | 1020 | 1780.03 | 3844.86 |  61.94 | TRUE | 271 | 1 |  9.0 |\n| ARMCX2        | NA11918 | 2.767336e-07 | 4.422602e-03 | -6.09 | -5.67 |    6 |    9.40 |  559.08 |   5.18 | TRUE | 271 | 3 | 10.0 |\n| TRIM6         | NA11918 | 3.389566e-07 | 4.924560e-03 | -6.86 | -4.98 |    3 |    4.24 |  176.77 |   6.80 | TRUE | 271 | 1 | 11.0 |\n| SEL1L3        | NA11918 | 4.754167e-07 | 6.072543e-03 | -6.77 | -6.50 |    7 |   19.86 | 2046.11 |   4.07 | TRUE | 271 | 2 | 13.0 |\n| SNX12         | NA11918 | 5.319645e-07 | 6.072543e-03 | -5.44 | -0.80 |  342 |  581.31 | 1012.12 | 124.44 | TRUE | 271 | 1 | 13.0 |\n| PLD6          | NA11918 | 5.232034e-07 | 6.072543e-03 | -5.82 | -3.79 |   10 |   15.80 |  238.88 |   9.13 | TRUE | 271 | 2 | 13.0 |\n| IPCEF1        | NA11918 | 6.767654e-07 | 6.759804e-03 | -6.11 | -3.57 |   63 |  122.62 | 1474.54 |   8.60 | TRUE | 271 | 1 | 15.5 |\n| NFATC2        | NA11918 | 6.478113e-07 | 6.759804e-03 | -6.64 | -5.32 |   13 |   17.51 |  751.41 |   5.11 | TRUE | 271 | 1 | 15.5 |\n| RP11-381K20.2 | NA11918 | 7.395325e-07 | 6.952234e-03 | -6.75 | -3.55 |    2 |    2.79 |   47.64 |  18.36 | TRUE | 271 | 1 | 17.0 |\n| KLHDC7B       | NA11918 | 1.144761e-06 | 1.016385e-02 | -6.85 | -4.47 |    1 |    2.32 |  100.42 |   9.82 | TRUE | 271 | 1 | 18.0 |\n| MNX1          | NA11918 | 2.088033e-06 | 1.668489e-02 | -5.63 | -3.42 |   15 |   13.63 |  154.14 |   9.20 | TRUE | 271 | 2 | 19.5 |\n| EIF5A2        | NA11918 | 1.988882e-06 | 1.668489e-02 | -6.23 | -4.22 |    3 |    2.50 |   61.51 |   8.06 | TRUE | 271 | 2 | 19.5 |\n| MCOLN1        | NA11918 | 2.462093e-06 | 1.873705e-02 | -6.35 | -1.61 |   16 |   34.98 |  111.12 |  92.43 | TRUE | 271 | 1 | 21.0 |\n| TAF8          | NA11918 | 2.887021e-06 | 2.097217e-02 | -4.92 | -0.58 |  449 |  492.29 |  733.83 | 217.28 | TRUE | 271 | 1 | 22.0 |\n| PCED1B-AS1    | NA11918 | 8.995196e-06 | 6.250270e-02 | -5.31 | -2.65 |   21 |   33.12 |  215.69 |  12.23 | TRUE | 271 | 2 | 23.0 |\n| SPECC1        | NA11918 | 1.110657e-05 | 7.099961e-02 | -4.98 | -1.45 |  159 |  275.46 |  754.97 |  29.50 | TRUE | 271 | 1 | 24.5 |\n| BIN1          | NA11918 | 1.103847e-05 | 7.099961e-02 | -5.26 | -2.94 |   69 |  114.17 |  886.47 |   9.07 | TRUE | 271 | 1 | 24.5 |\n| GNA15         | NA11918 | 1.823548e-05 | 1.120882e-01 | -5.11 | -2.54 |  171 |  189.54 | 1104.49 |  10.61 | TRUE | 271 | 2 | 26.0 |\n| MYADM         | NA11918 | 2.027219e-05 | 1.199922e-01 | -5.58 | -5.62 |   14 |   12.10 |  634.03 |   3.51 | TRUE | 271 | 2 | 27.0 |\n| TSPAN12       | NA11918 | 2.254913e-05 | 1.287027e-01 | -5.03 | -3.31 |   78 |   41.03 |  412.52 |   7.01 | TRUE | 271 | 3 | 28.0 |\n| ITPKB         | NA11918 | 2.348100e-05 | 1.294001e-01 | -4.87 | -1.67 |  139 |  295.86 |  945.17 |  21.12 | TRUE | 271 | 1 | 29.0 |\n| OGFOD3        | NA11918 | 3.289274e-05 | 1.712748e-01 | -4.42 | -0.72 |  220 |  271.91 |  447.22 | 115.19 | TRUE | 271 | 1 | 30.5 |\n| ⋮ | ⋮ | ⋮ | ⋮ | ⋮ | ⋮ | ⋮ | ⋮ | ⋮ | ⋮ | ⋮ | ⋮ | ⋮ | ⋮ |\n| HNRNPA1P57      | NA11918 | 0.0151530881 | 1 |  3.08 |  1.28 |   8 |  36.48 |   12.28 |   79.68 | TRUE | 271 | 1 | 3627 |\n| RP11-443B7.2    | NA11918 | 0.0272053841 | 1 | -3.51 | -2.83 |   0 |   0.00 |   10.64 |    6.44 | TRUE | 271 | 2 | 3627 |\n| OXCT2P1         | NA11918 | 0.0032517141 | 1 | -3.49 | -2.15 |   8 |   7.92 |   38.72 |    8.96 | TRUE | 271 | 2 | 3627 |\n| RPS4XP18        | NA11918 | 0.0072780227 | 1 | -3.44 | -2.35 |   2 |   1.99 |   14.12 |   10.06 | TRUE | 271 | 1 | 3627 |\n| ABCF2P1         | NA11918 | 0.0138093621 | 1 | -3.24 | -0.67 |  27 |  46.25 |   74.41 |  396.48 | TRUE | 271 | 1 | 3627 |\n| RPS24P16        | NA11918 | 0.0018734853 | 1 | -3.52 | -2.43 |   1 |   0.66 |    6.42 |   84.21 | TRUE | 271 | 2 | 3627 |\n| EIF4EBP3        | NA11918 | 0.0187414234 | 1 | -3.37 | -1.80 |   3 |   4.51 |   19.42 |   14.65 | TRUE | 271 | 1 | 3627 |\n| NUDT16P1        | NA11918 | 0.0020681420 | 1 | -3.48 | -4.85 |   3 |   3.29 |  125.13 |    2.45 | TRUE | 271 | 4 | 3627 |\n| ATP5LP3         | NA11918 | 0.0127399933 | 1 | -3.62 | -0.81 |  18 |  41.07 |   73.67 |  293.92 | TRUE | 271 | 1 | 3627 |\n| CHMP4A          | NA11918 | 0.0117828848 | 1 | -3.03 | -0.49 |  72 | 108.68 |  153.00 |  219.02 | TRUE | 271 | 2 | 3627 |\n| RP11-890B15.3   | NA11918 | 0.0074086745 | 1 | -3.02 | -0.69 |  53 |  68.90 |  111.64 |   80.82 | TRUE | 271 | 1 | 3627 |\n| LBX2-AS1        | NA11918 | 0.0012906688 | 1 | -4.06 | -1.90 |  10 |  14.08 |   56.62 |   14.60 | TRUE | 271 | 1 | 3627 |\n| RP11-713N11.4   | NA11918 | 0.0907636050 | 1 | -3.17 | -2.18 |   0 |   0.00 |    7.63 |   12.21 | TRUE | 271 | 1 | 3627 |\n| PIGHP1          | NA11918 | 0.0024540062 | 1 | -3.88 | -1.13 |  14 |  17.60 |   39.94 |  101.91 | TRUE | 271 | 1 | 3627 |\n| RP5-1085F17.3   | NA11918 | 0.0099203510 | 1 | -3.10 | -1.21 |  20 |  31.10 |   73.53 |   20.71 | TRUE | 271 | 2 | 3627 |\n| RP11-20I23.6    | NA11918 | 0.0253690357 | 1 | -3.56 | -2.50 |   0 |   0.00 |    4.83 |   32.95 | TRUE | 271 | 1 | 3627 |\n| YBX3P1          | NA11918 | 0.0004563837 | 1 | -3.66 | -0.72 | 220 | 226.12 |  373.88 |   72.66 | TRUE | 271 | 2 | 3627 |\n| ALOX12P2        | NA11918 | 0.0063650504 | 1 | -3.17 | -4.64 |   0 |   0.00 |   62.25 |    2.40 | TRUE | 271 | 6 | 3627 |\n| TXNIP           | NA11918 | 0.0090897026 | 1 | -3.06 | -1.99 |  41 | 318.62 | 1290.58 |    6.35 | TRUE | 271 | 2 | 3627 |\n| RP11-1020A11.1  | NA11918 | 0.1184556533 | 1 | -3.17 | -1.94 |   0 |   0.00 |    6.56 | 1000.00 | TRUE | 271 | 2 | 3627 |\n| RP11-65L3.4     | NA11918 | 0.0762756208 | 1 | -3.21 | -2.28 |   0 |   0.00 |    8.64 |   10.33 | TRUE | 271 | 2 | 3627 |\n| RP11-326G21.1   | NA11918 | 0.0098737013 | 1 | -3.97 | -2.74 |   0 |   0.00 |    7.60 |   39.00 | TRUE | 271 | 2 | 3627 |\n| ENSG00000273604 | NA11918 | 0.0006819413 | 1 | -3.77 | -1.21 | 229 | 250.77 |  580.10 |   23.70 | TRUE | 271 | 1 | 3627 |\n| ENSG00000275302 | NA11918 | 0.0074485168 | 1 | -3.05 | -2.05 | 614 | 492.04 | 2043.30 |    6.03 | TRUE | 271 | 2 | 3627 |\n| ENSG00000275342 | NA11918 | 0.0046064786 | 1 | -3.15 | -1.37 | 106 | 281.72 |  734.08 |   13.57 | TRUE | 271 | 2 | 3627 |\n| ENSG00000275764 | NA11918 | 0.0024685692 | 1 | -3.41 | -0.98 |  44 |  61.58 |  122.61 |   40.68 | TRUE | 271 | 2 | 3627 |\n| ENSG00000277566 | NA11918 | 0.1098112096 | 1 | -3.49 | -1.97 |   0 |   0.00 |    5.40 | 1000.00 | TRUE | 271 | 1 | 3627 |\n| ENSG00000278133 | NA11918 | 0.0043378344 | 1 | -3.55 | -0.93 |  24 |  28.92 |   56.35 |   72.23 | TRUE | 271 | 1 | 3627 |\n| ENSG00000278978 | NA11918 | 0.0462992590 | 1 | -3.26 | -3.45 |   0 |   0.00 |    5.53 |    2.21 | TRUE | 271 | 1 | 3627 |\n| ENSG00000284713 | NA11918 | 0.0004354621 | 1 | -4.19 | -2.16 |  65 |  51.37 |  232.89 |    9.64 | TRUE | 271 | 1 | 3627 |\n\n",
            "text/html": [
              "<table>\n",
              "<caption>A data.table: 271 × 14</caption>\n",
              "<thead>\n",
              "\t<tr><th scope=col>geneID</th><th scope=col>sampleID</th><th scope=col>pValue</th><th scope=col>padjust</th><th scope=col>zScore</th><th scope=col>l2fc</th><th scope=col>rawcounts</th><th scope=col>normcounts</th><th scope=col>meanCorrected</th><th scope=col>theta</th><th scope=col>aberrant</th><th scope=col>AberrantBySample</th><th scope=col>AberrantByGene</th><th scope=col>padj_rank</th></tr>\n",
              "\t<tr><th scope=col>&lt;chr&gt;</th><th scope=col>&lt;chr&gt;</th><th scope=col>&lt;dbl&gt;</th><th scope=col>&lt;dbl&gt;</th><th scope=col>&lt;dbl&gt;</th><th scope=col>&lt;dbl&gt;</th><th scope=col>&lt;int&gt;</th><th scope=col>&lt;dbl&gt;</th><th scope=col>&lt;dbl&gt;</th><th scope=col>&lt;dbl&gt;</th><th scope=col>&lt;lgl&gt;</th><th scope=col>&lt;dbl&gt;</th><th scope=col>&lt;dbl&gt;</th><th scope=col>&lt;dbl&gt;</th></tr>\n",
              "</thead>\n",
              "<tbody>\n",
              "\t<tr><td>BRWD3        </td><td>NA11918</td><td>9.912019e-12</td><td>1.584084e-06</td><td>-7.30</td><td>-1.55</td><td> 276</td><td> 277.29</td><td> 815.55</td><td> 62.89</td><td>TRUE</td><td>271</td><td>1</td><td> 1.0</td></tr>\n",
              "\t<tr><td>PCED1B       </td><td>NA11918</td><td>8.187413e-11</td><td>6.542334e-06</td><td>-8.10</td><td>-6.76</td><td>   1</td><td>   1.13</td><td> 243.48</td><td>  7.76</td><td>TRUE</td><td>271</td><td>2</td><td> 2.0</td></tr>\n",
              "\t<tr><td>KLHL3        </td><td>NA11918</td><td>8.106887e-10</td><td>4.318658e-05</td><td>-7.65</td><td>-3.55</td><td>   7</td><td>  24.11</td><td> 318.92</td><td> 19.21</td><td>TRUE</td><td>271</td><td>1</td><td> 3.0</td></tr>\n",
              "\t<tr><td>GOPC         </td><td>NA11918</td><td>2.697668e-09</td><td>8.622527e-05</td><td>-6.37</td><td>-0.82</td><td> 511</td><td> 661.75</td><td>1167.13</td><td>162.43</td><td>TRUE</td><td>271</td><td>1</td><td> 4.5</td></tr>\n",
              "\t<tr><td>PRKD3        </td><td>NA11918</td><td>2.236631e-09</td><td>8.622527e-05</td><td>-7.36</td><td>-4.34</td><td>  31</td><td>  47.85</td><td>1002.16</td><td>  9.54</td><td>TRUE</td><td>271</td><td>1</td><td> 4.5</td></tr>\n",
              "\t<tr><td>DNMT3A       </td><td>NA11918</td><td>9.679296e-09</td><td>2.578152e-04</td><td>-6.27</td><td>-1.25</td><td> 276</td><td> 625.14</td><td>1491.90</td><td> 66.27</td><td>TRUE</td><td>271</td><td>1</td><td> 6.0</td></tr>\n",
              "\t<tr><td>EEF1A1P4     </td><td>NA11918</td><td>1.338870e-08</td><td>3.056724e-04</td><td> 5.22</td><td> 0.90</td><td>3279</td><td>3973.77</td><td>2127.49</td><td> 67.63</td><td>TRUE</td><td>271</td><td>1</td><td> 7.0</td></tr>\n",
              "\t<tr><td>GOLGA8A      </td><td>NA11918</td><td>6.331866e-08</td><td>1.264905e-03</td><td>-6.57</td><td>-3.44</td><td> 124</td><td> 205.94</td><td>2254.99</td><td> 10.54</td><td>TRUE</td><td>271</td><td>1</td><td> 8.0</td></tr>\n",
              "\t<tr><td>CHD3         </td><td>NA11918</td><td>1.731402e-07</td><td>3.074479e-03</td><td>-5.68</td><td>-1.11</td><td>1020</td><td>1780.03</td><td>3844.86</td><td> 61.94</td><td>TRUE</td><td>271</td><td>1</td><td> 9.0</td></tr>\n",
              "\t<tr><td>ARMCX2       </td><td>NA11918</td><td>2.767336e-07</td><td>4.422602e-03</td><td>-6.09</td><td>-5.67</td><td>   6</td><td>   9.40</td><td> 559.08</td><td>  5.18</td><td>TRUE</td><td>271</td><td>3</td><td>10.0</td></tr>\n",
              "\t<tr><td>TRIM6        </td><td>NA11918</td><td>3.389566e-07</td><td>4.924560e-03</td><td>-6.86</td><td>-4.98</td><td>   3</td><td>   4.24</td><td> 176.77</td><td>  6.80</td><td>TRUE</td><td>271</td><td>1</td><td>11.0</td></tr>\n",
              "\t<tr><td>SEL1L3       </td><td>NA11918</td><td>4.754167e-07</td><td>6.072543e-03</td><td>-6.77</td><td>-6.50</td><td>   7</td><td>  19.86</td><td>2046.11</td><td>  4.07</td><td>TRUE</td><td>271</td><td>2</td><td>13.0</td></tr>\n",
              "\t<tr><td>SNX12        </td><td>NA11918</td><td>5.319645e-07</td><td>6.072543e-03</td><td>-5.44</td><td>-0.80</td><td> 342</td><td> 581.31</td><td>1012.12</td><td>124.44</td><td>TRUE</td><td>271</td><td>1</td><td>13.0</td></tr>\n",
              "\t<tr><td>PLD6         </td><td>NA11918</td><td>5.232034e-07</td><td>6.072543e-03</td><td>-5.82</td><td>-3.79</td><td>  10</td><td>  15.80</td><td> 238.88</td><td>  9.13</td><td>TRUE</td><td>271</td><td>2</td><td>13.0</td></tr>\n",
              "\t<tr><td>IPCEF1       </td><td>NA11918</td><td>6.767654e-07</td><td>6.759804e-03</td><td>-6.11</td><td>-3.57</td><td>  63</td><td> 122.62</td><td>1474.54</td><td>  8.60</td><td>TRUE</td><td>271</td><td>1</td><td>15.5</td></tr>\n",
              "\t<tr><td>NFATC2       </td><td>NA11918</td><td>6.478113e-07</td><td>6.759804e-03</td><td>-6.64</td><td>-5.32</td><td>  13</td><td>  17.51</td><td> 751.41</td><td>  5.11</td><td>TRUE</td><td>271</td><td>1</td><td>15.5</td></tr>\n",
              "\t<tr><td>RP11-381K20.2</td><td>NA11918</td><td>7.395325e-07</td><td>6.952234e-03</td><td>-6.75</td><td>-3.55</td><td>   2</td><td>   2.79</td><td>  47.64</td><td> 18.36</td><td>TRUE</td><td>271</td><td>1</td><td>17.0</td></tr>\n",
              "\t<tr><td>KLHDC7B      </td><td>NA11918</td><td>1.144761e-06</td><td>1.016385e-02</td><td>-6.85</td><td>-4.47</td><td>   1</td><td>   2.32</td><td> 100.42</td><td>  9.82</td><td>TRUE</td><td>271</td><td>1</td><td>18.0</td></tr>\n",
              "\t<tr><td>MNX1         </td><td>NA11918</td><td>2.088033e-06</td><td>1.668489e-02</td><td>-5.63</td><td>-3.42</td><td>  15</td><td>  13.63</td><td> 154.14</td><td>  9.20</td><td>TRUE</td><td>271</td><td>2</td><td>19.5</td></tr>\n",
              "\t<tr><td>EIF5A2       </td><td>NA11918</td><td>1.988882e-06</td><td>1.668489e-02</td><td>-6.23</td><td>-4.22</td><td>   3</td><td>   2.50</td><td>  61.51</td><td>  8.06</td><td>TRUE</td><td>271</td><td>2</td><td>19.5</td></tr>\n",
              "\t<tr><td>MCOLN1       </td><td>NA11918</td><td>2.462093e-06</td><td>1.873705e-02</td><td>-6.35</td><td>-1.61</td><td>  16</td><td>  34.98</td><td> 111.12</td><td> 92.43</td><td>TRUE</td><td>271</td><td>1</td><td>21.0</td></tr>\n",
              "\t<tr><td>TAF8         </td><td>NA11918</td><td>2.887021e-06</td><td>2.097217e-02</td><td>-4.92</td><td>-0.58</td><td> 449</td><td> 492.29</td><td> 733.83</td><td>217.28</td><td>TRUE</td><td>271</td><td>1</td><td>22.0</td></tr>\n",
              "\t<tr><td>PCED1B-AS1   </td><td>NA11918</td><td>8.995196e-06</td><td>6.250270e-02</td><td>-5.31</td><td>-2.65</td><td>  21</td><td>  33.12</td><td> 215.69</td><td> 12.23</td><td>TRUE</td><td>271</td><td>2</td><td>23.0</td></tr>\n",
              "\t<tr><td>SPECC1       </td><td>NA11918</td><td>1.110657e-05</td><td>7.099961e-02</td><td>-4.98</td><td>-1.45</td><td> 159</td><td> 275.46</td><td> 754.97</td><td> 29.50</td><td>TRUE</td><td>271</td><td>1</td><td>24.5</td></tr>\n",
              "\t<tr><td>BIN1         </td><td>NA11918</td><td>1.103847e-05</td><td>7.099961e-02</td><td>-5.26</td><td>-2.94</td><td>  69</td><td> 114.17</td><td> 886.47</td><td>  9.07</td><td>TRUE</td><td>271</td><td>1</td><td>24.5</td></tr>\n",
              "\t<tr><td>GNA15        </td><td>NA11918</td><td>1.823548e-05</td><td>1.120882e-01</td><td>-5.11</td><td>-2.54</td><td> 171</td><td> 189.54</td><td>1104.49</td><td> 10.61</td><td>TRUE</td><td>271</td><td>2</td><td>26.0</td></tr>\n",
              "\t<tr><td>MYADM        </td><td>NA11918</td><td>2.027219e-05</td><td>1.199922e-01</td><td>-5.58</td><td>-5.62</td><td>  14</td><td>  12.10</td><td> 634.03</td><td>  3.51</td><td>TRUE</td><td>271</td><td>2</td><td>27.0</td></tr>\n",
              "\t<tr><td>TSPAN12      </td><td>NA11918</td><td>2.254913e-05</td><td>1.287027e-01</td><td>-5.03</td><td>-3.31</td><td>  78</td><td>  41.03</td><td> 412.52</td><td>  7.01</td><td>TRUE</td><td>271</td><td>3</td><td>28.0</td></tr>\n",
              "\t<tr><td>ITPKB        </td><td>NA11918</td><td>2.348100e-05</td><td>1.294001e-01</td><td>-4.87</td><td>-1.67</td><td> 139</td><td> 295.86</td><td> 945.17</td><td> 21.12</td><td>TRUE</td><td>271</td><td>1</td><td>29.0</td></tr>\n",
              "\t<tr><td>OGFOD3       </td><td>NA11918</td><td>3.289274e-05</td><td>1.712748e-01</td><td>-4.42</td><td>-0.72</td><td> 220</td><td> 271.91</td><td> 447.22</td><td>115.19</td><td>TRUE</td><td>271</td><td>1</td><td>30.5</td></tr>\n",
              "\t<tr><td>⋮</td><td>⋮</td><td>⋮</td><td>⋮</td><td>⋮</td><td>⋮</td><td>⋮</td><td>⋮</td><td>⋮</td><td>⋮</td><td>⋮</td><td>⋮</td><td>⋮</td><td>⋮</td></tr>\n",
              "\t<tr><td>HNRNPA1P57     </td><td>NA11918</td><td>0.0151530881</td><td>1</td><td> 3.08</td><td> 1.28</td><td>  8</td><td> 36.48</td><td>  12.28</td><td>  79.68</td><td>TRUE</td><td>271</td><td>1</td><td>3627</td></tr>\n",
              "\t<tr><td>RP11-443B7.2   </td><td>NA11918</td><td>0.0272053841</td><td>1</td><td>-3.51</td><td>-2.83</td><td>  0</td><td>  0.00</td><td>  10.64</td><td>   6.44</td><td>TRUE</td><td>271</td><td>2</td><td>3627</td></tr>\n",
              "\t<tr><td>OXCT2P1        </td><td>NA11918</td><td>0.0032517141</td><td>1</td><td>-3.49</td><td>-2.15</td><td>  8</td><td>  7.92</td><td>  38.72</td><td>   8.96</td><td>TRUE</td><td>271</td><td>2</td><td>3627</td></tr>\n",
              "\t<tr><td>RPS4XP18       </td><td>NA11918</td><td>0.0072780227</td><td>1</td><td>-3.44</td><td>-2.35</td><td>  2</td><td>  1.99</td><td>  14.12</td><td>  10.06</td><td>TRUE</td><td>271</td><td>1</td><td>3627</td></tr>\n",
              "\t<tr><td>ABCF2P1        </td><td>NA11918</td><td>0.0138093621</td><td>1</td><td>-3.24</td><td>-0.67</td><td> 27</td><td> 46.25</td><td>  74.41</td><td> 396.48</td><td>TRUE</td><td>271</td><td>1</td><td>3627</td></tr>\n",
              "\t<tr><td>RPS24P16       </td><td>NA11918</td><td>0.0018734853</td><td>1</td><td>-3.52</td><td>-2.43</td><td>  1</td><td>  0.66</td><td>   6.42</td><td>  84.21</td><td>TRUE</td><td>271</td><td>2</td><td>3627</td></tr>\n",
              "\t<tr><td>EIF4EBP3       </td><td>NA11918</td><td>0.0187414234</td><td>1</td><td>-3.37</td><td>-1.80</td><td>  3</td><td>  4.51</td><td>  19.42</td><td>  14.65</td><td>TRUE</td><td>271</td><td>1</td><td>3627</td></tr>\n",
              "\t<tr><td>NUDT16P1       </td><td>NA11918</td><td>0.0020681420</td><td>1</td><td>-3.48</td><td>-4.85</td><td>  3</td><td>  3.29</td><td> 125.13</td><td>   2.45</td><td>TRUE</td><td>271</td><td>4</td><td>3627</td></tr>\n",
              "\t<tr><td>ATP5LP3        </td><td>NA11918</td><td>0.0127399933</td><td>1</td><td>-3.62</td><td>-0.81</td><td> 18</td><td> 41.07</td><td>  73.67</td><td> 293.92</td><td>TRUE</td><td>271</td><td>1</td><td>3627</td></tr>\n",
              "\t<tr><td>CHMP4A         </td><td>NA11918</td><td>0.0117828848</td><td>1</td><td>-3.03</td><td>-0.49</td><td> 72</td><td>108.68</td><td> 153.00</td><td> 219.02</td><td>TRUE</td><td>271</td><td>2</td><td>3627</td></tr>\n",
              "\t<tr><td>RP11-890B15.3  </td><td>NA11918</td><td>0.0074086745</td><td>1</td><td>-3.02</td><td>-0.69</td><td> 53</td><td> 68.90</td><td> 111.64</td><td>  80.82</td><td>TRUE</td><td>271</td><td>1</td><td>3627</td></tr>\n",
              "\t<tr><td>LBX2-AS1       </td><td>NA11918</td><td>0.0012906688</td><td>1</td><td>-4.06</td><td>-1.90</td><td> 10</td><td> 14.08</td><td>  56.62</td><td>  14.60</td><td>TRUE</td><td>271</td><td>1</td><td>3627</td></tr>\n",
              "\t<tr><td>RP11-713N11.4  </td><td>NA11918</td><td>0.0907636050</td><td>1</td><td>-3.17</td><td>-2.18</td><td>  0</td><td>  0.00</td><td>   7.63</td><td>  12.21</td><td>TRUE</td><td>271</td><td>1</td><td>3627</td></tr>\n",
              "\t<tr><td>PIGHP1         </td><td>NA11918</td><td>0.0024540062</td><td>1</td><td>-3.88</td><td>-1.13</td><td> 14</td><td> 17.60</td><td>  39.94</td><td> 101.91</td><td>TRUE</td><td>271</td><td>1</td><td>3627</td></tr>\n",
              "\t<tr><td>RP5-1085F17.3  </td><td>NA11918</td><td>0.0099203510</td><td>1</td><td>-3.10</td><td>-1.21</td><td> 20</td><td> 31.10</td><td>  73.53</td><td>  20.71</td><td>TRUE</td><td>271</td><td>2</td><td>3627</td></tr>\n",
              "\t<tr><td>RP11-20I23.6   </td><td>NA11918</td><td>0.0253690357</td><td>1</td><td>-3.56</td><td>-2.50</td><td>  0</td><td>  0.00</td><td>   4.83</td><td>  32.95</td><td>TRUE</td><td>271</td><td>1</td><td>3627</td></tr>\n",
              "\t<tr><td>YBX3P1         </td><td>NA11918</td><td>0.0004563837</td><td>1</td><td>-3.66</td><td>-0.72</td><td>220</td><td>226.12</td><td> 373.88</td><td>  72.66</td><td>TRUE</td><td>271</td><td>2</td><td>3627</td></tr>\n",
              "\t<tr><td>ALOX12P2       </td><td>NA11918</td><td>0.0063650504</td><td>1</td><td>-3.17</td><td>-4.64</td><td>  0</td><td>  0.00</td><td>  62.25</td><td>   2.40</td><td>TRUE</td><td>271</td><td>6</td><td>3627</td></tr>\n",
              "\t<tr><td>TXNIP          </td><td>NA11918</td><td>0.0090897026</td><td>1</td><td>-3.06</td><td>-1.99</td><td> 41</td><td>318.62</td><td>1290.58</td><td>   6.35</td><td>TRUE</td><td>271</td><td>2</td><td>3627</td></tr>\n",
              "\t<tr><td>RP11-1020A11.1 </td><td>NA11918</td><td>0.1184556533</td><td>1</td><td>-3.17</td><td>-1.94</td><td>  0</td><td>  0.00</td><td>   6.56</td><td>1000.00</td><td>TRUE</td><td>271</td><td>2</td><td>3627</td></tr>\n",
              "\t<tr><td>RP11-65L3.4    </td><td>NA11918</td><td>0.0762756208</td><td>1</td><td>-3.21</td><td>-2.28</td><td>  0</td><td>  0.00</td><td>   8.64</td><td>  10.33</td><td>TRUE</td><td>271</td><td>2</td><td>3627</td></tr>\n",
              "\t<tr><td>RP11-326G21.1  </td><td>NA11918</td><td>0.0098737013</td><td>1</td><td>-3.97</td><td>-2.74</td><td>  0</td><td>  0.00</td><td>   7.60</td><td>  39.00</td><td>TRUE</td><td>271</td><td>2</td><td>3627</td></tr>\n",
              "\t<tr><td>ENSG00000273604</td><td>NA11918</td><td>0.0006819413</td><td>1</td><td>-3.77</td><td>-1.21</td><td>229</td><td>250.77</td><td> 580.10</td><td>  23.70</td><td>TRUE</td><td>271</td><td>1</td><td>3627</td></tr>\n",
              "\t<tr><td>ENSG00000275302</td><td>NA11918</td><td>0.0074485168</td><td>1</td><td>-3.05</td><td>-2.05</td><td>614</td><td>492.04</td><td>2043.30</td><td>   6.03</td><td>TRUE</td><td>271</td><td>2</td><td>3627</td></tr>\n",
              "\t<tr><td>ENSG00000275342</td><td>NA11918</td><td>0.0046064786</td><td>1</td><td>-3.15</td><td>-1.37</td><td>106</td><td>281.72</td><td> 734.08</td><td>  13.57</td><td>TRUE</td><td>271</td><td>2</td><td>3627</td></tr>\n",
              "\t<tr><td>ENSG00000275764</td><td>NA11918</td><td>0.0024685692</td><td>1</td><td>-3.41</td><td>-0.98</td><td> 44</td><td> 61.58</td><td> 122.61</td><td>  40.68</td><td>TRUE</td><td>271</td><td>2</td><td>3627</td></tr>\n",
              "\t<tr><td>ENSG00000277566</td><td>NA11918</td><td>0.1098112096</td><td>1</td><td>-3.49</td><td>-1.97</td><td>  0</td><td>  0.00</td><td>   5.40</td><td>1000.00</td><td>TRUE</td><td>271</td><td>1</td><td>3627</td></tr>\n",
              "\t<tr><td>ENSG00000278133</td><td>NA11918</td><td>0.0043378344</td><td>1</td><td>-3.55</td><td>-0.93</td><td> 24</td><td> 28.92</td><td>  56.35</td><td>  72.23</td><td>TRUE</td><td>271</td><td>1</td><td>3627</td></tr>\n",
              "\t<tr><td>ENSG00000278978</td><td>NA11918</td><td>0.0462992590</td><td>1</td><td>-3.26</td><td>-3.45</td><td>  0</td><td>  0.00</td><td>   5.53</td><td>   2.21</td><td>TRUE</td><td>271</td><td>1</td><td>3627</td></tr>\n",
              "\t<tr><td>ENSG00000284713</td><td>NA11918</td><td>0.0004354621</td><td>1</td><td>-4.19</td><td>-2.16</td><td> 65</td><td> 51.37</td><td> 232.89</td><td>   9.64</td><td>TRUE</td><td>271</td><td>1</td><td>3627</td></tr>\n",
              "</tbody>\n",
              "</table>\n"
            ]
          },
          "metadata": {
            "tags": []
          }
        }
      ]
    },
    {
      "cell_type": "markdown",
      "metadata": {
        "colab_type": "text",
        "id": "4y3LXOjpKwPp"
      },
      "source": [
        "## Expression-Outlier-Exercise for later\n",
        "\n",
        "If you want to test the knowledge you gained in this tutorial, you can try to solve this case by yourself.\n",
        "\n",
        "What we know:\n",
        "\n",
        "`HG00103` has an early-onset rare disease and suffers from \n",
        "  * microcephaly\n",
        "  * brain atrophy\n",
        "  * reduced activities of mitochondrial respiratory complexes I and III\n",
        "\n",
        "Can you find the disease causing gene for this case?"
      ]
    },
    {
      "cell_type": "code",
      "metadata": {
        "colab_type": "code",
        "id": "fz8XrGdIKwPq",
        "colab": {}
      },
      "source": [
        "\n",
        "# TODO write your code with some documentation. \n",
        "# To get you started some questions below\n",
        "\n",
        "# * what are the possible candidates\n",
        "# * what kind of visualization do we have\n",
        "# * have a detailed look at some of the outliers\n",
        "# * can we trust the model fit?\n"
      ],
      "execution_count": null,
      "outputs": []
    },
    {
      "cell_type": "markdown",
      "metadata": {
        "colab_type": "text",
        "id": "MZWUZ09mKwPr"
      },
      "source": [
        "Did you find the right candidate? If you want to validate your findings please have a look at this [paper](https://www.ncbi.nlm.nih.gov/pubmed/26626369)."
      ]
    },
    {
      "cell_type": "markdown",
      "metadata": {
        "id": "zpKzgRL8PTxG",
        "colab_type": "text"
      },
      "source": [
        "# Aberrant Splicing Detection in RNA-seq data\n",
        "\n",
        "A short introduction to splicing can be found [here](https://docs.google.com/presentation/d/1a7KZ6FXwVmGqF-FMAnz0QTk07WgzRWAbFhSNrUBspIQ/edit?pli=1#slide=id.g64b01c344e_4_394)."
      ]
    },
    {
      "cell_type": "markdown",
      "metadata": {
        "id": "UT8by03x-VX7",
        "colab_type": "text"
      },
      "source": [
        "## Data import\n",
        "---\n",
        "\n",
        "First, we have to load the [*FRASER*](http://github.com/c-mertes/FRASER) package that we will use to run the full aberrant splicing analysis. For efficient data handling and visualization we further load [*data.table*](https://cran.r-project.org/web/packages/data.table/index.html), [*ggplot2*](https://cran.r-project.org/web/packages/ggplot2/index.html), and [*ggpubr*](https://cran.r-project.org/web/packages/ggpubr/index.html)."
      ]
    },
    {
      "cell_type": "code",
      "metadata": {
        "id": "DASLb47cVDCK",
        "colab_type": "code",
        "colab": {}
      },
      "source": [
        "library(FRASER)\n",
        "library(data.table)\n",
        "library(ggplot2)\n",
        "library(ggpubr)"
      ],
      "execution_count": null,
      "outputs": []
    },
    {
      "cell_type": "markdown",
      "metadata": {
        "id": "RdHb5dnih5Or",
        "colab_type": "text"
      },
      "source": [
        "We will use the following [dataset](https://i12g-gagneurweb.in.tum.de/public/workshops/RNAseq_ASHG19/input_data/splicing), which is already available in this session.\n",
        "\n",
        "Due to time reasons, we will go through the standard analysis workflow only with a toy dataset. In the end, we provide a fully preprocessed and fitted model to do the final prioritization.\n",
        "\n",
        "We assume that the split reads (reads spanning an exon-exon junction) and non-split reads (reads spanning a splice site) are already counted (e.g. with [FraseR](https://github.com/c-mertes/FraseR), [HTSeq](https://htseq.readthedocs.io/en/release_0.11.1/count.html) or [RSubread](https://bioconductor.org/packages/release/bioc/html/Rsubread.html)).\n",
        "\n",
        "Let's prepare and load the data needed for the aberrant splicing analysis.\n",
        "* Counts (split reads + non-split reads)\n",
        "* Sample annotation"
      ]
    },
    {
      "cell_type": "code",
      "metadata": {
        "id": "zsVX_wL0usr2",
        "colab_type": "code",
        "colab": {}
      },
      "source": [
        "# load and prepare annotation (add needed columns for FRASER)\n",
        "anno <- fread(\"annotation.tsv\")[,1:6]\n",
        "anno[, sampleID:=INDIVIDUAL]\n",
        "anno[, bamFile:=\"<path/to/bam/file/for/each/sample.bam>\"]\n",
        "\n",
        "# get raw counts (remove first column since it is the row index)\n",
        "junctionCts   <- fread(\"./splicing/raw_junction_counts.tsv.gz\")\n",
        "spliceSiteCts <- fread(\"./splicing/raw_site_counts.tsv.gz\")"
      ],
      "execution_count": null,
      "outputs": []
    },
    {
      "cell_type": "markdown",
      "metadata": {
        "id": "07Fu8oF8bKnx",
        "colab_type": "text"
      },
      "source": [
        "Let's have a look at the count matrix and what extra information we have."
      ]
    },
    {
      "cell_type": "code",
      "metadata": {
        "id": "D1BLJYU5mriM",
        "colab_type": "code",
        "colab": {
          "base_uri": "https://localhost:8080/",
          "height": 578
        },
        "outputId": "f1c0cbcf-358c-4b22-e858-eb81d0e8ef0c"
      },
      "source": [
        "head(anno)\n",
        "junctionCts[1:6,1:15]\n",
        "spliceSiteCts[1:6,1:15]"
      ],
      "execution_count": null,
      "outputs": [
        {
          "output_type": "display_data",
          "data": {
            "text/plain": [
              "  RNA_ID               SEX    ORIGIN  LAB      INDIVIDUAL phase1TG sampleID\n",
              "1 HG00096.1.M_111124_6 male   British UNIGE    HG00096    1        HG00096 \n",
              "2 HG00103.4.M_120208_3 male   British ICMB     HG00103    1        HG00103 \n",
              "3 HG00106.4.M_120208_5 female British ICMB     HG00106    1        HG00106 \n",
              "4 HG00111.2.M_111215_4 female British CNAG_CRG HG00111    1        HG00111 \n",
              "5 HG00116.2.M_120131_1 male   British CNAG_CRG HG00116    1        HG00116 \n",
              "6 HG00126.1.M_111124_8 male   British UNIGE    HG00126    1        HG00126 \n",
              "  bamFile                               \n",
              "1 <path/to/bam/file/for/each/sample.bam>\n",
              "2 <path/to/bam/file/for/each/sample.bam>\n",
              "3 <path/to/bam/file/for/each/sample.bam>\n",
              "4 <path/to/bam/file/for/each/sample.bam>\n",
              "5 <path/to/bam/file/for/each/sample.bam>\n",
              "6 <path/to/bam/file/for/each/sample.bam>"
            ],
            "text/latex": "A data.table: 6 × 8\n\\begin{tabular}{llllllll}\n RNA\\_ID & SEX & ORIGIN & LAB & INDIVIDUAL & phase1TG & sampleID & bamFile\\\\\n <chr> & <chr> & <chr> & <chr> & <chr> & <int> & <chr> & <chr>\\\\\n\\hline\n\t HG00096.1.M\\_111124\\_6 & male   & British & UNIGE    & HG00096 & 1 & HG00096 & <path/to/bam/file/for/each/sample.bam>\\\\\n\t HG00103.4.M\\_120208\\_3 & male   & British & ICMB     & HG00103 & 1 & HG00103 & <path/to/bam/file/for/each/sample.bam>\\\\\n\t HG00106.4.M\\_120208\\_5 & female & British & ICMB     & HG00106 & 1 & HG00106 & <path/to/bam/file/for/each/sample.bam>\\\\\n\t HG00111.2.M\\_111215\\_4 & female & British & CNAG\\_CRG & HG00111 & 1 & HG00111 & <path/to/bam/file/for/each/sample.bam>\\\\\n\t HG00116.2.M\\_120131\\_1 & male   & British & CNAG\\_CRG & HG00116 & 1 & HG00116 & <path/to/bam/file/for/each/sample.bam>\\\\\n\t HG00126.1.M\\_111124\\_8 & male   & British & UNIGE    & HG00126 & 1 & HG00126 & <path/to/bam/file/for/each/sample.bam>\\\\\n\\end{tabular}\n",
            "text/markdown": "\nA data.table: 6 × 8\n\n| RNA_ID &lt;chr&gt; | SEX &lt;chr&gt; | ORIGIN &lt;chr&gt; | LAB &lt;chr&gt; | INDIVIDUAL &lt;chr&gt; | phase1TG &lt;int&gt; | sampleID &lt;chr&gt; | bamFile &lt;chr&gt; |\n|---|---|---|---|---|---|---|---|\n| HG00096.1.M_111124_6 | male   | British | UNIGE    | HG00096 | 1 | HG00096 | &lt;path/to/bam/file/for/each/sample.bam&gt; |\n| HG00103.4.M_120208_3 | male   | British | ICMB     | HG00103 | 1 | HG00103 | &lt;path/to/bam/file/for/each/sample.bam&gt; |\n| HG00106.4.M_120208_5 | female | British | ICMB     | HG00106 | 1 | HG00106 | &lt;path/to/bam/file/for/each/sample.bam&gt; |\n| HG00111.2.M_111215_4 | female | British | CNAG_CRG | HG00111 | 1 | HG00111 | &lt;path/to/bam/file/for/each/sample.bam&gt; |\n| HG00116.2.M_120131_1 | male   | British | CNAG_CRG | HG00116 | 1 | HG00116 | &lt;path/to/bam/file/for/each/sample.bam&gt; |\n| HG00126.1.M_111124_8 | male   | British | UNIGE    | HG00126 | 1 | HG00126 | &lt;path/to/bam/file/for/each/sample.bam&gt; |\n\n",
            "text/html": [
              "<table>\n",
              "<caption>A data.table: 6 × 8</caption>\n",
              "<thead>\n",
              "\t<tr><th scope=col>RNA_ID</th><th scope=col>SEX</th><th scope=col>ORIGIN</th><th scope=col>LAB</th><th scope=col>INDIVIDUAL</th><th scope=col>phase1TG</th><th scope=col>sampleID</th><th scope=col>bamFile</th></tr>\n",
              "\t<tr><th scope=col>&lt;chr&gt;</th><th scope=col>&lt;chr&gt;</th><th scope=col>&lt;chr&gt;</th><th scope=col>&lt;chr&gt;</th><th scope=col>&lt;chr&gt;</th><th scope=col>&lt;int&gt;</th><th scope=col>&lt;chr&gt;</th><th scope=col>&lt;chr&gt;</th></tr>\n",
              "</thead>\n",
              "<tbody>\n",
              "\t<tr><td>HG00096.1.M_111124_6</td><td><span style=white-space:pre-wrap>male  </span></td><td>British</td><td><span style=white-space:pre-wrap>UNIGE   </span></td><td>HG00096</td><td>1</td><td>HG00096</td><td>&lt;path/to/bam/file/for/each/sample.bam&gt;</td></tr>\n",
              "\t<tr><td>HG00103.4.M_120208_3</td><td><span style=white-space:pre-wrap>male  </span></td><td>British</td><td><span style=white-space:pre-wrap>ICMB    </span></td><td>HG00103</td><td>1</td><td>HG00103</td><td>&lt;path/to/bam/file/for/each/sample.bam&gt;</td></tr>\n",
              "\t<tr><td>HG00106.4.M_120208_5</td><td>female</td><td>British</td><td><span style=white-space:pre-wrap>ICMB    </span></td><td>HG00106</td><td>1</td><td>HG00106</td><td>&lt;path/to/bam/file/for/each/sample.bam&gt;</td></tr>\n",
              "\t<tr><td>HG00111.2.M_111215_4</td><td>female</td><td>British</td><td>CNAG_CRG</td><td>HG00111</td><td>1</td><td>HG00111</td><td>&lt;path/to/bam/file/for/each/sample.bam&gt;</td></tr>\n",
              "\t<tr><td>HG00116.2.M_120131_1</td><td><span style=white-space:pre-wrap>male  </span></td><td>British</td><td>CNAG_CRG</td><td>HG00116</td><td>1</td><td>HG00116</td><td>&lt;path/to/bam/file/for/each/sample.bam&gt;</td></tr>\n",
              "\t<tr><td>HG00126.1.M_111124_8</td><td><span style=white-space:pre-wrap>male  </span></td><td>British</td><td><span style=white-space:pre-wrap>UNIGE   </span></td><td>HG00126</td><td>1</td><td>HG00126</td><td>&lt;path/to/bam/file/for/each/sample.bam&gt;</td></tr>\n",
              "</tbody>\n",
              "</table>\n"
            ]
          },
          "metadata": {
            "tags": []
          }
        },
        {
          "output_type": "display_data",
          "data": {
            "text/plain": [
              "  seqnames start end     width   strand startID endID  HG00096 HG00103 HG00106\n",
              "1 chr1     12228   12594     367 +      1       686279 0       0       0      \n",
              "2 chr1     12722   13224     503 +      2       686280 0       0       0      \n",
              "3 chr1     13053   13220     168 +      3       686281 0       0       0      \n",
              "4 chr1     14598 1378195 1363598 -      4       686282 0       0       0      \n",
              "5 chr1     14708   14708       1 +      5       686283 0       0       0      \n",
              "6 chr1     14738   14969     232 -      6       686284 0       0       0      \n",
              "  HG00111 HG00116 HG00126 HG00132 HG00149\n",
              "1 0       0       0       0       1      \n",
              "2 0       0       0       0       0      \n",
              "3 0       0       0       0       0      \n",
              "4 0       0       0       0       0      \n",
              "5 0       0       0       0       0      \n",
              "6 1       0       0       0       0      "
            ],
            "text/latex": "A data.table: 6 × 15\n\\begin{tabular}{lllllllllllllll}\n seqnames & start & end & width & strand & startID & endID & HG00096 & HG00103 & HG00106 & HG00111 & HG00116 & HG00126 & HG00132 & HG00149\\\\\n <chr> & <int> & <int> & <int> & <chr> & <int> & <int> & <int> & <int> & <int> & <int> & <int> & <int> & <int> & <int>\\\\\n\\hline\n\t chr1 & 12228 &   12594 &     367 & + & 1 & 686279 & 0 & 0 & 0 & 0 & 0 & 0 & 0 & 1\\\\\n\t chr1 & 12722 &   13224 &     503 & + & 2 & 686280 & 0 & 0 & 0 & 0 & 0 & 0 & 0 & 0\\\\\n\t chr1 & 13053 &   13220 &     168 & + & 3 & 686281 & 0 & 0 & 0 & 0 & 0 & 0 & 0 & 0\\\\\n\t chr1 & 14598 & 1378195 & 1363598 & - & 4 & 686282 & 0 & 0 & 0 & 0 & 0 & 0 & 0 & 0\\\\\n\t chr1 & 14708 &   14708 &       1 & + & 5 & 686283 & 0 & 0 & 0 & 0 & 0 & 0 & 0 & 0\\\\\n\t chr1 & 14738 &   14969 &     232 & - & 6 & 686284 & 0 & 0 & 0 & 1 & 0 & 0 & 0 & 0\\\\\n\\end{tabular}\n",
            "text/markdown": "\nA data.table: 6 × 15\n\n| seqnames &lt;chr&gt; | start &lt;int&gt; | end &lt;int&gt; | width &lt;int&gt; | strand &lt;chr&gt; | startID &lt;int&gt; | endID &lt;int&gt; | HG00096 &lt;int&gt; | HG00103 &lt;int&gt; | HG00106 &lt;int&gt; | HG00111 &lt;int&gt; | HG00116 &lt;int&gt; | HG00126 &lt;int&gt; | HG00132 &lt;int&gt; | HG00149 &lt;int&gt; |\n|---|---|---|---|---|---|---|---|---|---|---|---|---|---|---|\n| chr1 | 12228 |   12594 |     367 | + | 1 | 686279 | 0 | 0 | 0 | 0 | 0 | 0 | 0 | 1 |\n| chr1 | 12722 |   13224 |     503 | + | 2 | 686280 | 0 | 0 | 0 | 0 | 0 | 0 | 0 | 0 |\n| chr1 | 13053 |   13220 |     168 | + | 3 | 686281 | 0 | 0 | 0 | 0 | 0 | 0 | 0 | 0 |\n| chr1 | 14598 | 1378195 | 1363598 | - | 4 | 686282 | 0 | 0 | 0 | 0 | 0 | 0 | 0 | 0 |\n| chr1 | 14708 |   14708 |       1 | + | 5 | 686283 | 0 | 0 | 0 | 0 | 0 | 0 | 0 | 0 |\n| chr1 | 14738 |   14969 |     232 | - | 6 | 686284 | 0 | 0 | 0 | 1 | 0 | 0 | 0 | 0 |\n\n",
            "text/html": [
              "<table>\n",
              "<caption>A data.table: 6 × 15</caption>\n",
              "<thead>\n",
              "\t<tr><th scope=col>seqnames</th><th scope=col>start</th><th scope=col>end</th><th scope=col>width</th><th scope=col>strand</th><th scope=col>startID</th><th scope=col>endID</th><th scope=col>HG00096</th><th scope=col>HG00103</th><th scope=col>HG00106</th><th scope=col>HG00111</th><th scope=col>HG00116</th><th scope=col>HG00126</th><th scope=col>HG00132</th><th scope=col>HG00149</th></tr>\n",
              "\t<tr><th scope=col>&lt;chr&gt;</th><th scope=col>&lt;int&gt;</th><th scope=col>&lt;int&gt;</th><th scope=col>&lt;int&gt;</th><th scope=col>&lt;chr&gt;</th><th scope=col>&lt;int&gt;</th><th scope=col>&lt;int&gt;</th><th scope=col>&lt;int&gt;</th><th scope=col>&lt;int&gt;</th><th scope=col>&lt;int&gt;</th><th scope=col>&lt;int&gt;</th><th scope=col>&lt;int&gt;</th><th scope=col>&lt;int&gt;</th><th scope=col>&lt;int&gt;</th><th scope=col>&lt;int&gt;</th></tr>\n",
              "</thead>\n",
              "<tbody>\n",
              "\t<tr><td>chr1</td><td>12228</td><td>  12594</td><td>    367</td><td>+</td><td>1</td><td>686279</td><td>0</td><td>0</td><td>0</td><td>0</td><td>0</td><td>0</td><td>0</td><td>1</td></tr>\n",
              "\t<tr><td>chr1</td><td>12722</td><td>  13224</td><td>    503</td><td>+</td><td>2</td><td>686280</td><td>0</td><td>0</td><td>0</td><td>0</td><td>0</td><td>0</td><td>0</td><td>0</td></tr>\n",
              "\t<tr><td>chr1</td><td>13053</td><td>  13220</td><td>    168</td><td>+</td><td>3</td><td>686281</td><td>0</td><td>0</td><td>0</td><td>0</td><td>0</td><td>0</td><td>0</td><td>0</td></tr>\n",
              "\t<tr><td>chr1</td><td>14598</td><td>1378195</td><td>1363598</td><td>-</td><td>4</td><td>686282</td><td>0</td><td>0</td><td>0</td><td>0</td><td>0</td><td>0</td><td>0</td><td>0</td></tr>\n",
              "\t<tr><td>chr1</td><td>14708</td><td>  14708</td><td>      1</td><td>+</td><td>5</td><td>686283</td><td>0</td><td>0</td><td>0</td><td>0</td><td>0</td><td>0</td><td>0</td><td>0</td></tr>\n",
              "\t<tr><td>chr1</td><td>14738</td><td>  14969</td><td>    232</td><td>-</td><td>6</td><td>686284</td><td>0</td><td>0</td><td>0</td><td>1</td><td>0</td><td>0</td><td>0</td><td>0</td></tr>\n",
              "</tbody>\n",
              "</table>\n"
            ]
          },
          "metadata": {
            "tags": []
          }
        },
        {
          "output_type": "display_data",
          "data": {
            "text/plain": [
              "  seqnames start end   width strand spliceSiteID type     HG00096 HG00103\n",
              "1 chr1     12227 12228 2     *           1       Donor    0       0      \n",
              "2 chr1     12594 12595 2     *      685990       Acceptor 0       0      \n",
              "3 chr1     12721 12722 2     *           2       Donor    0       0      \n",
              "4 chr1     13052 13053 2     *           3       Donor    0       0      \n",
              "5 chr1     13220 13221 2     *      685992       Acceptor 3       0      \n",
              "6 chr1     13224 13225 2     *      685991       Acceptor 3       0      \n",
              "  HG00106 HG00111 HG00116 HG00126 HG00132 HG00149\n",
              "1 0       0       0       0       0       0      \n",
              "2 0       0       0       0       0       0      \n",
              "3 0       0       0       0       0       0      \n",
              "4 0       1       0       0       0       1      \n",
              "5 0       0       0       0       0       0      \n",
              "6 0       0       0       0       0       0      "
            ],
            "text/latex": "A data.table: 6 × 15\n\\begin{tabular}{lllllllllllllll}\n seqnames & start & end & width & strand & spliceSiteID & type & HG00096 & HG00103 & HG00106 & HG00111 & HG00116 & HG00126 & HG00132 & HG00149\\\\\n <chr> & <int> & <int> & <int> & <chr> & <int> & <chr> & <int> & <int> & <int> & <int> & <int> & <int> & <int> & <int>\\\\\n\\hline\n\t chr1 & 12227 & 12228 & 2 & * &      1 & Donor    & 0 & 0 & 0 & 0 & 0 & 0 & 0 & 0\\\\\n\t chr1 & 12594 & 12595 & 2 & * & 685990 & Acceptor & 0 & 0 & 0 & 0 & 0 & 0 & 0 & 0\\\\\n\t chr1 & 12721 & 12722 & 2 & * &      2 & Donor    & 0 & 0 & 0 & 0 & 0 & 0 & 0 & 0\\\\\n\t chr1 & 13052 & 13053 & 2 & * &      3 & Donor    & 0 & 0 & 0 & 1 & 0 & 0 & 0 & 1\\\\\n\t chr1 & 13220 & 13221 & 2 & * & 685992 & Acceptor & 3 & 0 & 0 & 0 & 0 & 0 & 0 & 0\\\\\n\t chr1 & 13224 & 13225 & 2 & * & 685991 & Acceptor & 3 & 0 & 0 & 0 & 0 & 0 & 0 & 0\\\\\n\\end{tabular}\n",
            "text/markdown": "\nA data.table: 6 × 15\n\n| seqnames &lt;chr&gt; | start &lt;int&gt; | end &lt;int&gt; | width &lt;int&gt; | strand &lt;chr&gt; | spliceSiteID &lt;int&gt; | type &lt;chr&gt; | HG00096 &lt;int&gt; | HG00103 &lt;int&gt; | HG00106 &lt;int&gt; | HG00111 &lt;int&gt; | HG00116 &lt;int&gt; | HG00126 &lt;int&gt; | HG00132 &lt;int&gt; | HG00149 &lt;int&gt; |\n|---|---|---|---|---|---|---|---|---|---|---|---|---|---|---|\n| chr1 | 12227 | 12228 | 2 | * |      1 | Donor    | 0 | 0 | 0 | 0 | 0 | 0 | 0 | 0 |\n| chr1 | 12594 | 12595 | 2 | * | 685990 | Acceptor | 0 | 0 | 0 | 0 | 0 | 0 | 0 | 0 |\n| chr1 | 12721 | 12722 | 2 | * |      2 | Donor    | 0 | 0 | 0 | 0 | 0 | 0 | 0 | 0 |\n| chr1 | 13052 | 13053 | 2 | * |      3 | Donor    | 0 | 0 | 0 | 1 | 0 | 0 | 0 | 1 |\n| chr1 | 13220 | 13221 | 2 | * | 685992 | Acceptor | 3 | 0 | 0 | 0 | 0 | 0 | 0 | 0 |\n| chr1 | 13224 | 13225 | 2 | * | 685991 | Acceptor | 3 | 0 | 0 | 0 | 0 | 0 | 0 | 0 |\n\n",
            "text/html": [
              "<table>\n",
              "<caption>A data.table: 6 × 15</caption>\n",
              "<thead>\n",
              "\t<tr><th scope=col>seqnames</th><th scope=col>start</th><th scope=col>end</th><th scope=col>width</th><th scope=col>strand</th><th scope=col>spliceSiteID</th><th scope=col>type</th><th scope=col>HG00096</th><th scope=col>HG00103</th><th scope=col>HG00106</th><th scope=col>HG00111</th><th scope=col>HG00116</th><th scope=col>HG00126</th><th scope=col>HG00132</th><th scope=col>HG00149</th></tr>\n",
              "\t<tr><th scope=col>&lt;chr&gt;</th><th scope=col>&lt;int&gt;</th><th scope=col>&lt;int&gt;</th><th scope=col>&lt;int&gt;</th><th scope=col>&lt;chr&gt;</th><th scope=col>&lt;int&gt;</th><th scope=col>&lt;chr&gt;</th><th scope=col>&lt;int&gt;</th><th scope=col>&lt;int&gt;</th><th scope=col>&lt;int&gt;</th><th scope=col>&lt;int&gt;</th><th scope=col>&lt;int&gt;</th><th scope=col>&lt;int&gt;</th><th scope=col>&lt;int&gt;</th><th scope=col>&lt;int&gt;</th></tr>\n",
              "</thead>\n",
              "<tbody>\n",
              "\t<tr><td>chr1</td><td>12227</td><td>12228</td><td>2</td><td>*</td><td>     1</td><td>Donor   </td><td>0</td><td>0</td><td>0</td><td>0</td><td>0</td><td>0</td><td>0</td><td>0</td></tr>\n",
              "\t<tr><td>chr1</td><td>12594</td><td>12595</td><td>2</td><td>*</td><td>685990</td><td>Acceptor</td><td>0</td><td>0</td><td>0</td><td>0</td><td>0</td><td>0</td><td>0</td><td>0</td></tr>\n",
              "\t<tr><td>chr1</td><td>12721</td><td>12722</td><td>2</td><td>*</td><td>     2</td><td>Donor   </td><td>0</td><td>0</td><td>0</td><td>0</td><td>0</td><td>0</td><td>0</td><td>0</td></tr>\n",
              "\t<tr><td>chr1</td><td>13052</td><td>13053</td><td>2</td><td>*</td><td>     3</td><td>Donor   </td><td>0</td><td>0</td><td>0</td><td>1</td><td>0</td><td>0</td><td>0</td><td>1</td></tr>\n",
              "\t<tr><td>chr1</td><td>13220</td><td>13221</td><td>2</td><td>*</td><td>685992</td><td>Acceptor</td><td>3</td><td>0</td><td>0</td><td>0</td><td>0</td><td>0</td><td>0</td><td>0</td></tr>\n",
              "\t<tr><td>chr1</td><td>13224</td><td>13225</td><td>2</td><td>*</td><td>685991</td><td>Acceptor</td><td>3</td><td>0</td><td>0</td><td>0</td><td>0</td><td>0</td><td>0</td><td>0</td></tr>\n",
              "</tbody>\n",
              "</table>\n"
            ]
          },
          "metadata": {
            "tags": []
          }
        }
      ]
    },
    {
      "cell_type": "markdown",
      "metadata": {
        "id": "ZlEpUZlKbV_Q",
        "colab_type": "text"
      },
      "source": [
        "Now we can put all the data together and create a FRASER dataset object."
      ]
    },
    {
      "cell_type": "code",
      "metadata": {
        "id": "D5cnqCKKmmCG",
        "colab_type": "code",
        "colab": {
          "base_uri": "https://localhost:8080/",
          "height": 527
        },
        "outputId": "7a453f72-1059-40c9-c9e3-6dcd02e1ddf6"
      },
      "source": [
        "# create FRASER object\n",
        "fds <- FraserDataSet(colData=anno, junctions=junctionCts, \n",
        "        spliceSites=spliceSiteCts)\n",
        "fds"
      ],
      "execution_count": null,
      "outputs": [
        {
          "output_type": "stream",
          "text": [
            "Wed Jun 24 16:46:51 2020: The given working directory '/tmp/RtmpsE3ajd/FRASER' does not exists. We will create it.\n",
            "\n"
          ],
          "name": "stderr"
        },
        {
          "output_type": "display_data",
          "data": {
            "text/plain": [
              "-------------------- Sample data table -----------------\n",
              "\u001b[90m# A tibble: 100 x 8\u001b[39m\n",
              "   RNA_ID      SEX    ORIGIN LAB   INDIVIDUAL phase1TG sampleID bamFile         \n",
              "   \u001b[3m\u001b[90m<chr>\u001b[39m\u001b[23m       \u001b[3m\u001b[90m<chr>\u001b[39m\u001b[23m  \u001b[3m\u001b[90m<chr>\u001b[39m\u001b[23m  \u001b[3m\u001b[90m<chr>\u001b[39m\u001b[23m \u001b[3m\u001b[90m<chr>\u001b[39m\u001b[23m         \u001b[3m\u001b[90m<int>\u001b[39m\u001b[23m \u001b[3m\u001b[90m<chr>\u001b[39m\u001b[23m    \u001b[3m\u001b[90m<chr>\u001b[39m\u001b[23m           \n",
              "\u001b[90m 1\u001b[39m HG00096.1.… male   Briti… UNIGE HG00096           1 HG00096  <path/to/bam/fi…\n",
              "\u001b[90m 2\u001b[39m HG00103.4.… male   Briti… ICMB  HG00103           1 HG00103  <path/to/bam/fi…\n",
              "\u001b[90m 3\u001b[39m HG00106.4.… female Briti… ICMB  HG00106           1 HG00106  <path/to/bam/fi…\n",
              "\u001b[90m 4\u001b[39m HG00111.2.… female Briti… CNAG… HG00111           1 HG00111  <path/to/bam/fi…\n",
              "\u001b[90m 5\u001b[39m HG00116.2.… male   Briti… CNAG… HG00116           1 HG00116  <path/to/bam/fi…\n",
              "\u001b[90m 6\u001b[39m HG00126.1.… male   Briti… UNIGE HG00126           1 HG00126  <path/to/bam/fi…\n",
              "\u001b[90m 7\u001b[39m HG00132.2.… female Briti… CNAG… HG00132           0 HG00132  <path/to/bam/fi…\n",
              "\u001b[90m 8\u001b[39m HG00149.1.… male   Briti… UNIGE HG00149           1 HG00149  <path/to/bam/fi…\n",
              "\u001b[90m 9\u001b[39m HG00150.4.… female Briti… ICMB  HG00150           1 HG00150  <path/to/bam/fi…\n",
              "\u001b[90m10\u001b[39m HG00176.4.… female Finni… ICMB  HG00176           1 HG00176  <path/to/bam/fi…\n",
              "\u001b[90m# … with 90 more rows\u001b[39m\n",
              "\n",
              "Number of samples:      100 \n",
              "Number of junctions:    1178543 \n",
              "Number of splice sites: 1369116 \n",
              "assays(2): rawCountsJ rawCountsSS\n",
              "\n",
              "----------------------- Settings -----------------------\n",
              "Analysis name:               Data Analysis \n",
              "Analysis is strand specific: no \n",
              "Working directory:           '/tmp/RtmpsE3ajd/FRASER' \n",
              "\n",
              "-------------------- BAM parameters --------------------\n",
              "Default used with: bamMapqFilter=0\n"
            ]
          },
          "metadata": {
            "tags": []
          }
        }
      ]
    },
    {
      "cell_type": "markdown",
      "metadata": {
        "id": "Pk27o1WOyz65",
        "colab_type": "text"
      },
      "source": [
        "We will only use a subset to run a fast analysis. Let's take only 2 chromosomes and 50 samples. Also to speed up the processing, we keep the full data in memory and not on disk using HDF5. "
      ]
    },
    {
      "cell_type": "code",
      "metadata": {
        "id": "-xDct8isk-HC",
        "colab_type": "code",
        "colab": {
          "base_uri": "https://localhost:8080/",
          "height": 493
        },
        "outputId": "b22f9a77-2fd7-4247-85fe-78584bf67ac1"
      },
      "source": [
        "fds <- fds[seqnames(fds) %in% c(\"chr3\", \"chr19\"), 1:50]\n",
        "dontWriteHDF5(fds) <- TRUE\n",
        "fds"
      ],
      "execution_count": null,
      "outputs": [
        {
          "output_type": "display_data",
          "data": {
            "text/plain": [
              "-------------------- Sample data table -----------------\n",
              "\u001b[90m# A tibble: 50 x 8\u001b[39m\n",
              "   RNA_ID      SEX    ORIGIN LAB   INDIVIDUAL phase1TG sampleID bamFile         \n",
              "   \u001b[3m\u001b[90m<chr>\u001b[39m\u001b[23m       \u001b[3m\u001b[90m<chr>\u001b[39m\u001b[23m  \u001b[3m\u001b[90m<chr>\u001b[39m\u001b[23m  \u001b[3m\u001b[90m<chr>\u001b[39m\u001b[23m \u001b[3m\u001b[90m<chr>\u001b[39m\u001b[23m         \u001b[3m\u001b[90m<int>\u001b[39m\u001b[23m \u001b[3m\u001b[90m<chr>\u001b[39m\u001b[23m    \u001b[3m\u001b[90m<chr>\u001b[39m\u001b[23m           \n",
              "\u001b[90m 1\u001b[39m HG00096.1.… male   Briti… UNIGE HG00096           1 HG00096  <path/to/bam/fi…\n",
              "\u001b[90m 2\u001b[39m HG00103.4.… male   Briti… ICMB  HG00103           1 HG00103  <path/to/bam/fi…\n",
              "\u001b[90m 3\u001b[39m HG00106.4.… female Briti… ICMB  HG00106           1 HG00106  <path/to/bam/fi…\n",
              "\u001b[90m 4\u001b[39m HG00111.2.… female Briti… CNAG… HG00111           1 HG00111  <path/to/bam/fi…\n",
              "\u001b[90m 5\u001b[39m HG00116.2.… male   Briti… CNAG… HG00116           1 HG00116  <path/to/bam/fi…\n",
              "\u001b[90m 6\u001b[39m HG00126.1.… male   Briti… UNIGE HG00126           1 HG00126  <path/to/bam/fi…\n",
              "\u001b[90m 7\u001b[39m HG00132.2.… female Briti… CNAG… HG00132           0 HG00132  <path/to/bam/fi…\n",
              "\u001b[90m 8\u001b[39m HG00149.1.… male   Briti… UNIGE HG00149           1 HG00149  <path/to/bam/fi…\n",
              "\u001b[90m 9\u001b[39m HG00150.4.… female Briti… ICMB  HG00150           1 HG00150  <path/to/bam/fi…\n",
              "\u001b[90m10\u001b[39m HG00176.4.… female Finni… ICMB  HG00176           1 HG00176  <path/to/bam/fi…\n",
              "\u001b[90m# … with 40 more rows\u001b[39m\n",
              "\n",
              "Number of samples:      50 \n",
              "Number of junctions:    134697 \n",
              "Number of splice sites: 158392 \n",
              "assays(2): rawCountsJ rawCountsSS\n",
              "\n",
              "----------------------- Settings -----------------------\n",
              "Analysis name:               Data Analysis \n",
              "Analysis is strand specific: no \n",
              "Working directory:           '/tmp/RtmpsE3ajd/FRASER' \n",
              "\n",
              "-------------------- BAM parameters --------------------\n",
              "Default used with: bamMapqFilter=0\n"
            ]
          },
          "metadata": {
            "tags": []
          }
        }
      ]
    },
    {
      "cell_type": "markdown",
      "metadata": {
        "id": "OyWMJFVc5-oW",
        "colab_type": "text"
      },
      "source": [
        "## Data preprocessing and QC\n",
        "\n",
        "As with gene expression analysis, a good quality control of the raw data is crucial. For some hints please refere to the [gene expression slides](https://docs.google.com/presentation/d/1a7KZ6FXwVmGqF-FMAnz0QTk07WgzRWAbFhSNrUBspIQ/edit?pli=1#slide=id.g64b01c344e_4_51)."
      ]
    },
    {
      "cell_type": "markdown",
      "metadata": {
        "id": "-HmoGrv8VChf",
        "colab_type": "text"
      },
      "source": [
        "### Filtering the data\n",
        "\n",
        "Before we can filter the data, we have to compute the main splicing metric: the $\\psi$-value (Percent Spliced In)."
      ]
    },
    {
      "cell_type": "code",
      "metadata": {
        "id": "__KgETC1lMOf",
        "colab_type": "code",
        "colab": {
          "base_uri": "https://localhost:8080/",
          "height": 255
        },
        "outputId": "aeb4c113-b50e-4c55-dd3f-b8e7ee49a32f"
      },
      "source": [
        "fds <- calculatePSIValues(fds)"
      ],
      "execution_count": null,
      "outputs": [
        {
          "output_type": "stream",
          "text": [
            "Wed Jun 24 16:46:54 2020: Calculate the PSI 5 and 3 values ...\n",
            "\n",
            "Wed Jun 24 16:47:18 2020: Calculate the PSI site values ...\n",
            "\n",
            "Wed Jun 24 16:47:42 2020: Writing final FRASER object ('/tmp/RtmpsE3ajd/FRASER/savedObjects/Data_Analysis/fds-object.RDS').\n",
            "\n",
            "Wed Jun 24 16:47:56 2020: Calculate the delta for psi5 values ...\n",
            "\n",
            "Wed Jun 24 16:47:56 2020: Calculate the delta for psi3 values ...\n",
            "\n",
            "Wed Jun 24 16:47:57 2020: Calculate the delta for psiSite values ...\n",
            "\n",
            "Wed Jun 24 16:47:58 2020: Writing final FRASER object ('/tmp/RtmpsE3ajd/FRASER/savedObjects/Data_Analysis/fds-object.RDS').\n",
            "\n"
          ],
          "name": "stderr"
        }
      ]
    },
    {
      "cell_type": "markdown",
      "metadata": {
        "id": "Koa2bc0RlNQo",
        "colab_type": "text"
      },
      "source": [
        "\n",
        "Now we can have some cut-offs to filter down the number of junctions we want to test later on.\n",
        "\n",
        "Currently, we keep only junctions which support the following:\n",
        "* At least one sample has 20 reads\n",
        "* 5% of the samples have at least 1 read\n",
        "\n",
        "Furthemore one could filter for:\n",
        "* At least one sample has a $|\\Delta\\psi|$ of 0.1"
      ]
    },
    {
      "cell_type": "code",
      "metadata": {
        "id": "KzraaqJ106PO",
        "colab_type": "code",
        "colab": {
          "base_uri": "https://localhost:8080/",
          "height": 119
        },
        "outputId": "b2353b59-0924-48e6-cfdd-62287f3e3e5d"
      },
      "source": [
        "# TODO make filterExpression working together with OUTRIDER\n",
        "fds <- filterExpressionAndVariability(fds, minDeltaPsi=0.0, filter=FALSE)"
      ],
      "execution_count": null,
      "outputs": [
        {
          "output_type": "stream",
          "text": [
            "Wed Jun 24 16:49:52 2020: Filtering out introns with low read support ...\n",
            "\n",
            "Wed Jun 24 16:49:57 2020: Filtering out non-variable introns ...\n",
            "\n",
            "Wed Jun 24 16:49:58 2020: Filtering done!\n",
            "\n"
          ],
          "name": "stderr"
        }
      ]
    },
    {
      "cell_type": "code",
      "metadata": {
        "id": "s-NGNG26fIVC",
        "colab_type": "code",
        "colab": {
          "base_uri": "https://localhost:8080/",
          "height": 325
        },
        "outputId": "58dc42ae-5939-4fba-94e2-0207e684e861"
      },
      "source": [
        "# make the plot wider\n",
        "options(repr.plot.width=4, repr.plot.height=4)\n",
        "\n",
        "plotFilterExpression(fds, bins=100)"
      ],
      "execution_count": null,
      "outputs": [
        {
          "output_type": "stream",
          "text": [
            "Warning message:\n",
            "“Transformation introduced infinite values in continuous y-axis”\n",
            "Warning message:\n",
            "“Removed 60 rows containing missing values (geom_bar).”\n"
          ],
          "name": "stderr"
        },
        {
          "output_type": "display_data",
          "data": {
            "image/png": "[encoded data removed]",
            "text/plain": [
              "plot without title"
            ]
          },
          "metadata": {
            "tags": [],
            "image/png": {
              "width": 240,
              "height": 240
            },
            "text/plain": {
              "width": 240,
              "height": 240
            }
          }
        }
      ]
    },
    {
      "cell_type": "markdown",
      "metadata": {
        "id": "4mYvizpHOTfu",
        "colab_type": "text"
      },
      "source": [
        "After looking at the expression distribution between filtered and unfiltered junctions, we can now subset the dataset."
      ]
    },
    {
      "cell_type": "code",
      "metadata": {
        "id": "QtUe48dmgCu6",
        "colab_type": "code",
        "colab": {
          "base_uri": "https://localhost:8080/",
          "height": 493
        },
        "outputId": "d54ed180-bb14-4b6c-ef18-f6ae97ed0414"
      },
      "source": [
        "fds <- fds[mcols(fds, type=\"j\")[,\"passed\"],]\n",
        "fds"
      ],
      "execution_count": null,
      "outputs": [
        {
          "output_type": "display_data",
          "data": {
            "text/plain": [
              "-------------------- Sample data table -----------------\n",
              "\u001b[90m# A tibble: 50 x 8\u001b[39m\n",
              "   RNA_ID      SEX    ORIGIN LAB   INDIVIDUAL phase1TG sampleID bamFile         \n",
              "   \u001b[3m\u001b[90m<chr>\u001b[39m\u001b[23m       \u001b[3m\u001b[90m<chr>\u001b[39m\u001b[23m  \u001b[3m\u001b[90m<chr>\u001b[39m\u001b[23m  \u001b[3m\u001b[90m<chr>\u001b[39m\u001b[23m \u001b[3m\u001b[90m<chr>\u001b[39m\u001b[23m         \u001b[3m\u001b[90m<int>\u001b[39m\u001b[23m \u001b[3m\u001b[90m<chr>\u001b[39m\u001b[23m    \u001b[3m\u001b[90m<chr>\u001b[39m\u001b[23m           \n",
              "\u001b[90m 1\u001b[39m HG00096.1.… male   Briti… UNIGE HG00096           1 HG00096  <path/to/bam/fi…\n",
              "\u001b[90m 2\u001b[39m HG00103.4.… male   Briti… ICMB  HG00103           1 HG00103  <path/to/bam/fi…\n",
              "\u001b[90m 3\u001b[39m HG00106.4.… female Briti… ICMB  HG00106           1 HG00106  <path/to/bam/fi…\n",
              "\u001b[90m 4\u001b[39m HG00111.2.… female Briti… CNAG… HG00111           1 HG00111  <path/to/bam/fi…\n",
              "\u001b[90m 5\u001b[39m HG00116.2.… male   Briti… CNAG… HG00116           1 HG00116  <path/to/bam/fi…\n",
              "\u001b[90m 6\u001b[39m HG00126.1.… male   Briti… UNIGE HG00126           1 HG00126  <path/to/bam/fi…\n",
              "\u001b[90m 7\u001b[39m HG00132.2.… female Briti… CNAG… HG00132           0 HG00132  <path/to/bam/fi…\n",
              "\u001b[90m 8\u001b[39m HG00149.1.… male   Briti… UNIGE HG00149           1 HG00149  <path/to/bam/fi…\n",
              "\u001b[90m 9\u001b[39m HG00150.4.… female Briti… ICMB  HG00150           1 HG00150  <path/to/bam/fi…\n",
              "\u001b[90m10\u001b[39m HG00176.4.… female Finni… ICMB  HG00176           1 HG00176  <path/to/bam/fi…\n",
              "\u001b[90m# … with 40 more rows\u001b[39m\n",
              "\n",
              "Number of samples:      50 \n",
              "Number of junctions:    11264 \n",
              "Number of splice sites: 21568 \n",
              "assays(11): rawCountsJ psi5 ... rawOtherCounts_psiSite delta_psiSite\n",
              "\n",
              "----------------------- Settings -----------------------\n",
              "Analysis name:               Data Analysis \n",
              "Analysis is strand specific: no \n",
              "Working directory:           '/tmp/RtmpsE3ajd/FRASER' \n",
              "\n",
              "-------------------- BAM parameters --------------------\n",
              "Default used with: bamMapqFilter=0\n"
            ]
          },
          "metadata": {
            "tags": []
          }
        }
      ]
    },
    {
      "cell_type": "markdown",
      "metadata": {
        "id": "JPsiZI9gPV2j",
        "colab_type": "text"
      },
      "source": [
        "### Sample co-variation\n",
        "\n",
        "Since $\\psi$ values are ratios within a sample, one might think that there should not be as much correlation structure as observed in gene expression data within the splicing data.\n",
        "\n",
        "This is not true as we do see strong sample co-variation across different tissues and cohorts. Let's have a look into our data to see if we do have correlation structure or not. To have a better estimate, we use the logit transformed $\\psi$ values to compute the correlation. "
      ]
    },
    {
      "cell_type": "code",
      "metadata": {
        "id": "lUir1fG1Oh6T",
        "colab_type": "code",
        "colab": {
          "base_uri": "https://localhost:8080/",
          "height": 180
        },
        "outputId": "7e16fcfe-ad6b-4f9e-d5c7-4a8faee2027f"
      },
      "source": [
        "# Make heatmap figure bigger\n",
        "options(repr.plot.width=6, repr.plot.height=5)\n",
        "\n",
        "plotCountCorHeatmap(fds, type=\"psi5\", logit=TRUE)"
      ],
      "execution_count": null,
      "outputs": [
        {
          "output_type": "error",
          "ename": "ERROR",
          "evalue": "ignored",
          "traceback": [
            "Error in .local(object, ...): unused argument (normalized = normalized)\nTraceback:\n",
            "1. plotCountCorHeatmap(fds, type = \"psi5\", logit = TRUE)",
            "2. as.matrix(log2(counts(ods, normalized = normalized) + 1))",
            "3. counts(ods, normalized = normalized)",
            "4. counts(ods, normalized = normalized)"
          ]
        }
      ]
    },
    {
      "cell_type": "markdown",
      "metadata": {
        "colab_type": "text",
        "id": "Rg14hsSbQ07v"
      },
      "source": [
        "## Detection of aberrant splicing events\n",
        "\n",
        "After preprocessing the raw data and visualizing it, we can start our analysis. Let's start with the first step in the aberrant splicing detection: the model fitting."
      ]
    },
    {
      "cell_type": "markdown",
      "metadata": {
        "id": "h3pBQc30thTU",
        "colab_type": "text"
      },
      "source": [
        "\n",
        "### Fitting the splicing model\n",
        "\n",
        "During the fitting procedure, we will normalize the data and correct for confounding effects by using a denoising autoencoder.  Here we use a predefined latent space with a dimension $q=10$. Using the correct dimension is crucial to have the best performance. Alternatively, one can also use a PCA to correct the data."
      ]
    },
    {
      "cell_type": "code",
      "metadata": {
        "colab_type": "code",
        "id": "ZEBXzaoOQ070",
        "colab": {}
      },
      "source": [
        "fds <- FRASER(fds, q=10,\n",
        "        correction=\"PCA\", # we use the PCA approach here to speed up the tutorial\n",
        "        BPPARAM=MulticoreParam(4, progressbar=TRUE)) # Should take around 3 min"
      ],
      "execution_count": null,
      "outputs": []
    },
    {
      "cell_type": "markdown",
      "metadata": {
        "id": "0qLLcEvET6QX",
        "colab_type": "text"
      },
      "source": [
        "Let's see how well the correction worked by looking at the correlation heatmap again."
      ]
    },
    {
      "cell_type": "code",
      "metadata": {
        "id": "jLqkLPNjWfUm",
        "colab_type": "code",
        "colab": {}
      },
      "source": [
        "plotCountCorHeatmap(fds, type=\"psi5\", normalized=TRUE, logit=TRUE)"
      ],
      "execution_count": null,
      "outputs": []
    },
    {
      "cell_type": "markdown",
      "metadata": {
        "id": "fXLx33RpWH3C",
        "colab_type": "text"
      },
      "source": [
        "### Calling splicing outliers\n",
        "\n",
        "Again, before we extract the results let's add the interpretable HGNC symbols. *FRASER* comes already with an annotation function. The function uses **biomaRt** in the background to overlap the genomic ranges with the known HGNC symbols. "
      ]
    },
    {
      "cell_type": "markdown",
      "metadata": {
        "id": "KwZgc1tmu8Vz",
        "colab_type": "text"
      },
      "source": [
        "Here we assume a beta binomial distribution and call outliers based on the significance level. But again the user can choose between a p value cutoff, a Z score cutoff or both. \n"
      ]
    },
    {
      "cell_type": "code",
      "metadata": {
        "id": "fiTBJnbPWmfS",
        "colab_type": "code",
        "colab": {}
      },
      "source": [
        "# annotate\n",
        "# fds <- annotateRanges(fds)\n",
        "\n",
        "# retrive results\n",
        "res <- results(fds)\n",
        "res"
      ],
      "execution_count": null,
      "outputs": []
    },
    {
      "cell_type": "markdown",
      "metadata": {
        "id": "DqstThffyjWm",
        "colab_type": "text"
      },
      "source": [
        "## Finding splicing candidates in a patient\n",
        "\n",
        "We worked already with the following patient: **NA11918**, in whom we found downregulation of **TIMMDC1**.\n",
        "\n",
        "Let's see if we also got some splicing candidates for the same sample."
      ]
    },
    {
      "cell_type": "code",
      "metadata": {
        "id": "aNezVDY93-8P",
        "colab_type": "code",
        "colab": {}
      },
      "source": [
        "# Make the plotting area smaller again\n",
        "options(repr.plot.width=4, repr.plot.height=4)\n",
        "\n",
        "plotVolcano(fds, type=\"psi5\", \"NA11918\")"
      ],
      "execution_count": null,
      "outputs": []
    },
    {
      "cell_type": "markdown",
      "metadata": {
        "id": "EeDrKfor4GBM",
        "colab_type": "text"
      },
      "source": [
        "Which are the splicing events in detail? Do they fit with our previous candidate? "
      ]
    },
    {
      "cell_type": "code",
      "metadata": {
        "id": "JH4Tg5fqX8ts",
        "colab_type": "code",
        "colab": {}
      },
      "source": [
        "res[res$sampleID == \"NA11918\"]"
      ],
      "execution_count": null,
      "outputs": []
    },
    {
      "cell_type": "markdown",
      "metadata": {
        "id": "XM7SrNMyzaVO",
        "colab_type": "text"
      },
      "source": [
        "Since we do detect the same gene again, let's have a look at the junction level."
      ]
    },
    {
      "cell_type": "code",
      "metadata": {
        "id": "p7L6JiynYO5Q",
        "colab_type": "code",
        "colab": {}
      },
      "source": [
        "plotExpression(fds, type=\"psi5\", result=res[2])"
      ],
      "execution_count": null,
      "outputs": []
    },
    {
      "cell_type": "markdown",
      "metadata": {
        "id": "_Z2KJXeG4rqD",
        "colab_type": "text"
      },
      "source": [
        "That we do find the same gene through two different approaches increases the confidence in the event. Further, it gives clues on the mechanism of the event (eg. NMD through alternative isoforms). But further investigations of causal variants are needed."
      ]
    },
    {
      "cell_type": "markdown",
      "metadata": {
        "colab_type": "text",
        "id": "EoGM9c36oiMr"
      },
      "source": [
        "# Mono Allelic Expression\n",
        "\n",
        "For a short introduction to MAE please refer to the [slides](https://docs.google.com/presentation/d/1a7KZ6FXwVmGqF-FMAnz0QTk07WgzRWAbFhSNrUBspIQ/edit?pli=1#slide=id.g64b01c344e_4_388)."
      ]
    },
    {
      "cell_type": "markdown",
      "metadata": {
        "colab_type": "text",
        "id": "nJwp83WToiMy"
      },
      "source": [
        "## Load the allelic counts\n",
        "---\n",
        "\n",
        "For the MAE analysis we will use the *tMAE* package.\n"
      ]
    },
    {
      "cell_type": "code",
      "metadata": {
        "colab_type": "code",
        "id": "EfKgy42CoiMy",
        "colab": {}
      },
      "source": [
        "library(ggplot2)\n",
        "library(data.table)\n",
        "library(tMAE)"
      ],
      "execution_count": null,
      "outputs": []
    },
    {
      "cell_type": "markdown",
      "metadata": {
        "colab_type": "text",
        "id": "hNSapWcyoiM1"
      },
      "source": [
        "Now we can load the allelic counts. For this tutorial we only use 2 samples and a subset of the variants. \n"
      ]
    },
    {
      "cell_type": "code",
      "metadata": {
        "id": "eQli_QjIV48O",
        "colab_type": "code",
        "colab": {}
      },
      "source": [
        "# allelic counts generated using ASEReadCounter\n",
        "allelicCountsFile <- 'https://i12g-gagneurweb.in.tum.de/public/workshops/RNAseq_ASHG19/input_data/mae/allelic_counts.tsv.gz'\n",
        "allelicCounts <- fread(allelicCountsFile)\n",
        "\n",
        "# print data\n",
        "allelicCounts[1:4,]\n",
        "dim(allelicCounts)"
      ],
      "execution_count": null,
      "outputs": []
    },
    {
      "cell_type": "markdown",
      "metadata": {
        "id": "BB3IuqU4mEYc",
        "colab_type": "text"
      },
      "source": [
        "Check the existing samples in the table."
      ]
    },
    {
      "cell_type": "code",
      "metadata": {
        "id": "JLjx7awCiTI8",
        "colab_type": "code",
        "colab": {}
      },
      "source": [
        "print('IDs in table')\n",
        "unique(allelicCounts$MAE_ID)"
      ],
      "execution_count": null,
      "outputs": []
    },
    {
      "cell_type": "markdown",
      "metadata": {
        "id": "3yJjtE_Aj81I",
        "colab_type": "text"
      },
      "source": [
        "Plot counts of alternative vs reference allele. Which ones would you say are mono-allelically expressed?"
      ]
    },
    {
      "cell_type": "code",
      "metadata": {
        "id": "coDy8veikA0f",
        "colab_type": "code",
        "colab": {}
      },
      "source": [
        "ggplot(allelicCounts, aes(refCount+1, altCount+1)) + geom_point() +\n",
        "    geom_abline(slope=1, intercept=0) + \n",
        "    scale_y_log10() + scale_x_log10() + theme_bw()\n"
      ],
      "execution_count": null,
      "outputs": []
    },
    {
      "cell_type": "markdown",
      "metadata": {
        "id": "4m8c3CCMcshl",
        "colab_type": "text"
      },
      "source": [
        "## Run MAE test\n",
        "---\n",
        "Now we are ready to run the negative binomial test using the `DESeq4MAE` function from the *tMAE* package"
      ]
    },
    {
      "cell_type": "code",
      "metadata": {
        "id": "CUh7t_9AjaxY",
        "colab_type": "code",
        "colab": {}
      },
      "source": [
        "resMAE <- DESeq4MAE(allelicCounts, minCoverage = 10)\n",
        "head(resMAE)"
      ],
      "execution_count": null,
      "outputs": []
    },
    {
      "cell_type": "markdown",
      "metadata": {
        "id": "BzO4PvAdceGW",
        "colab_type": "text"
      },
      "source": [
        "### Determine the number of mono-allelic events\n",
        "\n",
        "We define a variant to be mono-allelically expressed if its p-adjusted < 0.05. Determine how many mono-allelic events there are per sample.\n",
        "\n",
        "\n"
      ]
    },
    {
      "cell_type": "code",
      "metadata": {
        "id": "JlqRO2Do8G9J",
        "colab_type": "code",
        "colab": {}
      },
      "source": [
        "# Add significant column\n",
        "resMAE[, signif := padj < 0.05]\n",
        "\n",
        "# Get number of cases\n",
        "print('MAE significant variants')\n",
        "resMAE[signif == TRUE, .N, by = MAE_ID]"
      ],
      "execution_count": null,
      "outputs": []
    },
    {
      "cell_type": "markdown",
      "metadata": {
        "id": "wBA-mJXW5VHa",
        "colab_type": "text"
      },
      "source": [
        "In the rare disease setting, variants that are mono-allelically expressed for the altervative are more interesting. We define them as having a ratio of the alternative $\\ge 0.8$ and an $FDR < 0.05$. \n",
        "\n",
        "Determine how many mono-allelic events for the **alternative** allele there are per sample."
      ]
    },
    {
      "cell_type": "code",
      "metadata": {
        "id": "dUFAnxlU5kSM",
        "colab_type": "code",
        "colab": {}
      },
      "source": [
        "# Add column for significant mono-allelic expression of the alternative\n",
        "resMAE[, signif_ALT := signif == TRUE & altRatio >= 0.8]\n",
        "\n",
        "# Get number of cases\n",
        "print('MAE for the alternative significant variants')\n",
        "resMAE[signif_ALT == TRUE, .N, by = MAE_ID]"
      ],
      "execution_count": null,
      "outputs": []
    },
    {
      "cell_type": "markdown",
      "metadata": {
        "id": "jlBjyEnfE-C7",
        "colab_type": "text"
      },
      "source": [
        "## Find rare variants and integrate them to results\n",
        "---\n",
        "Add minor allele frequencies from [gnomAD](https://gnomad.broadinstitute.org/). The following code snippet requires the gnomAD libraries to be downloaded which are ~5GB each as they contain the minor allele frequencies of the whole genome. Therefore, we will not execute it here, but simply read the results object with annotated allele frequencies."
      ]
    },
    {
      "cell_type": "code",
      "metadata": {
        "id": "9tvMsA-sGhpb",
        "colab_type": "code",
        "colab": {}
      },
      "source": [
        "## If your data is based on assembly hg37\n",
        "# library(MafDb.gnomAD.r2.1.hs37d5)\n",
        "# mafdb <- MafDb.gnomAD.r2.1.hs37d5\n",
        "\n",
        "## If your data is based on assembly hg38\n",
        "# library(MafDb.gnomAD.r2.1.GRCh38)\n",
        "# mafdb <- MafDb.gnomAD.r2.1.GRCh38\n",
        "\n",
        "## convert results table into GRanges object\n",
        "# rng <- GRanges(seqnames = data$contig, \n",
        "#               ranges = IRanges(start = data$position, end = data$position), \n",
        "#               strand = '*')\n",
        "# resMAE$gnomadAF <- gscores(mafdb, rng)$AF\n"
      ],
      "execution_count": null,
      "outputs": []
    },
    {
      "cell_type": "markdown",
      "metadata": {
        "id": "ajs9vO3kGVeu",
        "colab_type": "text"
      },
      "source": [
        "Read the annotated results. How many rare variants are there?"
      ]
    },
    {
      "cell_type": "code",
      "metadata": {
        "id": "BQ9TOc1NHo4g",
        "colab_type": "code",
        "colab": {}
      },
      "source": [
        "# Merge results with annotation object\n",
        "resAnnot <- fread('https://i12g-gagneurweb.in.tum.de/public/workshops/RNAseq_ASHG19/input_data/mae/mae_annotated_results.tsv.gz')\n",
        "\n",
        "resAnnot[, rare := (gnomadAF <= 0.01 | is.na(gnomadAF))]\n",
        "print('Number of rare events in total (including non significant variants)')\n",
        "resAnnot[rare == TRUE, .N]\n"
      ],
      "execution_count": null,
      "outputs": []
    },
    {
      "cell_type": "markdown",
      "metadata": {
        "id": "BAcYfGGcn8Q2",
        "colab_type": "text"
      },
      "source": [
        "Which are the rare mono-allelic events of these 2 samples?"
      ]
    },
    {
      "cell_type": "code",
      "metadata": {
        "id": "o3p82qNRkhmP",
        "colab_type": "code",
        "colab": {}
      },
      "source": [
        "resAnnot[signif_ALT == TRUE & rare == TRUE]"
      ],
      "execution_count": null,
      "outputs": []
    },
    {
      "cell_type": "markdown",
      "metadata": {
        "id": "0pDVhzNMlDiR",
        "colab_type": "text"
      },
      "source": [
        "Visualize them using the `plotAllelicCounts` function from the tMAE pkg"
      ]
    },
    {
      "cell_type": "code",
      "metadata": {
        "id": "Tcfq4Nx2lFG1",
        "colab_type": "code",
        "colab": {}
      },
      "source": [
        "sample1 <- 'HG00106'\n",
        "plotAllelicCounts(resAnnot[MAE_ID == sample1], \n",
        "        rare_column = 'rare', title = sample1) +\n",
        "    theme(legend.position=\"bottom\")\n"
      ],
      "execution_count": null,
      "outputs": []
    },
    {
      "cell_type": "code",
      "metadata": {
        "id": "YSZD-KbZlQUy",
        "colab_type": "code",
        "colab": {}
      },
      "source": [
        "sample2 <- 'HG00111'\n",
        "plotAllelicCounts(resAnnot[MAE_ID == sample2], \n",
        "        rare_column = 'rare', title = sample2) + \n",
        "    theme(legend.position=\"bottom\")"
      ],
      "execution_count": null,
      "outputs": []
    },
    {
      "cell_type": "markdown",
      "metadata": {
        "id": "UT4bGtbpqE39",
        "colab_type": "text"
      },
      "source": [
        "After running the test and adding minor allele frequencies for all the 100 samples in the data set, we obtained the following results for each filter:\n",
        "\n",
        "<img src=\"https://github.com/c-mertes/RNAseq-ASHG19/raw/master/src/cascade_plot.png\" alt=\"no image\" width=\"400\"/>"
      ]
    },
    {
      "cell_type": "markdown",
      "metadata": {
        "id": "m3Kky_BIo7Qg",
        "colab_type": "text"
      },
      "source": [
        "For further validation, obtain gene and type of variant from the annotated VCF file (more info on next section)."
      ]
    },
    {
      "cell_type": "markdown",
      "metadata": {
        "colab_type": "text",
        "id": "8yAm0Ar3qVEQ"
      },
      "source": [
        "# Gene prioritization\n",
        "\n",
        "\n",
        "**It is not uncommon to have more than one candidate outlier gene when looking at expression, splicing or allele specific events. It is useful to kown that there are ways to prioritize those genes.\n",
        "Here we will see how coming back to phenotype and genotype data can help reduce the list of candidates in a case informed way.** \n",
        "\n",
        "Because of time constraint, we will focus on an example with genes obtained from expression outliers. In real life, you can apply the same strategy to other types of candidates, such as splicing or ASE outliers. \n",
        "\n",
        "\n"
      ]
    },
    {
      "cell_type": "markdown",
      "metadata": {
        "colab_type": "text",
        "id": "VJXOmXryqVEY"
      },
      "source": [
        "## Set up working session\n",
        "---\n",
        "\n",
        "First a few packages need to be loaded. \\\\\n",
        "(1) [VariantAnnotation](https://bioconductor.org/packages/release/bioc/html/VariantAnnotation.html): annotate variants, compute amino acid coding changes, predict coding outcomes. \\\\\n",
        "(2) [TVTB](https://bioconductor.org/packages/release/bioc/html/TVTB.html) (The VCF ToolBox): filter, summarise and visualise genetic variation data stored in VCF files. \\\\\n",
        "(3) [annotables](https://github.com/stephenturner/annotables): annotating/converting Gene IDs. \\\\\n",
        "(4) [tidyverse](https://www.tidyverse.org/): collection of packages designed for data science \\\\\n",
        "(5) [data.table](https://cran.r-project.org/web/packages/data.table/vignettes/datatable-intro.html): data manipulation operations "
      ]
    },
    {
      "cell_type": "code",
      "metadata": {
        "colab_type": "code",
        "id": "y4wIEjCdqVEZ",
        "colab": {}
      },
      "source": [
        "library(VariantAnnotation)\n",
        "library(TVTB)\n",
        "library(annotables)\n",
        "library(ensemblVEP)\n",
        "library(tidyverse)\n",
        "library(data.table)"
      ],
      "execution_count": null,
      "outputs": []
    },
    {
      "cell_type": "markdown",
      "metadata": {
        "colab_type": "text",
        "id": "5AG0QkB_qVEd"
      },
      "source": [
        "\n",
        "\n",
        "## Case 1\n",
        "This boy was the third child of healthy non-consanguineous French parents. Pregnancy and delivery were uneventful. Early psychomotor development was normal. However, speech development was delayed, acquiring language at the age of 4. At 11, he began to experience psychomotor regression and progressive visual loss. At current (by the time of the publication) age of 47, he has severe walking difficulties, blindness, abnormal behaviour (easily frightened, sometimes aggressive) and spontaneous speech.\n",
        "\n",
        "In our dataset, this sample is named **NA11918**\n",
        "\n",
        "### Get list of candidate genes from OUTRIDER\n",
        "Here we download the list of outlier gene that you generated using OUTRIDER in an earlier session."
      ]
    },
    {
      "cell_type": "code",
      "metadata": {
        "colab_type": "code",
        "id": "YahVKb-EqVEd",
        "colab": {}
      },
      "source": [
        "# Download list of candidates\n",
        "results_link=\"https://i12g-gagneurweb.in.tum.de/public/workshops/RNAseq_ASHG19/input_data/outrider/results_pvalue.tsv.gz\"\n",
        "outrider_results_genes=fread(results_link)\n",
        "\n",
        "# Filter for the case of interest\n",
        "outrider_results_genes=outrider_results_genes %>%\n",
        "        filter(sampleID==\"NA11918\") %>%\n",
        "        select(geneID) %>%\n",
        "        unlist\n",
        "\n",
        "# Take a look at what the genes list look like\n",
        "head(outrider_results_genes)\n",
        "\n",
        "# Get the number of candidate genes for that case\n",
        "print(\"The total number of candidate genes within this case:\")\n",
        "length(outrider_results_genes)\n"
      ],
      "execution_count": null,
      "outputs": []
    },
    {
      "cell_type": "markdown",
      "metadata": {
        "id": "RUcP3hHvP866",
        "colab_type": "text"
      },
      "source": [
        "You can see that the gene names are not totally in an Ensembl format. The number you see correspond to a version of the annotation.\n",
        "The gene names need to be reformated so that we keep only the official gene name in our analyses.\n",
        "\n",
        "\n",
        "We also see that we have 22 candidate genes."
      ]
    },
    {
      "cell_type": "code",
      "metadata": {
        "id": "rQeXEskjQEk8",
        "colab_type": "code",
        "colab": {}
      },
      "source": [
        "# Modify gene format\n",
        "outrider_results_genes=str_extract(outrider_results_genes, \"ENSG[0-9]+\")\n",
        "\n",
        "\n",
        "# Look at the changes\n",
        "head(outrider_results_genes)\n"
      ],
      "execution_count": null,
      "outputs": []
    },
    {
      "cell_type": "markdown",
      "metadata": {
        "id": "-2Y9fpquSE9L",
        "colab_type": "text"
      },
      "source": [
        "Now the gene name correspond to the official Ensembl symbols. It is possible to get a bit more information on those. \n",
        "In particular we can easily obtain their symbol and description using the package ` annotable `.\n"
      ]
    },
    {
      "cell_type": "code",
      "metadata": {
        "id": "7pvzOio8SLk1",
        "colab_type": "code",
        "colab": {}
      },
      "source": [
        "# Query annotable Grch37 object and keep only genes that are in the list of outliers\n",
        "candidate_genes=grch37 %>% filter(ensgene %in% outrider_results_genes)\n",
        "\n",
        "# Look at the results\n",
        "head(candidate_genes)"
      ],
      "execution_count": null,
      "outputs": []
    },
    {
      "cell_type": "markdown",
      "metadata": {
        "id": "PEZN3AVWQcIU",
        "colab_type": "text"
      },
      "source": [
        "We now have the list of candidate genes and a bit more information on what they are. We are ready to filter this list to keep only the genes that are linked to the symptoms of the case of interest.\n",
        "\n",
        "In our case, symptoms are:\n",
        "* Developmental regression ([HP:0002376](https://hpo.jax.org/app/browse/term/HP:0002376))\n",
        "* Ataxia([HP:0001251](https://hpo.jax.org/app/browse/term/HP:0001251))\n",
        "* Ophthalmoplegia ([HP:0000602](https://hpo.jax.org/app/browse/term/HP:0000602))\n",
        "* Visual impairment ([HP:0000505](https://hpo.jax.org/app/browse/term/HP:0000505))\n",
        "\n",
        "\n",
        "As you can see, there is an ID beside each symptom. Those are HPO term IDs, as found in the Human Phenotype Ontology [database](https://hpo.jax.org/app/).\n"
      ]
    },
    {
      "cell_type": "markdown",
      "metadata": {
        "colab_type": "text",
        "id": "BMBlQOojqVEm"
      },
      "source": [
        "### Annotate candidate genes with HPO terms\n",
        "#### Read in sample phenotype metadata\n"
      ]
    },
    {
      "cell_type": "code",
      "metadata": {
        "colab_type": "code",
        "id": "LGDvfU0qqVEn",
        "colab": {}
      },
      "source": [
        "# We define the list of HPO terms for the case\n",
        "sample_HPO=c(\"HP:0002376\",\"HP:0001251\", \"HP:0000602\",\"HP:0000505\")\n",
        "\n",
        "sample_HPO"
      ],
      "execution_count": null,
      "outputs": []
    },
    {
      "cell_type": "markdown",
      "metadata": {
        "colab_type": "text",
        "id": "hlNnFjkgqVEp"
      },
      "source": [
        "#### Load gene to HPO ID file from HPO database \n",
        "The Human Phenotype Ontology gives access to a very useful file, showing the link between symptoms and genes. This file is updated regularly so we recommend to **download the latest version** whenever possible.\n",
        "\n",
        "You can download this file [here](http://compbio.charite.de/jenkins/job/hpo.annotations.monthly/lastStableBuild/artifact/annotation/ALL_SOURCES_FREQUENT_FEATURES_phenotype_to_genes.txt)"
      ]
    },
    {
      "cell_type": "code",
      "metadata": {
        "id": "NvVQom5fvSyz",
        "colab_type": "code",
        "colab": {}
      },
      "source": [
        "\n",
        "# Get the file URL\n",
        "hpo_annotations_url =\"http://compbio.charite.de/jenkins/job/hpo.annotations.monthly/lastStableBuild/artifact/annotation/ALL_SOURCES_FREQUENT_FEATURES_phenotype_to_genes.txt\"\n",
        "\n",
        "# Read the file\n",
        "gene_hpo <-fread(hpo_annotations_url, skip=1)\n",
        "\n",
        "# Select only the columns of interest (Gene and HPO term)\n",
        "gene_hpo <- gene_hpo[, c(4, 1)]\n",
        "colnames(gene_hpo) <- c(\"Gene\", \"Term\")\n",
        "\n",
        "# Look at the results\n",
        "head(gene_hpo)"
      ],
      "execution_count": null,
      "outputs": []
    },
    {
      "cell_type": "markdown",
      "metadata": {
        "id": "Mx3FxTvUclS1",
        "colab_type": "text"
      },
      "source": [
        "#### Get subset of genes that could match symptoms list\n",
        "Now that we have downloaded that file, we want to keep only the genes that are phenotypically relevant to the case.\n",
        "\n",
        "1. Filter for HPO terms corresponding to the case\n",
        "2. Obtain the Ensembl IDs for the genes that are associated to those HPO terms\n"
      ]
    },
    {
      "cell_type": "code",
      "metadata": {
        "id": "N2vn-AS-ZzG5",
        "colab_type": "code",
        "colab": {}
      },
      "source": [
        "# Get list of genes corresponding to the case symptoms.\n",
        "genes_hpo_case=gene_hpo %>% \n",
        "        filter(Term %in% sample_HPO) %>% \n",
        "        left_join(grch37,by=c(\"Gene\"=\"symbol\"))\n",
        "genes_hpo_case=genes_hpo_case %>% \n",
        "        select(ensgene) %>% \n",
        "        unique %>% \n",
        "        unlist\n",
        "head(genes_hpo_case)"
      ],
      "execution_count": null,
      "outputs": []
    },
    {
      "cell_type": "markdown",
      "metadata": {
        "id": "5MxWC6OznCOo",
        "colab_type": "text"
      },
      "source": [
        "`genes_hpo_case` contains the Ensembl IDs of genes associated with HPO terms for the case."
      ]
    },
    {
      "cell_type": "markdown",
      "metadata": {
        "id": "2T5lbU7Qsdwb",
        "colab_type": "text"
      },
      "source": [
        "You can quicly check how many genes are currently linked with the symptoms of your case of interest."
      ]
    },
    {
      "cell_type": "code",
      "metadata": {
        "id": "syt-E_WpsoNa",
        "colab_type": "code",
        "colab": {}
      },
      "source": [
        "# Get number of genes linked to case symptoms\n",
        "length(genes_hpo_case)"
      ],
      "execution_count": null,
      "outputs": []
    },
    {
      "cell_type": "markdown",
      "metadata": {
        "id": "j3d-6V9lstnN",
        "colab_type": "text"
      },
      "source": [
        "There are 1,519 genes that could match some of the patient's symtoms."
      ]
    },
    {
      "cell_type": "markdown",
      "metadata": {
        "id": "3Cv3DM7CIpT5",
        "colab_type": "text"
      },
      "source": [
        "\n",
        "\n",
        "---\n",
        "\n",
        "\n",
        "\n",
        "#### Subset the list of genes to outlier candidates \n",
        "Here the assumption is that if there is an expression perturbation on the causal gene, this gene is somehow linked to some of the symtoms of the patient.\\\n",
        "So we want to **filter** the list of genes somehow linked to the patients symptoms (listed in `genes_hpo_case`) for the one obtained as candidates in previous work.\n"
      ]
    },
    {
      "cell_type": "code",
      "metadata": {
        "id": "Bx52R3KeekgA",
        "colab_type": "code",
        "colab": {}
      },
      "source": [
        "# Filter outlier genes for genes linked to the phenotype.\n",
        "candidate_genes.hpo=candidate_genes %>% filter(ensgene %in% genes_hpo_case)\n",
        "\n",
        "# Get the number of genes left\n",
        "cat(\"The number of outlier genes left after filtering associated with the disease:\")\n",
        "length(candidate_genes.hpo$ensgene)\n",
        "\n",
        "# Take a look at the results\n",
        "candidate_genes.hpo"
      ],
      "execution_count": null,
      "outputs": []
    },
    {
      "cell_type": "markdown",
      "metadata": {
        "id": "bzkKSVL9-ldj",
        "colab_type": "text"
      },
      "source": [
        "As you can see the list of potential genes is now much reduced. We dropped from 22 candidates to 2 genes, [*MCOLN1*](https://www.genecards.org/cgi-bin/carddisp.pl?gene=MCOLN1) and [*DNMT3A*](https://www.genecards.org/cgi-bin/carddisp.pl?gene=DNMT3A)."
      ]
    },
    {
      "cell_type": "markdown",
      "metadata": {
        "id": "FJmbrV2ruJK_",
        "colab_type": "text"
      },
      "source": [
        "\n",
        "---\n",
        "\n",
        "---\n",
        "\n",
        "### Annotate with variant information\n",
        "\n",
        "We can go further and annotate our candidate with the variant information for the case.\n",
        "\n",
        "To do so, we need to transform the candidate gene list into the right format so that we can use the genes when reading in the [VCF](https://www.internationalgenome.org/wiki/Analysis/Variant%20Call%20Format/vcf-variant-call-format-version-40/) file in R.\n",
        "\n",
        "#### Build a GRanges object with list of genes obtain in previous steps\n",
        "We are using R packages that have been developped to handle and filter VCF files. \n",
        "Here we want to upload only the part of the VCF file that is in regions of interest (ie our candidate genes). We can do this by giving as an input an object of type [GRange](https://web.mit.edu/~r/current/arch/i386_linux26/lib/R/library/GenomicRanges/html/GRanges-class.html).\n",
        "\n",
        "\n",
        "The next steps are transforming our list of candidate genes to the right format so that we can proceed with the analysis.\n",
        "\n",
        "1. Change start and end position to include potential regulatory regions (+/- 1kb here).\n",
        "note that you can customize this distance or use the gene coordinates only.\n"
      ]
    },
    {
      "cell_type": "code",
      "metadata": {
        "id": "ji6EDKN7fGjN",
        "colab_type": "code",
        "colab": {}
      },
      "source": [
        "# Extending the start/end coordinates to 1kb around the gene of interest \n",
        "candidate_genes=candidate_genes.hpo %>% \n",
        "        mutate(new_start=pmin(start,end)-1e3, new_end=pmax(start,end)+1e3)\n",
        "\n",
        "# Take a look at the results\n",
        "head(candidate_genes)"
      ],
      "execution_count": null,
      "outputs": []
    },
    {
      "cell_type": "markdown",
      "metadata": {
        "id": "tENjxDleoUbF",
        "colab_type": "text"
      },
      "source": [
        "2. Transform data frame into GRange object"
      ]
    },
    {
      "cell_type": "code",
      "metadata": {
        "id": "JGNob8EEdvk1",
        "colab_type": "code",
        "colab": {}
      },
      "source": [
        "# Create a GRange Object\n",
        "candidate_genes.gr=makeGRangesFromDataFrame(\n",
        "        candidate_genes, ignore.strand=TRUE,\n",
        "        start.field=\"new_start\",end.field=\"new_end\")\n",
        "\n",
        "# Add gene names in GRanges object\n",
        "names(candidate_genes.gr)=candidate_genes$ensgene\n",
        "\n",
        "candidate_genes.gr"
      ],
      "execution_count": null,
      "outputs": []
    },
    {
      "cell_type": "markdown",
      "metadata": {
        "id": "BWZ2ubNnJeYO",
        "colab_type": "text"
      },
      "source": [
        "#### Load the vcf file\n",
        "Now that we have the coordinates of the candidate genes in the right format, we can process the VCF file.\n",
        "\n",
        "For the purpose of this workshop, the VCF file needs to be annotate with [Variant Effect Predictor](https://uswest.ensembl.org/info/docs/tools/vep/index.html) (VEP), which determines the effect of the variants on genes, transcripts, etc ...\n",
        "\n",
        "Here, we take a subset of the thousand genomes VCF in which we have injected variants of interest.\n"
      ]
    },
    {
      "cell_type": "code",
      "metadata": {
        "id": "r9LsngskpxHD",
        "colab_type": "code",
        "colab": {}
      },
      "source": [
        "# VEP annotated VCF file\n",
        "vcfFile <- \"./variants/1000G_subset_exome.vep.vcf.gz\"\n",
        "\n",
        "# index the VCF file\n",
        "indexVcf(vcfFile)\n",
        "\n",
        "# create a reference \n",
        "vcfFile <- TabixFile(vcfFile)\n",
        "vcfFile"
      ],
      "execution_count": null,
      "outputs": []
    },
    {
      "cell_type": "markdown",
      "metadata": {
        "id": "YL6GMhEE5uu0",
        "colab_type": "text"
      },
      "source": [
        "\n",
        "#### Read in VCF file for sample of interest\n",
        "Here only the sample of interest and variants overlapping the genes of interest will be looked at.\n"
      ]
    },
    {
      "cell_type": "code",
      "metadata": {
        "id": "Ab_yUpCb54L4",
        "colab_type": "code",
        "colab": {}
      },
      "source": [
        "# Create parameter file to read only the data for the case and around candidate genes\n",
        "params=ScanVcfParam(samples=\"NA11918\", which=candidate_genes.gr)\n",
        "\n",
        "# Read in VCF file filtering data using the parameter file we just created\n",
        "vcf_rng <- readVcf(vcfFile, \"hg19\", params)\n",
        "head(rowRanges(vcf_rng), 3)"
      ],
      "execution_count": null,
      "outputs": []
    },
    {
      "cell_type": "markdown",
      "metadata": {
        "id": "s1a-Kz7FFMfu",
        "colab_type": "text"
      },
      "source": [
        "#### Filter for Heterozygous or Homozygous Alt and genes of interest\n",
        "In our situation, the VCF contains genotypes for sites that are homozygous for the reference allele. As we are not interested in those we filter them out.\n",
        "We also make sure that we are looking only at the variants that are annotated for the genes of interest and not genes nearby."
      ]
    },
    {
      "cell_type": "code",
      "metadata": {
        "id": "mpO3ZHs1pSpw",
        "colab_type": "code",
        "colab": {}
      },
      "source": [
        "candidate_genes"
      ],
      "execution_count": null,
      "outputs": []
    },
    {
      "cell_type": "code",
      "metadata": {
        "id": "kVA8nZtNFWWX",
        "colab_type": "code",
        "colab": {}
      },
      "source": [
        "# Create a filter on variants het or homozygous alt\n",
        "Hetfilt <- FilterRules(list(HetorHomAlt = \n",
        "        function(x) geno(x)$GT %in% c(\"0|1\", \"1|1\", \"1|0\")))\n",
        "\n",
        "# Create a filter to keep only candidate gene annotations\n",
        "GeneFilt<-VcfVepRules(exprs = list(Cand_genes = \n",
        "        bquote(SYMBOL %in% .(candidate_genes$symbol) )))                            \n",
        "\n",
        "# Combine those filters\n",
        "combinedPreFilters <- VcfFilterRules(\n",
        "    Hetfilt, \n",
        "    GeneFilt)\n",
        "                            \n",
        "# Apply them on the vcf\n",
        "vcf_het_cand <- subsetByFilter(vcf_rng, combinedPreFilters)\n",
        "\n",
        "rowRanges(vcf_het_cand)"
      ],
      "execution_count": null,
      "outputs": []
    },
    {
      "cell_type": "markdown",
      "metadata": {
        "id": "VsV33kgc7rYX",
        "colab_type": "text"
      },
      "source": [
        "#### Get consequence field\n",
        "In order to see the potential features we can filter on, let's take a look at the consequence field of the VCF"
      ]
    },
    {
      "cell_type": "code",
      "metadata": {
        "id": "MRu35kaO7t64",
        "colab_type": "code",
        "colab": {}
      },
      "source": [
        "# Parse the consequence field of the VCF\n",
        "csq <- parseCSQToGRanges(x=vcf_het_cand, VCFRowID=rownames(vcf_het_cand))\n",
        "csq[, c(\"Consequence\", \"SYMBOL\", \"BIOTYPE\", \"gnomAD_AF\", \"CADD_PHRED\")]"
      ],
      "execution_count": null,
      "outputs": []
    },
    {
      "cell_type": "markdown",
      "metadata": {
        "id": "InQWGQnp7-HE",
        "colab_type": "text"
      },
      "source": [
        "\n",
        "\n",
        "#### Define a set of filters\n",
        "\n",
        "We can create a set of filters that we want to apply on our data, such as distance to transcription start site, allele frequency, [CADD score](https://cadd.gs.washington.edu/), [VEP consequences](https://uswest.ensembl.org/info/genome/variation/prediction/predicted_data.html), etc ... You can customize this and add as many filters as you want."
      ]
    },
    {
      "cell_type": "code",
      "metadata": {
        "id": "2yvxaNn88DDO",
        "colab_type": "code",
        "colab": {}
      },
      "source": [
        "\n",
        "# Filter on distance to the gene\n",
        "vepDistFilter <- VcfVepRules(exprs=list(Distance=expression(DISTANCE <= 1000)))\n",
        "\n",
        "# Filter on allele frequency\n",
        "# Here we allow NAs because some variants are uniq to the individual and hence\n",
        "# not listed in any public database (eg. gnomAD)\n",
        "vepMAFFilter<- VcfVepRules(exprs = list(MAF = \n",
        "        expression(as.numeric(gnomAD_AF) <= 0.01 || gnomAD_AF == \"NA\")))\n",
        "\n",
        "# Filter on CADD score\n",
        "vepCADDFilter <- VcfVepRules(exprs = list(CADD=expression(CADD_PHRED >= 20)))\n",
        "\n",
        "# Filter on consequences\n",
        "highImpactVariant<-VcfVepRules(exprs=list(BigImpact=\n",
        "        expression(grepl(x=Consequence, pattern=paste(collapse=\"|\", c(\n",
        "                \"splice_acceptor_variant\", \"splice_donor_variant\", \n",
        "                \"stop_gained\", \"stop_lost\",\"frameshift_variant\"))))))\n",
        "\n",
        "regulatoryVariant<-VcfVepRules(exprs=list(RegVar=\n",
        "        expression(grepl(x=Consequence, pattern=paste(collapse=\"|\", c(\n",
        "                \"5_prime_UTR_variant\", \"3_prime_UTR_variant\", \"intron_variant\",\n",
        "                \"NMD_transcript_variant\", \"upstream_gene_variant\", \n",
        "                \"downstream_gene_variant\"))))))\n",
        "\n",
        "combinedFilters <- VcfFilterRules(\n",
        "  vepDistFilter,\n",
        "  vepMAFFilter,\n",
        "  vepCADDFilter, \n",
        "  highImpactVariant,\n",
        "  regulatoryVariant)"
      ],
      "execution_count": null,
      "outputs": []
    },
    {
      "cell_type": "markdown",
      "metadata": {
        "id": "w7Ap1-eQ8MFZ",
        "colab_type": "text"
      },
      "source": [
        "You can play and add or remove filters"
      ]
    },
    {
      "cell_type": "code",
      "metadata": {
        "id": "gk4m1EUW8OIF",
        "colab_type": "code",
        "colab": {}
      },
      "source": [
        "# Look at active filters\n",
        "active(combinedFilters)"
      ],
      "execution_count": null,
      "outputs": []
    },
    {
      "cell_type": "markdown",
      "metadata": {
        "id": "2BEkjKGRMd2U",
        "colab_type": "text"
      },
      "source": [
        "Here we are gonna focus only on **rare** variants"
      ]
    },
    {
      "cell_type": "code",
      "metadata": {
        "id": "RgeHOMsj8RhZ",
        "colab_type": "code",
        "colab": {}
      },
      "source": [
        "active(combinedFilters)[\"BigImpact\"] <- FALSE\n",
        "active(combinedFilters)[\"RegVar\"] <- FALSE\n",
        "active(combinedFilters)[\"Distance\"] <- FALSE\n",
        "active(combinedFilters)[\"CADD\"] <- FALSE\n",
        "\n",
        "active(combinedFilters)[\"MAF\"] <- TRUE\n",
        "\n",
        "active(combinedFilters)"
      ],
      "execution_count": null,
      "outputs": []
    },
    {
      "cell_type": "markdown",
      "metadata": {
        "id": "cLYAwOIV8Ws_",
        "colab_type": "text"
      },
      "source": [
        "#### Apply set of filters"
      ]
    },
    {
      "cell_type": "code",
      "metadata": {
        "id": "aBepEGyJ8WS0",
        "colab_type": "code",
        "colab": {}
      },
      "source": [
        "# subset VCF with active filters\n",
        "vcf_filt <- subsetByFilter(vcf_het_cand, combinedFilters)\n",
        "\n",
        "csq_filt <- ensemblVEP::parseCSQToGRanges(x = vcf_filt)\n",
        "\n",
        "unique(csq_filt[,c(\"Consequence\", \"SYMBOL\", \"BIOTYPE\", \"gnomAD_AF\",\"CADD_PHRED\")])"
      ],
      "execution_count": null,
      "outputs": []
    },
    {
      "cell_type": "markdown",
      "metadata": {
        "id": "ro4UehRPZrBv",
        "colab_type": "text"
      },
      "source": [
        "There are only two rare variants in our example. They are both in the same gene, *MCOLN1* which was previously involved in a [disorder](https://www.omim.org/entry/252650#title) linked to ophthalmologic abnormalities, difficulty to speak, slow development. This gene looks like a very good candidate for our case. The presence of those two mutations, one leading to intron retention and the other one leading to a stop codon are good candidates.\n",
        "\n",
        "\n",
        "\n",
        "In order to see how many variants are left after each filter you can do the following command. Please note that filters that are not active will have no effect on the initial number of variants.\n",
        "\n"
      ]
    },
    {
      "cell_type": "code",
      "metadata": {
        "id": "wsvLss7J8WQ6",
        "colab_type": "code",
        "colab": {}
      },
      "source": [
        "# Look at number of variants left for each set of filters\n",
        "summary(evalSeparately(expr=combinedFilters, envir=vcf_het_cand))\n"
      ],
      "execution_count": null,
      "outputs": []
    },
    {
      "cell_type": "markdown",
      "metadata": {
        "id": "fpjZ9tsMjlxz",
        "colab_type": "text"
      },
      "source": [
        "\n",
        "\n",
        "---\n",
        "\n",
        "\n",
        "\n",
        "---\n",
        "\n",
        "\n",
        "\n",
        "## Playground Case 2\n",
        "You can try to prioritize other genes by looking at this case **HG00132**.\n",
        "\n",
        "\n",
        "~12 yo Hispanic female with global developmental delay after normal development until age 18 months, then loss of milestones, head control, and speech; tremors at 21 months; and seizures at 22 months.  Occasional myoclonus, not correlative to EEG.  Gastrostomy fed.  Scoliosis. Brother similiarly affected.\n",
        "\n",
        "\n",
        "The HPO terms for this case are: HP:0001250,HP:0001298,HP:0002015,HP:0002650,HP:0001263,HP:0002376,HP:0002421,HP:0002371,HP:0001337,HP:0001336,HP:0001260,HP:0003676\n",
        "\n",
        "The results file for splicing outliers is [here](https://i12g-gagneurweb.in.tum.de/public/workshops/RNAseq_ASHG19/input_data/splicing/results_pvalue.tsv.gz)\n",
        "\n",
        "\n",
        "The vcf containg variant infromation for HG00132 is [here](https://i12g-gagneurweb.in.tum.de/public/workshops/RNAseq_ASHG19/input_data/variants/1000G_subset_exome.vep.vcf.gz)\n",
        "\n",
        "\n",
        "This case was solved in this [paper](https://www.nature.com/articles/s41591-019-0457-8)"
      ]
    }
  ]
}